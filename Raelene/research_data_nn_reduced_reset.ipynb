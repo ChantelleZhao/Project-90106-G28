{
 "cells": [
  {
   "cell_type": "code",
   "execution_count": 15,
   "metadata": {},
   "outputs": [],
   "source": [
    "import numpy as np\n",
    "import pandas as pd\n",
    "from tqdm import tqdm\n",
    "from matplotlib import style\n",
    "import matplotlib.pyplot as plt\n",
    "import random\n",
    "import torch\n",
    "import torch.nn.functional as F\n",
    "from torch.autograd import Variable\n",
    "import torchvision.transforms as transforms\n",
    "import torchvision.datasets as dsets\n",
    "from sklearn.model_selection import GridSearchCV\n",
    "style.use(\"ggplot\")\n",
    "\n",
    "def plot(train_rolling_loss,dev_rolling_loss,train_rolling_acc,dev_rolling_acc):\n",
    "    plt.figure(figsize=(15,10))\n",
    "    plt.subplot(221)\n",
    "    plt.plot(train_rolling_loss,label=\"training\")\n",
    "    plt.plot(dev_rolling_loss,label=\"dev\")\n",
    "    plt.title(\"Rolling Loss\",loc='center')\n",
    "    plt.legend(loc=1)\n",
    "    plt.subplot(222)\n",
    "    plt.plot(train_rolling_acc,label=\"training\")\n",
    "    plt.plot(dev_rolling_acc,label=\"dev\")\n",
    "    plt.title(\"Rolling Accuracy\",loc='center')\n",
    "    plt.legend(loc=0)\n",
    "    plt.show()"
   ]
  },
  {
   "cell_type": "markdown",
   "metadata": {},
   "source": [
    "## 1. Process Data"
   ]
  },
  {
   "cell_type": "code",
   "execution_count": 48,
   "metadata": {},
   "outputs": [
    {
     "data": {
      "text/plain": [
       "Index(['Id', 'StageName', 'Status_Reason__c', 'RecordType.Name',\n",
       "       'RICE_Supported__c', 'CreatedDate', 'CloseDate', 'Actual_Close_Date__c',\n",
       "       'AccountId', 'Lead_Faculty__c', 'Lead_School__c',\n",
       "       'Parent_Opportunity__c', 'RecordType.Name.1', 'Industry',\n",
       "       'Industry_Sub_Type__c', 'Business_Type__c', 'Is_External__c',\n",
       "       'ParentId', 'CloseYear', 'CloseMonth', 'CreatedYear', 'CreatedMonth',\n",
       "       ' Time_length'],\n",
       "      dtype='object')"
      ]
     },
     "execution_count": 48,
     "metadata": {},
     "output_type": "execute_result"
    }
   ],
   "source": [
    "## reading clean data\n",
    "data = pd.read_csv('cleaned_6_Sep.csv')\n",
    "data.head()\n",
    "data.describe()\n",
    "data.columns"
   ]
  },
  {
   "cell_type": "code",
   "execution_count": 49,
   "metadata": {},
   "outputs": [],
   "source": [
    "## one-hot-encoding 11\n",
    "\n",
    "a = pd.get_dummies(data[\"Status_Reason__c\"], prefix='Status_Reason')\n",
    "b = pd.get_dummies(data[\"RecordType.Name\"], prefix='RecordType')\n",
    "c = pd.get_dummies(data[\"RICE_Supported__c\"], prefix='RICE_Supported')\n",
    "d = pd.get_dummies(data[\"AccountId\"], prefix='AccountId')\n",
    "e = pd.get_dummies(data[\"Lead_Faculty__c\"], prefix='Lead_Faculty')\n",
    "e1 = pd.get_dummies(data[\"Lead_School__c\"], prefix='Lead_School')\n",
    "f = pd.get_dummies(data[\"RecordType.Name.1\"], prefix='RecordType_ind')\n",
    "g = pd.get_dummies(data[\"Industry\"], prefix='Industry')\n",
    "g1 = pd.get_dummies(data[\"Industry_Sub_Type__c\"], prefix='Industry_Sub_Type')\n",
    "h = pd.get_dummies(data[\"Business_Type__c\"], prefix='Business_Type')\n",
    "#i = pd.get_dummies(data[\"RecordType\"], prefix='RecordType_mixed')\n",
    "j = pd.get_dummies(data[\"Is_External__c\"], prefix='Is_External')\n",
    "\n",
    "org = data[[\"StageName\",\"Actual_Close_Date__c\",\"Parent_Opportunity__c\",\"ParentId\"]]\n",
    "\n",
    "scale1 = data[\"CloseYear\"].div(2050)\n",
    "scale2 = data[\"CloseMonth\"].div(12)\n",
    "scale3 = data[\"CreatedYear\"].div(2020)\n",
    "scale4 = data[\"CreatedMonth\"].div(12)\n",
    "scale5 = data[\" Time_length\"].div(31)\n",
    "\n",
    "df = pd.concat([org,scale1,scale2,scale3,scale4,scale5,a,b,c,d,e,e1,f,g,g1,h,j], axis=1, ignore_index=True)"
   ]
  },
  {
   "cell_type": "code",
   "execution_count": 6,
   "metadata": {},
   "outputs": [],
   "source": [
    "org = data[[\"StageName\",\"Parent_Opportunity__c\",\"ParentId\"]]\n",
    "\n",
    "scale1 = data[\"CreatedDate\"].div(2020)\n",
    "scale2 = data[\"CreatedDate_month\"].div(12)\n",
    "\n",
    "df = pd.concat([org,scale1,scale2], axis=1, ignore_index=True)"
   ]
  },
  {
   "cell_type": "code",
   "execution_count": 50,
   "metadata": {},
   "outputs": [
    {
     "data": {
      "text/html": [
       "<div>\n",
       "<style scoped>\n",
       "    .dataframe tbody tr th:only-of-type {\n",
       "        vertical-align: middle;\n",
       "    }\n",
       "\n",
       "    .dataframe tbody tr th {\n",
       "        vertical-align: top;\n",
       "    }\n",
       "\n",
       "    .dataframe thead th {\n",
       "        text-align: right;\n",
       "    }\n",
       "</style>\n",
       "<table border=\"1\" class=\"dataframe\">\n",
       "  <thead>\n",
       "    <tr style=\"text-align: right;\">\n",
       "      <th></th>\n",
       "      <th>0</th>\n",
       "      <th>1</th>\n",
       "      <th>2</th>\n",
       "      <th>3</th>\n",
       "      <th>4</th>\n",
       "      <th>5</th>\n",
       "      <th>6</th>\n",
       "      <th>7</th>\n",
       "      <th>8</th>\n",
       "      <th>9</th>\n",
       "      <th>...</th>\n",
       "      <th>2263</th>\n",
       "      <th>2264</th>\n",
       "      <th>2265</th>\n",
       "      <th>2266</th>\n",
       "      <th>2267</th>\n",
       "      <th>2268</th>\n",
       "      <th>2269</th>\n",
       "      <th>2270</th>\n",
       "      <th>2271</th>\n",
       "      <th>2272</th>\n",
       "    </tr>\n",
       "  </thead>\n",
       "  <tbody>\n",
       "    <tr>\n",
       "      <th>0</th>\n",
       "      <td>0</td>\n",
       "      <td>1</td>\n",
       "      <td>0</td>\n",
       "      <td>0</td>\n",
       "      <td>0.985366</td>\n",
       "      <td>0.666667</td>\n",
       "      <td>0.999505</td>\n",
       "      <td>0.916667</td>\n",
       "      <td>0.032258</td>\n",
       "      <td>0</td>\n",
       "      <td>...</td>\n",
       "      <td>0</td>\n",
       "      <td>0</td>\n",
       "      <td>1</td>\n",
       "      <td>0</td>\n",
       "      <td>0</td>\n",
       "      <td>0</td>\n",
       "      <td>0</td>\n",
       "      <td>0</td>\n",
       "      <td>1</td>\n",
       "      <td>0</td>\n",
       "    </tr>\n",
       "    <tr>\n",
       "      <th>1</th>\n",
       "      <td>1</td>\n",
       "      <td>1</td>\n",
       "      <td>0</td>\n",
       "      <td>1</td>\n",
       "      <td>0.999512</td>\n",
       "      <td>1.000000</td>\n",
       "      <td>0.999010</td>\n",
       "      <td>0.750000</td>\n",
       "      <td>1.000000</td>\n",
       "      <td>0</td>\n",
       "      <td>...</td>\n",
       "      <td>0</td>\n",
       "      <td>0</td>\n",
       "      <td>0</td>\n",
       "      <td>0</td>\n",
       "      <td>0</td>\n",
       "      <td>0</td>\n",
       "      <td>0</td>\n",
       "      <td>0</td>\n",
       "      <td>1</td>\n",
       "      <td>0</td>\n",
       "    </tr>\n",
       "    <tr>\n",
       "      <th>2</th>\n",
       "      <td>1</td>\n",
       "      <td>1</td>\n",
       "      <td>0</td>\n",
       "      <td>1</td>\n",
       "      <td>0.985366</td>\n",
       "      <td>0.500000</td>\n",
       "      <td>0.999010</td>\n",
       "      <td>0.750000</td>\n",
       "      <td>0.064516</td>\n",
       "      <td>0</td>\n",
       "      <td>...</td>\n",
       "      <td>0</td>\n",
       "      <td>0</td>\n",
       "      <td>0</td>\n",
       "      <td>0</td>\n",
       "      <td>0</td>\n",
       "      <td>0</td>\n",
       "      <td>0</td>\n",
       "      <td>0</td>\n",
       "      <td>1</td>\n",
       "      <td>0</td>\n",
       "    </tr>\n",
       "    <tr>\n",
       "      <th>3</th>\n",
       "      <td>1</td>\n",
       "      <td>1</td>\n",
       "      <td>0</td>\n",
       "      <td>0</td>\n",
       "      <td>0.985366</td>\n",
       "      <td>0.500000</td>\n",
       "      <td>0.999505</td>\n",
       "      <td>0.166667</td>\n",
       "      <td>0.032258</td>\n",
       "      <td>0</td>\n",
       "      <td>...</td>\n",
       "      <td>0</td>\n",
       "      <td>0</td>\n",
       "      <td>0</td>\n",
       "      <td>0</td>\n",
       "      <td>0</td>\n",
       "      <td>0</td>\n",
       "      <td>0</td>\n",
       "      <td>0</td>\n",
       "      <td>1</td>\n",
       "      <td>0</td>\n",
       "    </tr>\n",
       "    <tr>\n",
       "      <th>4</th>\n",
       "      <td>1</td>\n",
       "      <td>1</td>\n",
       "      <td>0</td>\n",
       "      <td>1</td>\n",
       "      <td>0.985366</td>\n",
       "      <td>0.500000</td>\n",
       "      <td>0.998515</td>\n",
       "      <td>0.333333</td>\n",
       "      <td>0.096774</td>\n",
       "      <td>0</td>\n",
       "      <td>...</td>\n",
       "      <td>0</td>\n",
       "      <td>0</td>\n",
       "      <td>0</td>\n",
       "      <td>0</td>\n",
       "      <td>0</td>\n",
       "      <td>0</td>\n",
       "      <td>0</td>\n",
       "      <td>0</td>\n",
       "      <td>1</td>\n",
       "      <td>0</td>\n",
       "    </tr>\n",
       "    <tr>\n",
       "      <th>...</th>\n",
       "      <td>...</td>\n",
       "      <td>...</td>\n",
       "      <td>...</td>\n",
       "      <td>...</td>\n",
       "      <td>...</td>\n",
       "      <td>...</td>\n",
       "      <td>...</td>\n",
       "      <td>...</td>\n",
       "      <td>...</td>\n",
       "      <td>...</td>\n",
       "      <td>...</td>\n",
       "      <td>...</td>\n",
       "      <td>...</td>\n",
       "      <td>...</td>\n",
       "      <td>...</td>\n",
       "      <td>...</td>\n",
       "      <td>...</td>\n",
       "      <td>...</td>\n",
       "      <td>...</td>\n",
       "      <td>...</td>\n",
       "      <td>...</td>\n",
       "    </tr>\n",
       "    <tr>\n",
       "      <th>5511</th>\n",
       "      <td>1</td>\n",
       "      <td>1</td>\n",
       "      <td>1</td>\n",
       "      <td>1</td>\n",
       "      <td>0.985366</td>\n",
       "      <td>1.000000</td>\n",
       "      <td>1.000000</td>\n",
       "      <td>0.583333</td>\n",
       "      <td>0.000000</td>\n",
       "      <td>0</td>\n",
       "      <td>...</td>\n",
       "      <td>0</td>\n",
       "      <td>0</td>\n",
       "      <td>0</td>\n",
       "      <td>0</td>\n",
       "      <td>0</td>\n",
       "      <td>0</td>\n",
       "      <td>0</td>\n",
       "      <td>0</td>\n",
       "      <td>1</td>\n",
       "      <td>0</td>\n",
       "    </tr>\n",
       "    <tr>\n",
       "      <th>5512</th>\n",
       "      <td>1</td>\n",
       "      <td>1</td>\n",
       "      <td>0</td>\n",
       "      <td>0</td>\n",
       "      <td>0.985366</td>\n",
       "      <td>0.583333</td>\n",
       "      <td>1.000000</td>\n",
       "      <td>0.583333</td>\n",
       "      <td>0.000000</td>\n",
       "      <td>0</td>\n",
       "      <td>...</td>\n",
       "      <td>0</td>\n",
       "      <td>0</td>\n",
       "      <td>0</td>\n",
       "      <td>0</td>\n",
       "      <td>0</td>\n",
       "      <td>0</td>\n",
       "      <td>0</td>\n",
       "      <td>1</td>\n",
       "      <td>1</td>\n",
       "      <td>0</td>\n",
       "    </tr>\n",
       "    <tr>\n",
       "      <th>5513</th>\n",
       "      <td>1</td>\n",
       "      <td>1</td>\n",
       "      <td>0</td>\n",
       "      <td>0</td>\n",
       "      <td>0.985366</td>\n",
       "      <td>0.583333</td>\n",
       "      <td>1.000000</td>\n",
       "      <td>0.583333</td>\n",
       "      <td>0.000000</td>\n",
       "      <td>0</td>\n",
       "      <td>...</td>\n",
       "      <td>0</td>\n",
       "      <td>0</td>\n",
       "      <td>0</td>\n",
       "      <td>0</td>\n",
       "      <td>0</td>\n",
       "      <td>0</td>\n",
       "      <td>0</td>\n",
       "      <td>1</td>\n",
       "      <td>1</td>\n",
       "      <td>0</td>\n",
       "    </tr>\n",
       "    <tr>\n",
       "      <th>5514</th>\n",
       "      <td>1</td>\n",
       "      <td>1</td>\n",
       "      <td>0</td>\n",
       "      <td>0</td>\n",
       "      <td>0.985854</td>\n",
       "      <td>0.083333</td>\n",
       "      <td>1.000000</td>\n",
       "      <td>0.666667</td>\n",
       "      <td>0.032258</td>\n",
       "      <td>0</td>\n",
       "      <td>...</td>\n",
       "      <td>0</td>\n",
       "      <td>0</td>\n",
       "      <td>0</td>\n",
       "      <td>0</td>\n",
       "      <td>0</td>\n",
       "      <td>0</td>\n",
       "      <td>0</td>\n",
       "      <td>0</td>\n",
       "      <td>1</td>\n",
       "      <td>0</td>\n",
       "    </tr>\n",
       "    <tr>\n",
       "      <th>5515</th>\n",
       "      <td>1</td>\n",
       "      <td>1</td>\n",
       "      <td>1</td>\n",
       "      <td>0</td>\n",
       "      <td>0.985366</td>\n",
       "      <td>0.666667</td>\n",
       "      <td>1.000000</td>\n",
       "      <td>0.666667</td>\n",
       "      <td>0.000000</td>\n",
       "      <td>0</td>\n",
       "      <td>...</td>\n",
       "      <td>1</td>\n",
       "      <td>0</td>\n",
       "      <td>0</td>\n",
       "      <td>0</td>\n",
       "      <td>0</td>\n",
       "      <td>0</td>\n",
       "      <td>0</td>\n",
       "      <td>0</td>\n",
       "      <td>1</td>\n",
       "      <td>0</td>\n",
       "    </tr>\n",
       "  </tbody>\n",
       "</table>\n",
       "<p>5516 rows × 2273 columns</p>\n",
       "</div>"
      ],
      "text/plain": [
       "      0     1     2     3         4         5         6         7     \\\n",
       "0        0     1     0     0  0.985366  0.666667  0.999505  0.916667   \n",
       "1        1     1     0     1  0.999512  1.000000  0.999010  0.750000   \n",
       "2        1     1     0     1  0.985366  0.500000  0.999010  0.750000   \n",
       "3        1     1     0     0  0.985366  0.500000  0.999505  0.166667   \n",
       "4        1     1     0     1  0.985366  0.500000  0.998515  0.333333   \n",
       "...    ...   ...   ...   ...       ...       ...       ...       ...   \n",
       "5511     1     1     1     1  0.985366  1.000000  1.000000  0.583333   \n",
       "5512     1     1     0     0  0.985366  0.583333  1.000000  0.583333   \n",
       "5513     1     1     0     0  0.985366  0.583333  1.000000  0.583333   \n",
       "5514     1     1     0     0  0.985854  0.083333  1.000000  0.666667   \n",
       "5515     1     1     1     0  0.985366  0.666667  1.000000  0.666667   \n",
       "\n",
       "          8     9     ...  2263  2264  2265  2266  2267  2268  2269  2270  \\\n",
       "0     0.032258     0  ...     0     0     1     0     0     0     0     0   \n",
       "1     1.000000     0  ...     0     0     0     0     0     0     0     0   \n",
       "2     0.064516     0  ...     0     0     0     0     0     0     0     0   \n",
       "3     0.032258     0  ...     0     0     0     0     0     0     0     0   \n",
       "4     0.096774     0  ...     0     0     0     0     0     0     0     0   \n",
       "...        ...   ...  ...   ...   ...   ...   ...   ...   ...   ...   ...   \n",
       "5511  0.000000     0  ...     0     0     0     0     0     0     0     0   \n",
       "5512  0.000000     0  ...     0     0     0     0     0     0     0     1   \n",
       "5513  0.000000     0  ...     0     0     0     0     0     0     0     1   \n",
       "5514  0.032258     0  ...     0     0     0     0     0     0     0     0   \n",
       "5515  0.000000     0  ...     1     0     0     0     0     0     0     0   \n",
       "\n",
       "      2271  2272  \n",
       "0        1     0  \n",
       "1        1     0  \n",
       "2        1     0  \n",
       "3        1     0  \n",
       "4        1     0  \n",
       "...    ...   ...  \n",
       "5511     1     0  \n",
       "5512     1     0  \n",
       "5513     1     0  \n",
       "5514     1     0  \n",
       "5515     1     0  \n",
       "\n",
       "[5516 rows x 2273 columns]"
      ]
     },
     "execution_count": 50,
     "metadata": {},
     "output_type": "execute_result"
    }
   ],
   "source": [
    "df"
   ]
  },
  {
   "cell_type": "code",
   "execution_count": 51,
   "metadata": {},
   "outputs": [],
   "source": [
    "# split xy\n",
    "dflist = df.values.tolist()\n",
    "random.shuffle(dflist)\n",
    "x = torch.Tensor([i[1:] for i in dflist])\n",
    "y = torch.Tensor([i[1] for i in dflist])"
   ]
  },
  {
   "cell_type": "code",
   "execution_count": 52,
   "metadata": {},
   "outputs": [],
   "source": [
    "# train/dev split\n",
    "batch_size = 64\n",
    "\n",
    "from sklearn.model_selection import train_test_split\n",
    "x_train, x_dev, y_train, y_dev = train_test_split(x, y, test_size=0.33, random_state=42)\n",
    "\n",
    "train_loader = torch.utils.data.DataLoader(dataset=tuple(zip(x_train,y_train)), batch_size=batch_size, shuffle=True)\n",
    "dev_loader = torch.utils.data.DataLoader(dataset=tuple(zip(x_dev,y_dev)), batch_size=batch_size, shuffle=False)"
   ]
  },
  {
   "cell_type": "markdown",
   "metadata": {},
   "source": [
    "## 2. Neural Network Model"
   ]
  },
  {
   "cell_type": "code",
   "execution_count": 71,
   "metadata": {},
   "outputs": [],
   "source": [
    "class Net(torch.nn.Module):\n",
    "\n",
    "    def __init__(self, n_features, n_classes):\n",
    "        super(Net, self).__init__()\n",
    "        self.linear1 = torch.nn.Linear(n_features,512)\n",
    "        self.linear2 = torch.nn.Linear(512, 512)\n",
    "        self.linear3 = torch.nn.Linear(512, 256)\n",
    "        self.linear4 = torch.nn.Linear(256, 128)\n",
    "        self.linear5 = torch.nn.Linear(128, n_classes)\n",
    "\n",
    "    def forward(self, x):\n",
    "        x = F.relu(self.linear1(x))\n",
    "        x = F.relu(self.linear2(x))\n",
    "        x = F.relu(self.linear3(x))\n",
    "        x = F.relu(self.linear4(x))\n",
    "        x = F.relu(self.linear5(x))\n",
    "        out = F.sigmoid(x)\n",
    "        return out\n",
    "\n",
    "def test_net(test_loader, epoch, model, criterion):\n",
    "    correct = 0\n",
    "    total = 0\n",
    "    test_loss = 0.\n",
    "    test_acc = 0.\n",
    "    \n",
    "    for features, labels in test_loader:\n",
    "        features = Variable(features)\n",
    "        labels = Variable(labels)\n",
    "        \n",
    "        outputs = model(features)\n",
    "        loss = criterion(outputs, labels)\n",
    "        test_loss += loss.item()\n",
    "        \n",
    "        acc = torch.mean(torch.eq(torch.round(outputs), labels).float()).item()\n",
    "        test_acc += acc\n",
    "    \n",
    "    return test_loss/len(test_loader), test_acc/len(test_loader)\n",
    "\n",
    "\n",
    "def train_net(train_loader,dev_loader,lr_rate):\n",
    "    train_rolling_loss = []\n",
    "    dev_rolling_loss = []\n",
    "    train_rolling_acc = []\n",
    "    dev_rolling_acc = []\n",
    "    \n",
    "    #model = Net(int(x_train.shape[1]), 1) # n_features, n_classes\n",
    "    #criterion = torch.nn.BCELoss() # binary cross entropy (MSE)\n",
    "    #optimizer = torch.optim.Adam(model.parameters(), lr=lr_rate)\n",
    "\n",
    "    for epoch in tqdm(range(int(epochs))):\n",
    "        train_loss = 0.\n",
    "        train_acc = 0.\n",
    "        \n",
    "        for i, (features, labels) in enumerate(train_loader):\n",
    "            features = Variable(features)\n",
    "            labels = Variable(labels)\n",
    "            \n",
    "            optimizer.zero_grad()\n",
    "            outputs = model(features)\n",
    "            loss = criterion(outputs, labels)\n",
    "            loss.backward()\n",
    "            optimizer.step()\n",
    "            train_loss += loss.item()\n",
    "            \n",
    "            acc = torch.mean(torch.eq(torch.round(outputs), labels).float()).item()\n",
    "            train_acc += acc\n",
    "            \n",
    "        #print(train_acc, len(train_loader))\n",
    "        \n",
    "        train_rolling_acc.append(train_acc/len(train_loader))\n",
    "        train_rolling_loss.append(train_loss/len(train_loader))\n",
    "\n",
    "        ## calculating loss on dev set\n",
    "        \n",
    "        dev_loss,dev_acc = test_net(dev_loader, epoch, model, criterion)\n",
    "        dev_rolling_loss.append(dev_loss)\n",
    "        dev_rolling_acc.append(dev_acc)\n",
    "        \n",
    "        \n",
    "    print(\"Train Accuracy: \",train_rolling_acc[-1],\", Dev Accuracy: \",dev_rolling_acc[-1])\n",
    "    print(\"Train Loss: \",train_rolling_loss[-1],\", Dev Loss: \",dev_rolling_loss[-1])\n",
    "    \n",
    "    plot(train_rolling_loss,dev_rolling_loss,train_rolling_acc,dev_rolling_acc)\n",
    "    \n",
    "    return train_rolling_acc[-1],dev_rolling_acc[-1]"
   ]
  },
  {
   "cell_type": "code",
   "execution_count": 72,
   "metadata": {},
   "outputs": [
    {
     "name": "stderr",
     "output_type": "stream",
     "text": [
      "100%|██████████| 10/10 [00:16<00:00,  1.63s/it]\n"
     ]
    },
    {
     "name": "stdout",
     "output_type": "stream",
     "text": [
      "Train Accuracy:  1.0 , Dev Accuracy:  1.0\n",
      "Train Loss:  0.005360566234836976 , Dev Loss:  0.004361861578092493\n"
     ]
    },
    {
     "data": {
      "image/png": "[encoded data removed]",
      "text/plain": [
       "<Figure size 1080x720 with 2 Axes>"
      ]
     },
     "metadata": {},
     "output_type": "display_data"
    },
    {
     "data": {
      "text/plain": [
       "(1.0, 1.0)"
      ]
     },
     "execution_count": 72,
     "metadata": {},
     "output_type": "execute_result"
    }
   ],
   "source": [
    "model = Net(int(x_train.shape[1]), 1) # n_features, n_classes\n",
    "criterion = torch.nn.BCELoss() # binary cross entropy (MSE)\n",
    "optimizer = torch.optim.Adam(model.parameters(), lr=lr_rate)\n",
    "train_net(train_loader,dev_loader,lr_rate)"
   ]
  },
  {
   "cell_type": "code",
   "execution_count": 66,
   "metadata": {},
   "outputs": [
    {
     "name": "stderr",
     "output_type": "stream",
     "text": [
      "100%|██████████| 10/10 [00:13<00:00,  1.37s/it]\n"
     ]
    },
    {
     "name": "stdout",
     "output_type": "stream",
     "text": [
      "Train Accuracy:  1.0 , Dev Accuracy:  1.0\n",
      "Train Loss:  0.007706076527635257 , Dev Loss:  0.006082861170429608\n"
     ]
    },
    {
     "data": {
      "image/png": "[encoded data removed]",
      "text/plain": [
       "<Figure size 1080x720 with 2 Axes>"
      ]
     },
     "metadata": {},
     "output_type": "display_data"
    },
    {
     "data": {
      "text/plain": [
       "(1.0, 1.0)"
      ]
     },
     "execution_count": 66,
     "metadata": {},
     "output_type": "execute_result"
    }
   ],
   "source": [
    "#### RUN MODEL\n",
    "epochs = 10\n",
    "lr_rate = 0.00001\n",
    "\n",
    "train_net(train_loader,dev_loader,lr_rate)"
   ]
  },
  {
   "cell_type": "code",
   "execution_count": 63,
   "metadata": {},
   "outputs": [
    {
     "name": "stderr",
     "output_type": "stream",
     "text": [
      "100%|██████████| 10/10 [00:15<00:00,  1.51s/it]\n"
     ]
    },
    {
     "name": "stdout",
     "output_type": "stream",
     "text": [
      "Train Accuracy:  0.0 , Dev Accuracy:  0.0\n",
      "Train Loss:  0.6931470686044449 , Dev Loss:  0.693147077642638\n"
     ]
    },
    {
     "data": {
      "image/png": "[encoded data removed]",
      "text/plain": [
       "<Figure size 1080x720 with 2 Axes>"
      ]
     },
     "metadata": {},
     "output_type": "display_data"
    },
    {
     "name": "stderr",
     "output_type": "stream",
     "text": [
      " 20%|██        | 2/10 [00:04<00:18,  2.28s/it]\n"
     ]
    },
    {
     "ename": "KeyboardInterrupt",
     "evalue": "",
     "output_type": "error",
     "traceback": [
      "\u001b[0;31m---------------------------------------------------------------------------\u001b[0m",
      "\u001b[0;31mKeyboardInterrupt\u001b[0m                         Traceback (most recent call last)",
      "\u001b[0;32m<ipython-input-63-60e3f49bfa92>\u001b[0m in \u001b[0;36m<module>\u001b[0;34m\u001b[0m\n\u001b[1;32m     15\u001b[0m     \u001b[0mtest_loader\u001b[0m \u001b[0;34m=\u001b[0m \u001b[0mtorch\u001b[0m\u001b[0;34m.\u001b[0m\u001b[0mutils\u001b[0m\u001b[0;34m.\u001b[0m\u001b[0mdata\u001b[0m\u001b[0;34m.\u001b[0m\u001b[0mDataLoader\u001b[0m\u001b[0;34m(\u001b[0m\u001b[0mtest\u001b[0m\u001b[0;34m,\u001b[0m \u001b[0mbatch_size\u001b[0m \u001b[0;34m=\u001b[0m \u001b[0mbatch_size\u001b[0m\u001b[0;34m,\u001b[0m \u001b[0mshuffle\u001b[0m \u001b[0;34m=\u001b[0m \u001b[0;32mFalse\u001b[0m\u001b[0;34m)\u001b[0m\u001b[0;34m\u001b[0m\u001b[0;34m\u001b[0m\u001b[0m\n\u001b[1;32m     16\u001b[0m \u001b[0;34m\u001b[0m\u001b[0m\n\u001b[0;32m---> 17\u001b[0;31m     \u001b[0mtrain_accu\u001b[0m\u001b[0;34m,\u001b[0m \u001b[0mdev_accu\u001b[0m \u001b[0;34m=\u001b[0m \u001b[0mtrain_net\u001b[0m\u001b[0;34m(\u001b[0m\u001b[0mtrain_loader\u001b[0m\u001b[0;34m,\u001b[0m\u001b[0mdev_loader\u001b[0m\u001b[0;34m,\u001b[0m\u001b[0mlr_rate\u001b[0m\u001b[0;34m)\u001b[0m\u001b[0;34m\u001b[0m\u001b[0;34m\u001b[0m\u001b[0m\n\u001b[0m\u001b[1;32m     18\u001b[0m     \u001b[0mdev_acc\u001b[0m\u001b[0;34m.\u001b[0m\u001b[0mappend\u001b[0m\u001b[0;34m(\u001b[0m\u001b[0mdev_accu\u001b[0m\u001b[0;34m)\u001b[0m\u001b[0;34m\u001b[0m\u001b[0;34m\u001b[0m\u001b[0m\n\u001b[1;32m     19\u001b[0m     \u001b[0mtrain_acc\u001b[0m\u001b[0;34m.\u001b[0m\u001b[0mappend\u001b[0m\u001b[0;34m(\u001b[0m\u001b[0mtrain_accu\u001b[0m\u001b[0;34m)\u001b[0m\u001b[0;34m\u001b[0m\u001b[0;34m\u001b[0m\u001b[0m\n",
      "\u001b[0;32m<ipython-input-53-5009a6d47744>\u001b[0m in \u001b[0;36mtrain_net\u001b[0;34m(train_loader, dev_loader, lr_rate)\u001b[0m\n\u001b[1;32m     59\u001b[0m             \u001b[0moutputs\u001b[0m \u001b[0;34m=\u001b[0m \u001b[0mmodel\u001b[0m\u001b[0;34m(\u001b[0m\u001b[0mfeatures\u001b[0m\u001b[0;34m)\u001b[0m\u001b[0;34m\u001b[0m\u001b[0;34m\u001b[0m\u001b[0m\n\u001b[1;32m     60\u001b[0m             \u001b[0mloss\u001b[0m \u001b[0;34m=\u001b[0m \u001b[0mcriterion\u001b[0m\u001b[0;34m(\u001b[0m\u001b[0moutputs\u001b[0m\u001b[0;34m,\u001b[0m \u001b[0mlabels\u001b[0m\u001b[0;34m)\u001b[0m\u001b[0;34m\u001b[0m\u001b[0;34m\u001b[0m\u001b[0m\n\u001b[0;32m---> 61\u001b[0;31m             \u001b[0mloss\u001b[0m\u001b[0;34m.\u001b[0m\u001b[0mbackward\u001b[0m\u001b[0;34m(\u001b[0m\u001b[0;34m)\u001b[0m\u001b[0;34m\u001b[0m\u001b[0;34m\u001b[0m\u001b[0m\n\u001b[0m\u001b[1;32m     62\u001b[0m             \u001b[0moptimizer\u001b[0m\u001b[0;34m.\u001b[0m\u001b[0mstep\u001b[0m\u001b[0;34m(\u001b[0m\u001b[0;34m)\u001b[0m\u001b[0;34m\u001b[0m\u001b[0;34m\u001b[0m\u001b[0m\n\u001b[1;32m     63\u001b[0m             \u001b[0mtrain_loss\u001b[0m \u001b[0;34m+=\u001b[0m \u001b[0mloss\u001b[0m\u001b[0;34m.\u001b[0m\u001b[0mitem\u001b[0m\u001b[0;34m(\u001b[0m\u001b[0;34m)\u001b[0m\u001b[0;34m\u001b[0m\u001b[0;34m\u001b[0m\u001b[0m\n",
      "\u001b[0;32m~/opt/anaconda3/envs/tnsfl/lib/python3.7/site-packages/torch/tensor.py\u001b[0m in \u001b[0;36mbackward\u001b[0;34m(self, gradient, retain_graph, create_graph)\u001b[0m\n\u001b[1;32m    164\u001b[0m                 \u001b[0mproducts\u001b[0m\u001b[0;34m.\u001b[0m \u001b[0mDefaults\u001b[0m \u001b[0mto\u001b[0m\u001b[0;31m \u001b[0m\u001b[0;31m`\u001b[0m\u001b[0;31m`\u001b[0m\u001b[0;32mFalse\u001b[0m\u001b[0;31m`\u001b[0m\u001b[0;31m`\u001b[0m\u001b[0;34m.\u001b[0m\u001b[0;34m\u001b[0m\u001b[0;34m\u001b[0m\u001b[0m\n\u001b[1;32m    165\u001b[0m         \"\"\"\n\u001b[0;32m--> 166\u001b[0;31m         \u001b[0mtorch\u001b[0m\u001b[0;34m.\u001b[0m\u001b[0mautograd\u001b[0m\u001b[0;34m.\u001b[0m\u001b[0mbackward\u001b[0m\u001b[0;34m(\u001b[0m\u001b[0mself\u001b[0m\u001b[0;34m,\u001b[0m \u001b[0mgradient\u001b[0m\u001b[0;34m,\u001b[0m \u001b[0mretain_graph\u001b[0m\u001b[0;34m,\u001b[0m \u001b[0mcreate_graph\u001b[0m\u001b[0;34m)\u001b[0m\u001b[0;34m\u001b[0m\u001b[0;34m\u001b[0m\u001b[0m\n\u001b[0m\u001b[1;32m    167\u001b[0m \u001b[0;34m\u001b[0m\u001b[0m\n\u001b[1;32m    168\u001b[0m     \u001b[0;32mdef\u001b[0m \u001b[0mregister_hook\u001b[0m\u001b[0;34m(\u001b[0m\u001b[0mself\u001b[0m\u001b[0;34m,\u001b[0m \u001b[0mhook\u001b[0m\u001b[0;34m)\u001b[0m\u001b[0;34m:\u001b[0m\u001b[0;34m\u001b[0m\u001b[0;34m\u001b[0m\u001b[0m\n",
      "\u001b[0;32m~/opt/anaconda3/envs/tnsfl/lib/python3.7/site-packages/torch/autograd/__init__.py\u001b[0m in \u001b[0;36mbackward\u001b[0;34m(tensors, grad_tensors, retain_graph, create_graph, grad_variables)\u001b[0m\n\u001b[1;32m     97\u001b[0m     Variable._execution_engine.run_backward(\n\u001b[1;32m     98\u001b[0m         \u001b[0mtensors\u001b[0m\u001b[0;34m,\u001b[0m \u001b[0mgrad_tensors\u001b[0m\u001b[0;34m,\u001b[0m \u001b[0mretain_graph\u001b[0m\u001b[0;34m,\u001b[0m \u001b[0mcreate_graph\u001b[0m\u001b[0;34m,\u001b[0m\u001b[0;34m\u001b[0m\u001b[0;34m\u001b[0m\u001b[0m\n\u001b[0;32m---> 99\u001b[0;31m         allow_unreachable=True)  # allow_unreachable flag\n\u001b[0m\u001b[1;32m    100\u001b[0m \u001b[0;34m\u001b[0m\u001b[0m\n\u001b[1;32m    101\u001b[0m \u001b[0;34m\u001b[0m\u001b[0m\n",
      "\u001b[0;31mKeyboardInterrupt\u001b[0m: "
     ]
    }
   ],
   "source": [
    "from sklearn.model_selection import KFold\n",
    "kfold = KFold(n_splits=10)\n",
    "train_acc = []\n",
    "dev_acc = []\n",
    "for fold, (train_index, test_index) in enumerate(kfold.split(x, y)):\n",
    "        ### Dividing data into folds\n",
    "    x_train_fold = x[train_index]\n",
    "    x_test_fold = x[test_index]\n",
    "    y_train_fold = y[train_index]\n",
    "    y_test_fold = y[test_index]\n",
    "\n",
    "    train = torch.utils.data.TensorDataset(x_train_fold, y_train_fold)\n",
    "    test = torch.utils.data.TensorDataset(x_test_fold, y_test_fold)\n",
    "    train_loader = torch.utils.data.DataLoader(train, batch_size = batch_size, shuffle = False)\n",
    "    test_loader = torch.utils.data.DataLoader(test, batch_size = batch_size, shuffle = False)\n",
    "    \n",
    "    train_accu, dev_accu = train_net(train_loader,dev_loader,lr_rate)\n",
    "    dev_acc.append(dev_accu)\n",
    "    train_acc.append(train_accu)"
   ]
  },
  {
   "cell_type": "code",
   "execution_count": 61,
   "metadata": {},
   "outputs": [
    {
     "data": {
      "text/plain": [
       "[0.9008091520518064,\n",
       " 0.8238593898713589,\n",
       " 0.8238593898713589,\n",
       " 0.9008091520518064,\n",
       " 0.9008091520518064,\n",
       " 0.9008091520518064,\n",
       " 0.9008091520518064,\n",
       " 0.9008091520518064,\n",
       " 0.9008091520518064,\n",
       " 0.9008091520518064]"
      ]
     },
     "execution_count": 61,
     "metadata": {},
     "output_type": "execute_result"
    }
   ],
   "source": [
    "total_acc"
   ]
  },
  {
   "cell_type": "code",
   "execution_count": 62,
   "metadata": {},
   "outputs": [
    {
     "data": {
      "text/plain": [
       "0.8854191996157169"
      ]
     },
     "execution_count": 62,
     "metadata": {},
     "output_type": "execute_result"
    }
   ],
   "source": [
    "sum(total_acc)/10"
   ]
  },
  {
   "cell_type": "code",
   "execution_count": null,
   "metadata": {},
   "outputs": [],
   "source": []
  },
  {
   "cell_type": "code",
   "execution_count": null,
   "metadata": {},
   "outputs": [],
   "source": []
  }
 ],
 "metadata": {
  "kernelspec": {
   "display_name": "Python 3",
   "language": "python",
   "name": "python3"
  },
  "language_info": {
   "codemirror_mode": {
    "name": "ipython",
    "version": 3
   },
   "file_extension": ".py",
   "mimetype": "text/x-python",
   "name": "python",
   "nbconvert_exporter": "python",
   "pygments_lexer": "ipython3",
   "version": "3.7.5"
  }
 },
 "nbformat": 4,
 "nbformat_minor": 2
}
