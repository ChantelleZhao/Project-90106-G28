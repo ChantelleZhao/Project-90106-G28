{
 "cells": [
  {
   "cell_type": "code",
   "execution_count": 1,
   "metadata": {},
   "outputs": [],
   "source": [
    "import numpy as np\n",
    "import pandas as pd\n",
    "from matplotlib import style\n",
    "import matplotlib.pyplot as plt\n",
    "import random\n",
    "import torch\n",
    "from sklearn.model_selection import GridSearchCV\n",
    "from sklearn.model_selection import train_test_split\n",
    "import pickle\n",
    "import copy\n",
    "style.use(\"ggplot\")\n",
    "from sklearn.neural_network import MLPClassifier\n",
    "from sklearn.model_selection import cross_validate"
   ]
  },
  {
   "cell_type": "code",
   "execution_count": 2,
   "metadata": {},
   "outputs": [],
   "source": [
    "#import mpld3\n",
    "#%matplotlib inline\n",
    "#mpld3.enable_notebook()"
   ]
  },
  {
   "cell_type": "markdown",
   "metadata": {},
   "source": [
    "# 1. Pre-process dataset"
   ]
  },
  {
   "cell_type": "code",
   "execution_count": 3,
   "metadata": {
    "scrolled": false
   },
   "outputs": [],
   "source": [
    "## reading clean data\n",
    "raw = pd.read_csv('cleaned-12-Oct.csv')\n",
    "#raw.plot(y=[\"year_length\",\"f_won_before\"], figsize=(10,6))"
   ]
  },
  {
   "cell_type": "markdown",
   "metadata": {},
   "source": [
    "### (a) Over-sampling"
   ]
  },
  {
   "cell_type": "code",
   "execution_count": 4,
   "metadata": {},
   "outputs": [
    {
     "data": {
      "text/plain": [
       "0    3387\n",
       "1    2021\n",
       "Name: StageName, dtype: int64"
      ]
     },
     "execution_count": 4,
     "metadata": {},
     "output_type": "execute_result"
    }
   ],
   "source": [
    "raw[\"StageName\"].value_counts(dropna=False)"
   ]
  },
  {
   "cell_type": "code",
   "execution_count": 5,
   "metadata": {},
   "outputs": [
    {
     "data": {
      "text/plain": [
       "<matplotlib.axes._subplots.AxesSubplot at 0x7fb220814250>"
      ]
     },
     "execution_count": 5,
     "metadata": {},
     "output_type": "execute_result"
    },
    {
     "data": {
      "image/png": "[encoded data removed]",
      "text/plain": [
       "<Figure size 432x288 with 1 Axes>"
      ]
     },
     "metadata": {},
     "output_type": "display_data"
    }
   ],
   "source": [
    "won_raw = raw[raw[\"StageName\"]==1]\n",
    "data = pd.concat([raw, won_raw], ignore_index=True)\n",
    "data[\"StageName\"].value_counts(dropna=False).plot(kind=\"barh\")"
   ]
  },
  {
   "cell_type": "markdown",
   "metadata": {},
   "source": [
    "### (b) feature selection"
   ]
  },
  {
   "cell_type": "code",
   "execution_count": 6,
   "metadata": {},
   "outputs": [
    {
     "data": {
      "text/html": [
       "<div>\n",
       "<style scoped>\n",
       "    .dataframe tbody tr th:only-of-type {\n",
       "        vertical-align: middle;\n",
       "    }\n",
       "\n",
       "    .dataframe tbody tr th {\n",
       "        vertical-align: top;\n",
       "    }\n",
       "\n",
       "    .dataframe thead th {\n",
       "        text-align: right;\n",
       "    }\n",
       "</style>\n",
       "<table border=\"1\" class=\"dataframe\">\n",
       "  <thead>\n",
       "    <tr style=\"text-align: right;\">\n",
       "      <th></th>\n",
       "      <th>StageName</th>\n",
       "      <th>RecordType.Name</th>\n",
       "      <th>RICE_Supported__c</th>\n",
       "      <th>Lead_Faculty__c</th>\n",
       "      <th>Lead_School__c</th>\n",
       "      <th>Parent_Opportunity__c</th>\n",
       "      <th>Industry</th>\n",
       "      <th>Industry_Sub_Type__c</th>\n",
       "      <th>Business_Type__c</th>\n",
       "      <th>Is_External__c</th>\n",
       "      <th>ParentId</th>\n",
       "      <th>tasks_events</th>\n",
       "      <th>CreatedYear</th>\n",
       "      <th>CreatedMonth</th>\n",
       "      <th>year_length</th>\n",
       "      <th>RN</th>\n",
       "      <th>f_won_before</th>\n",
       "    </tr>\n",
       "  </thead>\n",
       "  <tbody>\n",
       "    <tr>\n",
       "      <th>0</th>\n",
       "      <td>0</td>\n",
       "      <td>Custom Education (MSPACE Included)</td>\n",
       "      <td>RIC-BD&amp;I</td>\n",
       "      <td>0012e000002ZGfbAAG</td>\n",
       "      <td>0012e000002Zt0mAAC</td>\n",
       "      <td>0</td>\n",
       "      <td>Health</td>\n",
       "      <td>Health Care &amp; Healthy Aging</td>\n",
       "      <td>Multinational / Other Large Corporate</td>\n",
       "      <td>1</td>\n",
       "      <td>0</td>\n",
       "      <td>0</td>\n",
       "      <td>2019</td>\n",
       "      <td>11</td>\n",
       "      <td>1</td>\n",
       "      <td>1</td>\n",
       "      <td>0</td>\n",
       "    </tr>\n",
       "    <tr>\n",
       "      <th>1</th>\n",
       "      <td>1</td>\n",
       "      <td>Parent Grant</td>\n",
       "      <td>RIC-RE&amp;D</td>\n",
       "      <td>NotGiven</td>\n",
       "      <td>NotGiven</td>\n",
       "      <td>0</td>\n",
       "      <td>Public Administration</td>\n",
       "      <td>Public Administration</td>\n",
       "      <td>Government: Australia: Federal</td>\n",
       "      <td>1</td>\n",
       "      <td>1</td>\n",
       "      <td>0</td>\n",
       "      <td>2018</td>\n",
       "      <td>9</td>\n",
       "      <td>31</td>\n",
       "      <td>10</td>\n",
       "      <td>1</td>\n",
       "    </tr>\n",
       "    <tr>\n",
       "      <th>2</th>\n",
       "      <td>1</td>\n",
       "      <td>Parent Grant</td>\n",
       "      <td>RIC-RE&amp;D</td>\n",
       "      <td>NotGiven</td>\n",
       "      <td>NotGiven</td>\n",
       "      <td>0</td>\n",
       "      <td>Public Administration</td>\n",
       "      <td>Public Administration</td>\n",
       "      <td>Government: Australia: Federal</td>\n",
       "      <td>1</td>\n",
       "      <td>1</td>\n",
       "      <td>0</td>\n",
       "      <td>2018</td>\n",
       "      <td>9</td>\n",
       "      <td>2</td>\n",
       "      <td>9</td>\n",
       "      <td>1</td>\n",
       "    </tr>\n",
       "    <tr>\n",
       "      <th>3</th>\n",
       "      <td>1</td>\n",
       "      <td>Parent Grant</td>\n",
       "      <td>Not supported</td>\n",
       "      <td>NotGiven</td>\n",
       "      <td>NotGiven</td>\n",
       "      <td>0</td>\n",
       "      <td>Health</td>\n",
       "      <td>Health Care &amp; Healthy Aging</td>\n",
       "      <td>Government: Australia: Federal</td>\n",
       "      <td>1</td>\n",
       "      <td>0</td>\n",
       "      <td>0</td>\n",
       "      <td>2019</td>\n",
       "      <td>2</td>\n",
       "      <td>1</td>\n",
       "      <td>67</td>\n",
       "      <td>1</td>\n",
       "    </tr>\n",
       "    <tr>\n",
       "      <th>4</th>\n",
       "      <td>1</td>\n",
       "      <td>Parent Grant</td>\n",
       "      <td>RIC-RE&amp;D</td>\n",
       "      <td>NotGiven</td>\n",
       "      <td>NotGiven</td>\n",
       "      <td>0</td>\n",
       "      <td>Public Administration</td>\n",
       "      <td>Public Administration</td>\n",
       "      <td>Government: Australia: Federal</td>\n",
       "      <td>1</td>\n",
       "      <td>1</td>\n",
       "      <td>0</td>\n",
       "      <td>2017</td>\n",
       "      <td>4</td>\n",
       "      <td>3</td>\n",
       "      <td>1</td>\n",
       "      <td>0</td>\n",
       "    </tr>\n",
       "    <tr>\n",
       "      <th>...</th>\n",
       "      <td>...</td>\n",
       "      <td>...</td>\n",
       "      <td>...</td>\n",
       "      <td>...</td>\n",
       "      <td>...</td>\n",
       "      <td>...</td>\n",
       "      <td>...</td>\n",
       "      <td>...</td>\n",
       "      <td>...</td>\n",
       "      <td>...</td>\n",
       "      <td>...</td>\n",
       "      <td>...</td>\n",
       "      <td>...</td>\n",
       "      <td>...</td>\n",
       "      <td>...</td>\n",
       "      <td>...</td>\n",
       "      <td>...</td>\n",
       "    </tr>\n",
       "    <tr>\n",
       "      <th>5403</th>\n",
       "      <td>1</td>\n",
       "      <td>Research Contract</td>\n",
       "      <td>RIC-BD&amp;I</td>\n",
       "      <td>0012e000002ZGfbAAG</td>\n",
       "      <td>0012e000002Zt10AAC</td>\n",
       "      <td>1</td>\n",
       "      <td>Health</td>\n",
       "      <td>Biotechnology (non-Pharma)</td>\n",
       "      <td>SME (small to medium enterprise)</td>\n",
       "      <td>1</td>\n",
       "      <td>0</td>\n",
       "      <td>0</td>\n",
       "      <td>2020</td>\n",
       "      <td>7</td>\n",
       "      <td>0</td>\n",
       "      <td>1</td>\n",
       "      <td>0</td>\n",
       "    </tr>\n",
       "    <tr>\n",
       "      <th>5404</th>\n",
       "      <td>0</td>\n",
       "      <td>Competitive Bid</td>\n",
       "      <td>RIC-BD&amp;I</td>\n",
       "      <td>NotGiven</td>\n",
       "      <td>NotGiven</td>\n",
       "      <td>0</td>\n",
       "      <td>Construction &amp; Construction Materials</td>\n",
       "      <td>Construction &amp; Construction Materials</td>\n",
       "      <td>Not for profit</td>\n",
       "      <td>1</td>\n",
       "      <td>0</td>\n",
       "      <td>1</td>\n",
       "      <td>2020</td>\n",
       "      <td>7</td>\n",
       "      <td>0</td>\n",
       "      <td>1</td>\n",
       "      <td>0</td>\n",
       "    </tr>\n",
       "    <tr>\n",
       "      <th>5405</th>\n",
       "      <td>1</td>\n",
       "      <td>Custom Education (MSPACE Included)</td>\n",
       "      <td>RIC-BD&amp;I</td>\n",
       "      <td>0012e000002ZmnzAAC</td>\n",
       "      <td>0012e000002Z3p1AAC</td>\n",
       "      <td>0</td>\n",
       "      <td>Services</td>\n",
       "      <td>Education</td>\n",
       "      <td>University</td>\n",
       "      <td>1</td>\n",
       "      <td>0</td>\n",
       "      <td>0</td>\n",
       "      <td>2020</td>\n",
       "      <td>7</td>\n",
       "      <td>0</td>\n",
       "      <td>278</td>\n",
       "      <td>1</td>\n",
       "    </tr>\n",
       "    <tr>\n",
       "      <th>5406</th>\n",
       "      <td>1</td>\n",
       "      <td>Custom Education (MSPACE Included)</td>\n",
       "      <td>RIC-BD&amp;I</td>\n",
       "      <td>0012e000002ZmnzAAC</td>\n",
       "      <td>0012e000002Z3p1AAC</td>\n",
       "      <td>0</td>\n",
       "      <td>Services</td>\n",
       "      <td>Education</td>\n",
       "      <td>University</td>\n",
       "      <td>1</td>\n",
       "      <td>0</td>\n",
       "      <td>0</td>\n",
       "      <td>2020</td>\n",
       "      <td>7</td>\n",
       "      <td>0</td>\n",
       "      <td>279</td>\n",
       "      <td>1</td>\n",
       "    </tr>\n",
       "    <tr>\n",
       "      <th>5407</th>\n",
       "      <td>1</td>\n",
       "      <td>Research Contract</td>\n",
       "      <td>RIC-BD&amp;I</td>\n",
       "      <td>0012e000002ZGfbAAG</td>\n",
       "      <td>0012e000002Zt0nAAC</td>\n",
       "      <td>1</td>\n",
       "      <td>Health</td>\n",
       "      <td>Biotechnology (non-Pharma)</td>\n",
       "      <td>Government: International</td>\n",
       "      <td>1</td>\n",
       "      <td>0</td>\n",
       "      <td>0</td>\n",
       "      <td>2020</td>\n",
       "      <td>8</td>\n",
       "      <td>0</td>\n",
       "      <td>3</td>\n",
       "      <td>1</td>\n",
       "    </tr>\n",
       "  </tbody>\n",
       "</table>\n",
       "<p>5408 rows × 17 columns</p>\n",
       "</div>"
      ],
      "text/plain": [
       "      StageName                     RecordType.Name RICE_Supported__c  \\\n",
       "0             0  Custom Education (MSPACE Included)          RIC-BD&I   \n",
       "1             1                        Parent Grant          RIC-RE&D   \n",
       "2             1                        Parent Grant          RIC-RE&D   \n",
       "3             1                        Parent Grant     Not supported   \n",
       "4             1                        Parent Grant          RIC-RE&D   \n",
       "...         ...                                 ...               ...   \n",
       "5403          1                   Research Contract          RIC-BD&I   \n",
       "5404          0                     Competitive Bid          RIC-BD&I   \n",
       "5405          1  Custom Education (MSPACE Included)          RIC-BD&I   \n",
       "5406          1  Custom Education (MSPACE Included)          RIC-BD&I   \n",
       "5407          1                   Research Contract          RIC-BD&I   \n",
       "\n",
       "         Lead_Faculty__c      Lead_School__c  Parent_Opportunity__c  \\\n",
       "0     0012e000002ZGfbAAG  0012e000002Zt0mAAC                      0   \n",
       "1               NotGiven            NotGiven                      0   \n",
       "2               NotGiven            NotGiven                      0   \n",
       "3               NotGiven            NotGiven                      0   \n",
       "4               NotGiven            NotGiven                      0   \n",
       "...                  ...                 ...                    ...   \n",
       "5403  0012e000002ZGfbAAG  0012e000002Zt10AAC                      1   \n",
       "5404            NotGiven            NotGiven                      0   \n",
       "5405  0012e000002ZmnzAAC  0012e000002Z3p1AAC                      0   \n",
       "5406  0012e000002ZmnzAAC  0012e000002Z3p1AAC                      0   \n",
       "5407  0012e000002ZGfbAAG  0012e000002Zt0nAAC                      1   \n",
       "\n",
       "                                   Industry  \\\n",
       "0                                    Health   \n",
       "1                     Public Administration   \n",
       "2                     Public Administration   \n",
       "3                                    Health   \n",
       "4                     Public Administration   \n",
       "...                                     ...   \n",
       "5403                                 Health   \n",
       "5404  Construction & Construction Materials   \n",
       "5405                               Services   \n",
       "5406                               Services   \n",
       "5407                                 Health   \n",
       "\n",
       "                       Industry_Sub_Type__c  \\\n",
       "0               Health Care & Healthy Aging   \n",
       "1                     Public Administration   \n",
       "2                     Public Administration   \n",
       "3               Health Care & Healthy Aging   \n",
       "4                     Public Administration   \n",
       "...                                     ...   \n",
       "5403             Biotechnology (non-Pharma)   \n",
       "5404  Construction & Construction Materials   \n",
       "5405                              Education   \n",
       "5406                              Education   \n",
       "5407             Biotechnology (non-Pharma)   \n",
       "\n",
       "                           Business_Type__c  Is_External__c  ParentId  \\\n",
       "0     Multinational / Other Large Corporate               1         0   \n",
       "1            Government: Australia: Federal               1         1   \n",
       "2            Government: Australia: Federal               1         1   \n",
       "3            Government: Australia: Federal               1         0   \n",
       "4            Government: Australia: Federal               1         1   \n",
       "...                                     ...             ...       ...   \n",
       "5403       SME (small to medium enterprise)               1         0   \n",
       "5404                         Not for profit               1         0   \n",
       "5405                             University               1         0   \n",
       "5406                             University               1         0   \n",
       "5407              Government: International               1         0   \n",
       "\n",
       "      tasks_events  CreatedYear  CreatedMonth  year_length   RN  f_won_before  \n",
       "0                0         2019            11            1    1             0  \n",
       "1                0         2018             9           31   10             1  \n",
       "2                0         2018             9            2    9             1  \n",
       "3                0         2019             2            1   67             1  \n",
       "4                0         2017             4            3    1             0  \n",
       "...            ...          ...           ...          ...  ...           ...  \n",
       "5403             0         2020             7            0    1             0  \n",
       "5404             1         2020             7            0    1             0  \n",
       "5405             0         2020             7            0  278             1  \n",
       "5406             0         2020             7            0  279             1  \n",
       "5407             0         2020             8            0    3             1  \n",
       "\n",
       "[5408 rows x 17 columns]"
      ]
     },
     "execution_count": 6,
     "metadata": {},
     "output_type": "execute_result"
    }
   ],
   "source": [
    "data=raw\n",
    "#data = data.drop(['oppo_busi','fac_oppo','oppo_Industry',\"year_length\",\"RN\",\"f_won_before\"],axis=1)\n",
    "data = data.drop(['oppo_busi','fac_oppo','oppo_Industry'],axis=1)\n",
    "#data = data.drop([\"year_length\",\"RN\",\"f_won_before\"],axis=1)\n",
    "\n",
    "data"
   ]
  },
  {
   "cell_type": "code",
   "execution_count": 7,
   "metadata": {},
   "outputs": [],
   "source": [
    "#data.to_csv('oversampled.csv')"
   ]
  },
  {
   "cell_type": "markdown",
   "metadata": {},
   "source": [
    "## 1.2 One hot encoding"
   ]
  },
  {
   "cell_type": "code",
   "execution_count": 6,
   "metadata": {},
   "outputs": [
    {
     "data": {
      "text/html": [
       "<div>\n",
       "<style scoped>\n",
       "    .dataframe tbody tr th:only-of-type {\n",
       "        vertical-align: middle;\n",
       "    }\n",
       "\n",
       "    .dataframe tbody tr th {\n",
       "        vertical-align: top;\n",
       "    }\n",
       "\n",
       "    .dataframe thead th {\n",
       "        text-align: right;\n",
       "    }\n",
       "</style>\n",
       "<table border=\"1\" class=\"dataframe\">\n",
       "  <thead>\n",
       "    <tr style=\"text-align: right;\">\n",
       "      <th></th>\n",
       "      <th>0</th>\n",
       "      <th>1</th>\n",
       "      <th>2</th>\n",
       "      <th>3</th>\n",
       "      <th>4</th>\n",
       "      <th>5</th>\n",
       "      <th>6</th>\n",
       "      <th>7</th>\n",
       "      <th>8</th>\n",
       "      <th>9</th>\n",
       "      <th>...</th>\n",
       "      <th>144</th>\n",
       "      <th>145</th>\n",
       "      <th>146</th>\n",
       "      <th>147</th>\n",
       "      <th>148</th>\n",
       "      <th>149</th>\n",
       "      <th>150</th>\n",
       "      <th>151</th>\n",
       "      <th>152</th>\n",
       "      <th>153</th>\n",
       "    </tr>\n",
       "  </thead>\n",
       "  <tbody>\n",
       "    <tr>\n",
       "      <th>0</th>\n",
       "      <td>0</td>\n",
       "      <td>0</td>\n",
       "      <td>1</td>\n",
       "      <td>0</td>\n",
       "      <td>0.999505</td>\n",
       "      <td>0.916667</td>\n",
       "      <td>0.032258</td>\n",
       "      <td>0.003584</td>\n",
       "      <td>0</td>\n",
       "      <td>0</td>\n",
       "      <td>...</td>\n",
       "      <td>0</td>\n",
       "      <td>0</td>\n",
       "      <td>0</td>\n",
       "      <td>0</td>\n",
       "      <td>1</td>\n",
       "      <td>0</td>\n",
       "      <td>0</td>\n",
       "      <td>0</td>\n",
       "      <td>0</td>\n",
       "      <td>0</td>\n",
       "    </tr>\n",
       "    <tr>\n",
       "      <th>1</th>\n",
       "      <td>1</td>\n",
       "      <td>0</td>\n",
       "      <td>1</td>\n",
       "      <td>1</td>\n",
       "      <td>0.999010</td>\n",
       "      <td>0.750000</td>\n",
       "      <td>1.000000</td>\n",
       "      <td>0.035842</td>\n",
       "      <td>1</td>\n",
       "      <td>0</td>\n",
       "      <td>...</td>\n",
       "      <td>1</td>\n",
       "      <td>0</td>\n",
       "      <td>0</td>\n",
       "      <td>0</td>\n",
       "      <td>0</td>\n",
       "      <td>0</td>\n",
       "      <td>0</td>\n",
       "      <td>0</td>\n",
       "      <td>0</td>\n",
       "      <td>0</td>\n",
       "    </tr>\n",
       "    <tr>\n",
       "      <th>2</th>\n",
       "      <td>1</td>\n",
       "      <td>0</td>\n",
       "      <td>1</td>\n",
       "      <td>1</td>\n",
       "      <td>0.999010</td>\n",
       "      <td>0.750000</td>\n",
       "      <td>0.064516</td>\n",
       "      <td>0.032258</td>\n",
       "      <td>1</td>\n",
       "      <td>0</td>\n",
       "      <td>...</td>\n",
       "      <td>1</td>\n",
       "      <td>0</td>\n",
       "      <td>0</td>\n",
       "      <td>0</td>\n",
       "      <td>0</td>\n",
       "      <td>0</td>\n",
       "      <td>0</td>\n",
       "      <td>0</td>\n",
       "      <td>0</td>\n",
       "      <td>0</td>\n",
       "    </tr>\n",
       "    <tr>\n",
       "      <th>3</th>\n",
       "      <td>1</td>\n",
       "      <td>0</td>\n",
       "      <td>1</td>\n",
       "      <td>0</td>\n",
       "      <td>0.999505</td>\n",
       "      <td>0.166667</td>\n",
       "      <td>0.032258</td>\n",
       "      <td>0.240143</td>\n",
       "      <td>1</td>\n",
       "      <td>0</td>\n",
       "      <td>...</td>\n",
       "      <td>1</td>\n",
       "      <td>0</td>\n",
       "      <td>0</td>\n",
       "      <td>0</td>\n",
       "      <td>0</td>\n",
       "      <td>0</td>\n",
       "      <td>0</td>\n",
       "      <td>0</td>\n",
       "      <td>0</td>\n",
       "      <td>0</td>\n",
       "    </tr>\n",
       "    <tr>\n",
       "      <th>4</th>\n",
       "      <td>1</td>\n",
       "      <td>0</td>\n",
       "      <td>1</td>\n",
       "      <td>1</td>\n",
       "      <td>0.998515</td>\n",
       "      <td>0.333333</td>\n",
       "      <td>0.096774</td>\n",
       "      <td>0.003584</td>\n",
       "      <td>0</td>\n",
       "      <td>0</td>\n",
       "      <td>...</td>\n",
       "      <td>1</td>\n",
       "      <td>0</td>\n",
       "      <td>0</td>\n",
       "      <td>0</td>\n",
       "      <td>0</td>\n",
       "      <td>0</td>\n",
       "      <td>0</td>\n",
       "      <td>0</td>\n",
       "      <td>0</td>\n",
       "      <td>0</td>\n",
       "    </tr>\n",
       "    <tr>\n",
       "      <th>...</th>\n",
       "      <td>...</td>\n",
       "      <td>...</td>\n",
       "      <td>...</td>\n",
       "      <td>...</td>\n",
       "      <td>...</td>\n",
       "      <td>...</td>\n",
       "      <td>...</td>\n",
       "      <td>...</td>\n",
       "      <td>...</td>\n",
       "      <td>...</td>\n",
       "      <td>...</td>\n",
       "      <td>...</td>\n",
       "      <td>...</td>\n",
       "      <td>...</td>\n",
       "      <td>...</td>\n",
       "      <td>...</td>\n",
       "      <td>...</td>\n",
       "      <td>...</td>\n",
       "      <td>...</td>\n",
       "      <td>...</td>\n",
       "      <td>...</td>\n",
       "    </tr>\n",
       "    <tr>\n",
       "      <th>5403</th>\n",
       "      <td>1</td>\n",
       "      <td>1</td>\n",
       "      <td>1</td>\n",
       "      <td>0</td>\n",
       "      <td>1.000000</td>\n",
       "      <td>0.583333</td>\n",
       "      <td>0.000000</td>\n",
       "      <td>0.003584</td>\n",
       "      <td>0</td>\n",
       "      <td>0</td>\n",
       "      <td>...</td>\n",
       "      <td>0</td>\n",
       "      <td>0</td>\n",
       "      <td>0</td>\n",
       "      <td>0</td>\n",
       "      <td>0</td>\n",
       "      <td>0</td>\n",
       "      <td>0</td>\n",
       "      <td>0</td>\n",
       "      <td>1</td>\n",
       "      <td>0</td>\n",
       "    </tr>\n",
       "    <tr>\n",
       "      <th>5404</th>\n",
       "      <td>0</td>\n",
       "      <td>0</td>\n",
       "      <td>1</td>\n",
       "      <td>0</td>\n",
       "      <td>1.000000</td>\n",
       "      <td>0.583333</td>\n",
       "      <td>0.000000</td>\n",
       "      <td>0.003584</td>\n",
       "      <td>0</td>\n",
       "      <td>0</td>\n",
       "      <td>...</td>\n",
       "      <td>0</td>\n",
       "      <td>0</td>\n",
       "      <td>0</td>\n",
       "      <td>0</td>\n",
       "      <td>0</td>\n",
       "      <td>1</td>\n",
       "      <td>0</td>\n",
       "      <td>0</td>\n",
       "      <td>0</td>\n",
       "      <td>0</td>\n",
       "    </tr>\n",
       "    <tr>\n",
       "      <th>5405</th>\n",
       "      <td>1</td>\n",
       "      <td>0</td>\n",
       "      <td>1</td>\n",
       "      <td>0</td>\n",
       "      <td>1.000000</td>\n",
       "      <td>0.583333</td>\n",
       "      <td>0.000000</td>\n",
       "      <td>0.996416</td>\n",
       "      <td>1</td>\n",
       "      <td>0</td>\n",
       "      <td>...</td>\n",
       "      <td>0</td>\n",
       "      <td>0</td>\n",
       "      <td>0</td>\n",
       "      <td>0</td>\n",
       "      <td>0</td>\n",
       "      <td>0</td>\n",
       "      <td>0</td>\n",
       "      <td>0</td>\n",
       "      <td>0</td>\n",
       "      <td>1</td>\n",
       "    </tr>\n",
       "    <tr>\n",
       "      <th>5406</th>\n",
       "      <td>1</td>\n",
       "      <td>0</td>\n",
       "      <td>1</td>\n",
       "      <td>0</td>\n",
       "      <td>1.000000</td>\n",
       "      <td>0.583333</td>\n",
       "      <td>0.000000</td>\n",
       "      <td>1.000000</td>\n",
       "      <td>1</td>\n",
       "      <td>0</td>\n",
       "      <td>...</td>\n",
       "      <td>0</td>\n",
       "      <td>0</td>\n",
       "      <td>0</td>\n",
       "      <td>0</td>\n",
       "      <td>0</td>\n",
       "      <td>0</td>\n",
       "      <td>0</td>\n",
       "      <td>0</td>\n",
       "      <td>0</td>\n",
       "      <td>1</td>\n",
       "    </tr>\n",
       "    <tr>\n",
       "      <th>5407</th>\n",
       "      <td>1</td>\n",
       "      <td>1</td>\n",
       "      <td>1</td>\n",
       "      <td>0</td>\n",
       "      <td>1.000000</td>\n",
       "      <td>0.666667</td>\n",
       "      <td>0.000000</td>\n",
       "      <td>0.010753</td>\n",
       "      <td>1</td>\n",
       "      <td>0</td>\n",
       "      <td>...</td>\n",
       "      <td>0</td>\n",
       "      <td>0</td>\n",
       "      <td>1</td>\n",
       "      <td>0</td>\n",
       "      <td>0</td>\n",
       "      <td>0</td>\n",
       "      <td>0</td>\n",
       "      <td>0</td>\n",
       "      <td>0</td>\n",
       "      <td>0</td>\n",
       "    </tr>\n",
       "  </tbody>\n",
       "</table>\n",
       "<p>5408 rows × 154 columns</p>\n",
       "</div>"
      ],
      "text/plain": [
       "      0    1    2    3         4         5         6         7    8    9    \\\n",
       "0       0    0    1    0  0.999505  0.916667  0.032258  0.003584    0    0   \n",
       "1       1    0    1    1  0.999010  0.750000  1.000000  0.035842    1    0   \n",
       "2       1    0    1    1  0.999010  0.750000  0.064516  0.032258    1    0   \n",
       "3       1    0    1    0  0.999505  0.166667  0.032258  0.240143    1    0   \n",
       "4       1    0    1    1  0.998515  0.333333  0.096774  0.003584    0    0   \n",
       "...   ...  ...  ...  ...       ...       ...       ...       ...  ...  ...   \n",
       "5403    1    1    1    0  1.000000  0.583333  0.000000  0.003584    0    0   \n",
       "5404    0    0    1    0  1.000000  0.583333  0.000000  0.003584    0    0   \n",
       "5405    1    0    1    0  1.000000  0.583333  0.000000  0.996416    1    0   \n",
       "5406    1    0    1    0  1.000000  0.583333  0.000000  1.000000    1    0   \n",
       "5407    1    1    1    0  1.000000  0.666667  0.000000  0.010753    1    0   \n",
       "\n",
       "      ...  144  145  146  147  148  149  150  151  152  153  \n",
       "0     ...    0    0    0    0    1    0    0    0    0    0  \n",
       "1     ...    1    0    0    0    0    0    0    0    0    0  \n",
       "2     ...    1    0    0    0    0    0    0    0    0    0  \n",
       "3     ...    1    0    0    0    0    0    0    0    0    0  \n",
       "4     ...    1    0    0    0    0    0    0    0    0    0  \n",
       "...   ...  ...  ...  ...  ...  ...  ...  ...  ...  ...  ...  \n",
       "5403  ...    0    0    0    0    0    0    0    0    1    0  \n",
       "5404  ...    0    0    0    0    0    1    0    0    0    0  \n",
       "5405  ...    0    0    0    0    0    0    0    0    0    1  \n",
       "5406  ...    0    0    0    0    0    0    0    0    0    1  \n",
       "5407  ...    0    0    1    0    0    0    0    0    0    0  \n",
       "\n",
       "[5408 rows x 154 columns]"
      ]
     },
     "execution_count": 6,
     "metadata": {},
     "output_type": "execute_result"
    }
   ],
   "source": [
    "a = pd.get_dummies(data[\"RecordType.Name\"], prefix='RecordType')\n",
    "b = pd.get_dummies(data[\"RICE_Supported__c\"], prefix='RICE_Supported')\n",
    "c = pd.get_dummies(data[\"Lead_Faculty__c\"], prefix='Lead_Faculty')\n",
    "d = pd.get_dummies(data[\"Lead_School__c\"], prefix='Lead_School')\n",
    "e = pd.get_dummies(data[\"Industry\"], prefix='Industry')\n",
    "f = pd.get_dummies(data[\"Industry_Sub_Type__c\"], prefix='Industry_Sub')\n",
    "g = pd.get_dummies(data[\"Business_Type__c\"], prefix='Business')\n",
    "scale1 = data[\"CreatedYear\"].div(2020)\n",
    "scale2 = data[\"CreatedMonth\"].div(12)\n",
    "org = data[[\"StageName\",\"Parent_Opportunity__c\",\"Is_External__c\",\"ParentId\"]]\n",
    "\n",
    "if 'year_length' in data.columns:\n",
    "    scale3 = data[\"year_length\"].div(31)\n",
    "    scale4 = data[\"RN\"].div(279)\n",
    "    scale5 = data[\"f_won_before\"]\n",
    "    df = pd.concat([org,scale1,scale2,scale3,scale4,scale5,a,b,c,d,e,f,g], axis=1, ignore_index=True)\n",
    "\n",
    "else:\n",
    "    df = pd.concat([org,scale1,scale2,a,b,c,d,e,f,g], axis=1, ignore_index=True)\n",
    "\n",
    "df"
   ]
  },
  {
   "cell_type": "code",
   "execution_count": 7,
   "metadata": {},
   "outputs": [],
   "source": [
    "# split xy\n",
    "dflist = df.values.tolist()\n",
    "x = torch.Tensor([i[1:] for i in dflist])\n",
    "y = torch.Tensor([i[0] for i in dflist])"
   ]
  },
  {
   "cell_type": "code",
   "execution_count": 116,
   "metadata": {},
   "outputs": [],
   "source": [
    "# train/dev split\n",
    "#x_train, x_dev, y_train, y_dev = train_test_split(x, y, test_size=0.30, random_state=42)"
   ]
  },
  {
   "cell_type": "code",
   "execution_count": 19,
   "metadata": {},
   "outputs": [
    {
     "name": "stdout",
     "output_type": "stream",
     "text": [
      "844.8874940872192\n",
      "fit_time 84.38827655315399\n",
      "score_time 0.083626389503479\n",
      "test_accuracy 0.6324070651057712\n",
      "test_precision 0.5080836193714422\n",
      "test_recall 0.49580549187923717\n",
      "test_f1 0.4997492217058196\n",
      "test_neg_log_loss -2.5825636434983097\n"
     ]
    }
   ],
   "source": [
    "import time\n",
    "start = time.time()\n",
    "\n",
    "act = \"oversample\"\n",
    "\n",
    "scoring_metrics = [\"accuracy\",\"precision\",\"recall\",\"f1\",\"neg_log_loss\"]\n",
    "node = 256\n",
    "# results = {}\n",
    "\n",
    "clf = MLPClassifier(activation=\"relu\",hidden_layer_sizes=(node,node,node,node,node),batch_size=64,max_iter=200)\n",
    "cv_score = cross_validate(estimator=clf, X=x, y=y, cv=10,scoring=scoring_metrics)\n",
    "\n",
    "#results[act] = []\n",
    "#for k,v in cv_score.items():\n",
    "#    results[act].append(v.mean())\n",
    "#print(results[act])\n",
    "\n",
    "end = time.time()\n",
    "print(end-start)\n",
    "for k,v in cv_score.items():\n",
    "    print(k,v.mean())"
   ]
  },
  {
   "cell_type": "code",
   "execution_count": 18,
   "metadata": {},
   "outputs": [
    {
     "name": "stdout",
     "output_type": "stream",
     "text": [
      "733.5860290527344\n",
      "fit_time 72.56048967838288\n",
      "score_time 0.036045503616333005\n",
      "test_accuracy 0.6401639624837407\n",
      "test_precision 0.5188673336501652\n",
      "test_recall 0.509188899185485\n",
      "test_f1 0.5127089828480215\n",
      "test_neg_log_loss -2.443710985627168\n"
     ]
    }
   ],
   "source": []
  },
  {
   "cell_type": "code",
   "execution_count": 21,
   "metadata": {},
   "outputs": [
    {
     "data": {
      "text/plain": [
       "14.081458234786988"
      ]
     },
     "execution_count": 21,
     "metadata": {},
     "output_type": "execute_result"
    }
   ],
   "source": [
    "844.8874940872192/60"
   ]
  },
  {
   "cell_type": "code",
   "execution_count": 143,
   "metadata": {},
   "outputs": [],
   "source": [
    "results = {'Base': [105.25513784885406,\n",
    "  0.056074213981628415,\n",
    "  0.826765353542316,\n",
    "  0.781346187303129,\n",
    "  0.9502738051582936,\n",
    "  0.8570099869631248,\n",
    "  -1.0470455009196769],\n",
    " 'Additional': [87.64153358936309,\n",
    "  0.04797914028167725,\n",
    "  0.8439866426267807,\n",
    "  0.7932374409806895,\n",
    "  0.9680833638919448,\n",
    "  0.8714282997849964,\n",
    "  -1.0765996949242047],\n",
    "  'Cross-Features': [75.38261518478393, 0.039606142044067386, 0.8224544989533943, 0.7751064392704368, 0.9525009167583425, 0.8542861562458229, -1.101768945389834],\n",
    "  'All': [93.96685729026794, 0.06993508338928223, 0.8416982583175223, 0.7949519157449599, 0.9606551766287741, 0.8691713840550348, -1.068711333000532]  \n",
    "          }"
   ]
  },
  {
   "cell_type": "code",
   "execution_count": 168,
   "metadata": {},
   "outputs": [
    {
     "name": "stdout",
     "output_type": "stream",
     "text": [
      "features accuracy precision recall test_f1 neg_log_loss\n",
      "Base \t [ 0.82677  0.78135  0.95027  0.85701 -1.04705]\n",
      "Additional \t [ 0.84399  0.79324  0.96808  0.87143 -1.0766 ]\n",
      "Cross-Features \t [ 0.82245  0.77511  0.9525   0.85429 -1.10177]\n",
      "All \t [ 0.8417   0.79495  0.96066  0.86917 -1.06871]\n"
     ]
    }
   ],
   "source": [
    "results_columns = ['fit_time','score_time'] + [\"Accuracy\",\"Precision\",\"Recall\",\"F1_score\",\"neg_log_loss\"]\n",
    "print(\"features \"+\" \".join([\"accuracy\",\"precision\",\"recall\",\"test_f1\",\"neg_log_loss\"]))\n",
    "for k,v in results.items():\n",
    "    print(k,\"\\t\",np.round(v[2:],5))"
   ]
  },
  {
   "cell_type": "code",
   "execution_count": 175,
   "metadata": {},
   "outputs": [
    {
     "name": "stdout",
     "output_type": "stream",
     "text": [
      "Base \t [105.25513784885406, 0.056074213981628415]\n",
      "Additional \t [87.64153358936309, 0.04797914028167725]\n",
      "Cross-Features \t [75.38261518478393, 0.039606142044067386]\n",
      "All \t [93.96685729026794, 0.06993508338928223]\n"
     ]
    }
   ],
   "source": [
    "for k,v in results.items():\n",
    "    print(k,\"\\t\",v[:2])"
   ]
  },
  {
   "cell_type": "code",
   "execution_count": 169,
   "metadata": {},
   "outputs": [
    {
     "data": {
      "text/plain": [
       "<matplotlib.legend.Legend at 0x7ffc1a29fbd0>"
      ]
     },
     "execution_count": 169,
     "metadata": {},
     "output_type": "execute_result"
    },
    {
     "data": {
      "image/png": "[encoded data removed]",
      "text/html": [
       "\n",
       "\n",
       "<style>\n",
       "\n",
       "</style>\n",
       "\n",
       "<div id=\"fig_el47661407207472864803814984007\"></div>\n",
       "<script>\n",
       "function mpld3_load_lib(url, callback){\n",
       "  var s = document.createElement('script');\n",
       "  s.src = url;\n",
       "  s.async = true;\n",
       "  s.onreadystatechange = s.onload = callback;\n",
       "  s.onerror = function(){console.warn(\"failed to load library \" + url);};\n",
       "  document.getElementsByTagName(\"head\")[0].appendChild(s);\n",
       "}\n",
       "\n",
       "if(typeof(mpld3) !== \"undefined\" && mpld3._mpld3IsLoaded){\n",
       "   // already loaded: just create the figure\n",
       "   !function(mpld3){\n",
       "       \n",
       "       mpld3.draw_figure(\"fig_el47661407207472864803814984007\", {\"width\": 432.0, \"height\": 288.0, \"axes\": [{\"bbox\": [0.125, 0.125, 0.775, 0.755], \"xlim\": [-0.15000000000000002, 3.15], \"ylim\": [0.7654575930393613, 0.9777322101230203], \"xdomain\": [-0.15000000000000002, 3.15], \"ydomain\": [0.7654575930393613, 0.9777322101230203], \"xscale\": \"linear\", \"yscale\": \"linear\", \"axes\": [{\"position\": \"bottom\", \"nticks\": 4, \"tickvalues\": null, \"tickformat_formatter\": \"\", \"tickformat\": null, \"scale\": \"linear\", \"fontsize\": 10.0, \"grid\": {\"gridOn\": true, \"color\": \"#FFFFFF\", \"dasharray\": \"none\", \"alpha\": 1.0}, \"visible\": true}, {\"position\": \"left\", \"nticks\": 11, \"tickvalues\": null, \"tickformat_formatter\": \"\", \"tickformat\": null, \"scale\": \"linear\", \"fontsize\": 10.0, \"grid\": {\"gridOn\": true, \"color\": \"#FFFFFF\", \"dasharray\": \"none\", \"alpha\": 1.0}, \"visible\": true}], \"axesbg\": \"#E5E5E5\", \"axesbgalpha\": null, \"zoomable\": true, \"id\": \"el4766140720746711696\", \"lines\": [{\"data\": \"data01\", \"xindex\": 0, \"yindex\": 1, \"coordinates\": \"data\", \"id\": \"el4766140720837503504\", \"color\": \"#E24A33\", \"linewidth\": 1.5, \"dasharray\": \"none\", \"alpha\": 1, \"zorder\": 2, \"drawstyle\": \"default\"}, {\"data\": \"data01\", \"xindex\": 0, \"yindex\": 2, \"coordinates\": \"data\", \"id\": \"el4766140720714807760\", \"color\": \"#348ABD\", \"linewidth\": 1.5, \"dasharray\": \"none\", \"alpha\": 1, \"zorder\": 2, \"drawstyle\": \"default\"}, {\"data\": \"data01\", \"xindex\": 0, \"yindex\": 3, \"coordinates\": \"data\", \"id\": \"el4766140720714732816\", \"color\": \"#988ED5\", \"linewidth\": 1.5, \"dasharray\": \"none\", \"alpha\": 1, \"zorder\": 2, \"drawstyle\": \"default\"}, {\"data\": \"data01\", \"xindex\": 0, \"yindex\": 4, \"coordinates\": \"data\", \"id\": \"el4766140720714734032\", \"color\": \"#777777\", \"linewidth\": 1.5, \"dasharray\": \"none\", \"alpha\": 1, \"zorder\": 2, \"drawstyle\": \"default\"}, {\"data\": \"data02\", \"xindex\": 0, \"yindex\": 1, \"coordinates\": \"axes\", \"id\": \"el4766140720837542736\", \"color\": \"#E24A33\", \"linewidth\": 1.5, \"dasharray\": \"none\", \"alpha\": 1, \"zorder\": 1000002.0, \"drawstyle\": \"default\"}, {\"data\": \"data02\", \"xindex\": 0, \"yindex\": 2, \"coordinates\": \"axes\", \"id\": \"el4766140720714798288\", \"color\": \"#348ABD\", \"linewidth\": 1.5, \"dasharray\": \"none\", \"alpha\": 1, \"zorder\": 1000002.0, \"drawstyle\": \"default\"}, {\"data\": \"data02\", \"xindex\": 0, \"yindex\": 3, \"coordinates\": \"axes\", \"id\": \"el4766140720714799888\", \"color\": \"#988ED5\", \"linewidth\": 1.5, \"dasharray\": \"none\", \"alpha\": 1, \"zorder\": 1000002.0, \"drawstyle\": \"default\"}, {\"data\": \"data02\", \"xindex\": 0, \"yindex\": 4, \"coordinates\": \"axes\", \"id\": \"el4766140720714781200\", \"color\": \"#777777\", \"linewidth\": 1.5, \"dasharray\": \"none\", \"alpha\": 1, \"zorder\": 1000002.0, \"drawstyle\": \"default\"}], \"paths\": [{\"data\": \"data03\", \"xindex\": 0, \"yindex\": 1, \"coordinates\": \"axes\", \"pathcodes\": [\"M\", \"L\", \"S\", \"L\", \"S\", \"L\", \"S\", \"L\", \"S\", \"Z\"], \"id\": \"el4766140720714735312\", \"dasharray\": \"none\", \"alpha\": 0.8, \"facecolor\": \"rgba(229, 229, 229, 0.8)\", \"edgecolor\": \"rgba(204, 204, 204, 0.8)\", \"edgewidth\": 0.5, \"zorder\": 1000000.0}], \"markers\": [], \"texts\": [{\"text\": \"DNN dataset comparisons\", \"position\": [0.49999999999999994, 1.0275938189845473], \"coordinates\": \"axes\", \"h_anchor\": \"middle\", \"v_baseline\": \"auto\", \"rotation\": -0.0, \"fontsize\": 14.399999999999999, \"color\": \"#000000\", \"alpha\": 1, \"zorder\": 3, \"id\": \"el4766140720747444816\"}, {\"text\": \"Base\", \"position\": [0.11051373954599761, 0.9218175128771156], \"coordinates\": \"axes\", \"h_anchor\": \"start\", \"v_baseline\": \"auto\", \"rotation\": -0.0, \"fontsize\": 10.0, \"color\": \"#000000\", \"alpha\": 1, \"zorder\": 1000003.0, \"id\": \"el4766140720714797776\"}, {\"text\": \"Additional\", \"position\": [0.11051373954599761, 0.8528329654157469], \"coordinates\": \"axes\", \"h_anchor\": \"start\", \"v_baseline\": \"auto\", \"rotation\": -0.0, \"fontsize\": 10.0, \"color\": \"#000000\", \"alpha\": 1, \"zorder\": 1000003.0, \"id\": \"el4766140720714799440\"}, {\"text\": \"Cross-Features\", \"position\": [0.11051373954599761, 0.7838484179543781], \"coordinates\": \"axes\", \"h_anchor\": \"start\", \"v_baseline\": \"auto\", \"rotation\": -0.0, \"fontsize\": 10.0, \"color\": \"#000000\", \"alpha\": 1, \"zorder\": 1000003.0, \"id\": \"el4766140720714801104\"}, {\"text\": \"All\", \"position\": [0.11051373954599761, 0.7148638704930095], \"coordinates\": \"axes\", \"h_anchor\": \"start\", \"v_baseline\": \"auto\", \"rotation\": -0.0, \"fontsize\": 10.0, \"color\": \"#000000\", \"alpha\": 1, \"zorder\": 1000003.0, \"id\": \"el4766140720714782480\"}], \"collections\": [], \"images\": [], \"sharex\": [], \"sharey\": []}], \"data\": {\"data01\": [[0.0, 0.826765353542316, 0.8439866426267807, 0.8224544989533943, 0.8416982583175223], [1.0, 0.781346187303129, 0.7932374409806895, 0.7751064392704368, 0.7949519157449599], [2.0, 0.9502738051582936, 0.9680833638919448, 0.9525009167583425, 0.9606551766287741], [3.0, 0.8570099869631248, 0.8714282997849964, 0.8542861562458229, 0.8691713840550348]], \"data02\": [[0.026881720430107503, 0.9379139072847682, 0.8689293598233996, 0.7999448123620307, 0.7309602649006621], [0.08661887694145756, 0.9379139072847682, 0.8689293598233996, 0.7999448123620307, 0.7309602649006621]], \"data03\": [[0.020908004778972505, 0.687270051508462], [0.34012843488649935, 0.687270051508462], [0.3461021505376344, 0.687270051508462], [0.3461021505376344, 0.6964679911699778], [0.3461021505376344, 0.9678072111846947], [0.3461021505376344, 0.9770051508462105], [0.34012843488649935, 0.9770051508462105], [0.020908004778972505, 0.9770051508462105], [0.014934289127837508, 0.9770051508462105], [0.014934289127837508, 0.9678072111846947], [0.014934289127837508, 0.6964679911699778], [0.014934289127837508, 0.687270051508462], [0.020908004778972505, 0.687270051508462]]}, \"id\": \"el4766140720747286480\", \"plugins\": [{\"type\": \"reset\"}, {\"type\": \"zoom\", \"button\": true, \"enabled\": false}, {\"type\": \"boxzoom\", \"button\": true, \"enabled\": false}]});\n",
       "   }(mpld3);\n",
       "}else if(typeof define === \"function\" && define.amd){\n",
       "   // require.js is available: use it to load d3/mpld3\n",
       "   require.config({paths: {d3: \"https://d3js.org/d3.v5\"}});\n",
       "   require([\"d3\"], function(d3){\n",
       "      window.d3 = d3;\n",
       "      mpld3_load_lib(\"https://mpld3.github.io/js/mpld3.v0.5.1.js\", function(){\n",
       "         \n",
       "         mpld3.draw_figure(\"fig_el47661407207472864803814984007\", {\"width\": 432.0, \"height\": 288.0, \"axes\": [{\"bbox\": [0.125, 0.125, 0.775, 0.755], \"xlim\": [-0.15000000000000002, 3.15], \"ylim\": [0.7654575930393613, 0.9777322101230203], \"xdomain\": [-0.15000000000000002, 3.15], \"ydomain\": [0.7654575930393613, 0.9777322101230203], \"xscale\": \"linear\", \"yscale\": \"linear\", \"axes\": [{\"position\": \"bottom\", \"nticks\": 4, \"tickvalues\": null, \"tickformat_formatter\": \"\", \"tickformat\": null, \"scale\": \"linear\", \"fontsize\": 10.0, \"grid\": {\"gridOn\": true, \"color\": \"#FFFFFF\", \"dasharray\": \"none\", \"alpha\": 1.0}, \"visible\": true}, {\"position\": \"left\", \"nticks\": 11, \"tickvalues\": null, \"tickformat_formatter\": \"\", \"tickformat\": null, \"scale\": \"linear\", \"fontsize\": 10.0, \"grid\": {\"gridOn\": true, \"color\": \"#FFFFFF\", \"dasharray\": \"none\", \"alpha\": 1.0}, \"visible\": true}], \"axesbg\": \"#E5E5E5\", \"axesbgalpha\": null, \"zoomable\": true, \"id\": \"el4766140720746711696\", \"lines\": [{\"data\": \"data01\", \"xindex\": 0, \"yindex\": 1, \"coordinates\": \"data\", \"id\": \"el4766140720837503504\", \"color\": \"#E24A33\", \"linewidth\": 1.5, \"dasharray\": \"none\", \"alpha\": 1, \"zorder\": 2, \"drawstyle\": \"default\"}, {\"data\": \"data01\", \"xindex\": 0, \"yindex\": 2, \"coordinates\": \"data\", \"id\": \"el4766140720714807760\", \"color\": \"#348ABD\", \"linewidth\": 1.5, \"dasharray\": \"none\", \"alpha\": 1, \"zorder\": 2, \"drawstyle\": \"default\"}, {\"data\": \"data01\", \"xindex\": 0, \"yindex\": 3, \"coordinates\": \"data\", \"id\": \"el4766140720714732816\", \"color\": \"#988ED5\", \"linewidth\": 1.5, \"dasharray\": \"none\", \"alpha\": 1, \"zorder\": 2, \"drawstyle\": \"default\"}, {\"data\": \"data01\", \"xindex\": 0, \"yindex\": 4, \"coordinates\": \"data\", \"id\": \"el4766140720714734032\", \"color\": \"#777777\", \"linewidth\": 1.5, \"dasharray\": \"none\", \"alpha\": 1, \"zorder\": 2, \"drawstyle\": \"default\"}, {\"data\": \"data02\", \"xindex\": 0, \"yindex\": 1, \"coordinates\": \"axes\", \"id\": \"el4766140720837542736\", \"color\": \"#E24A33\", \"linewidth\": 1.5, \"dasharray\": \"none\", \"alpha\": 1, \"zorder\": 1000002.0, \"drawstyle\": \"default\"}, {\"data\": \"data02\", \"xindex\": 0, \"yindex\": 2, \"coordinates\": \"axes\", \"id\": \"el4766140720714798288\", \"color\": \"#348ABD\", \"linewidth\": 1.5, \"dasharray\": \"none\", \"alpha\": 1, \"zorder\": 1000002.0, \"drawstyle\": \"default\"}, {\"data\": \"data02\", \"xindex\": 0, \"yindex\": 3, \"coordinates\": \"axes\", \"id\": \"el4766140720714799888\", \"color\": \"#988ED5\", \"linewidth\": 1.5, \"dasharray\": \"none\", \"alpha\": 1, \"zorder\": 1000002.0, \"drawstyle\": \"default\"}, {\"data\": \"data02\", \"xindex\": 0, \"yindex\": 4, \"coordinates\": \"axes\", \"id\": \"el4766140720714781200\", \"color\": \"#777777\", \"linewidth\": 1.5, \"dasharray\": \"none\", \"alpha\": 1, \"zorder\": 1000002.0, \"drawstyle\": \"default\"}], \"paths\": [{\"data\": \"data03\", \"xindex\": 0, \"yindex\": 1, \"coordinates\": \"axes\", \"pathcodes\": [\"M\", \"L\", \"S\", \"L\", \"S\", \"L\", \"S\", \"L\", \"S\", \"Z\"], \"id\": \"el4766140720714735312\", \"dasharray\": \"none\", \"alpha\": 0.8, \"facecolor\": \"rgba(229, 229, 229, 0.8)\", \"edgecolor\": \"rgba(204, 204, 204, 0.8)\", \"edgewidth\": 0.5, \"zorder\": 1000000.0}], \"markers\": [], \"texts\": [{\"text\": \"DNN dataset comparisons\", \"position\": [0.49999999999999994, 1.0275938189845473], \"coordinates\": \"axes\", \"h_anchor\": \"middle\", \"v_baseline\": \"auto\", \"rotation\": -0.0, \"fontsize\": 14.399999999999999, \"color\": \"#000000\", \"alpha\": 1, \"zorder\": 3, \"id\": \"el4766140720747444816\"}, {\"text\": \"Base\", \"position\": [0.11051373954599761, 0.9218175128771156], \"coordinates\": \"axes\", \"h_anchor\": \"start\", \"v_baseline\": \"auto\", \"rotation\": -0.0, \"fontsize\": 10.0, \"color\": \"#000000\", \"alpha\": 1, \"zorder\": 1000003.0, \"id\": \"el4766140720714797776\"}, {\"text\": \"Additional\", \"position\": [0.11051373954599761, 0.8528329654157469], \"coordinates\": \"axes\", \"h_anchor\": \"start\", \"v_baseline\": \"auto\", \"rotation\": -0.0, \"fontsize\": 10.0, \"color\": \"#000000\", \"alpha\": 1, \"zorder\": 1000003.0, \"id\": \"el4766140720714799440\"}, {\"text\": \"Cross-Features\", \"position\": [0.11051373954599761, 0.7838484179543781], \"coordinates\": \"axes\", \"h_anchor\": \"start\", \"v_baseline\": \"auto\", \"rotation\": -0.0, \"fontsize\": 10.0, \"color\": \"#000000\", \"alpha\": 1, \"zorder\": 1000003.0, \"id\": \"el4766140720714801104\"}, {\"text\": \"All\", \"position\": [0.11051373954599761, 0.7148638704930095], \"coordinates\": \"axes\", \"h_anchor\": \"start\", \"v_baseline\": \"auto\", \"rotation\": -0.0, \"fontsize\": 10.0, \"color\": \"#000000\", \"alpha\": 1, \"zorder\": 1000003.0, \"id\": \"el4766140720714782480\"}], \"collections\": [], \"images\": [], \"sharex\": [], \"sharey\": []}], \"data\": {\"data01\": [[0.0, 0.826765353542316, 0.8439866426267807, 0.8224544989533943, 0.8416982583175223], [1.0, 0.781346187303129, 0.7932374409806895, 0.7751064392704368, 0.7949519157449599], [2.0, 0.9502738051582936, 0.9680833638919448, 0.9525009167583425, 0.9606551766287741], [3.0, 0.8570099869631248, 0.8714282997849964, 0.8542861562458229, 0.8691713840550348]], \"data02\": [[0.026881720430107503, 0.9379139072847682, 0.8689293598233996, 0.7999448123620307, 0.7309602649006621], [0.08661887694145756, 0.9379139072847682, 0.8689293598233996, 0.7999448123620307, 0.7309602649006621]], \"data03\": [[0.020908004778972505, 0.687270051508462], [0.34012843488649935, 0.687270051508462], [0.3461021505376344, 0.687270051508462], [0.3461021505376344, 0.6964679911699778], [0.3461021505376344, 0.9678072111846947], [0.3461021505376344, 0.9770051508462105], [0.34012843488649935, 0.9770051508462105], [0.020908004778972505, 0.9770051508462105], [0.014934289127837508, 0.9770051508462105], [0.014934289127837508, 0.9678072111846947], [0.014934289127837508, 0.6964679911699778], [0.014934289127837508, 0.687270051508462], [0.020908004778972505, 0.687270051508462]]}, \"id\": \"el4766140720747286480\", \"plugins\": [{\"type\": \"reset\"}, {\"type\": \"zoom\", \"button\": true, \"enabled\": false}, {\"type\": \"boxzoom\", \"button\": true, \"enabled\": false}]});\n",
       "      });\n",
       "    });\n",
       "}else{\n",
       "    // require.js not available: dynamically load d3 & mpld3\n",
       "    mpld3_load_lib(\"https://d3js.org/d3.v5.js\", function(){\n",
       "         mpld3_load_lib(\"https://mpld3.github.io/js/mpld3.v0.5.1.js\", function(){\n",
       "                 \n",
       "                 mpld3.draw_figure(\"fig_el47661407207472864803814984007\", {\"width\": 432.0, \"height\": 288.0, \"axes\": [{\"bbox\": [0.125, 0.125, 0.775, 0.755], \"xlim\": [-0.15000000000000002, 3.15], \"ylim\": [0.7654575930393613, 0.9777322101230203], \"xdomain\": [-0.15000000000000002, 3.15], \"ydomain\": [0.7654575930393613, 0.9777322101230203], \"xscale\": \"linear\", \"yscale\": \"linear\", \"axes\": [{\"position\": \"bottom\", \"nticks\": 4, \"tickvalues\": null, \"tickformat_formatter\": \"\", \"tickformat\": null, \"scale\": \"linear\", \"fontsize\": 10.0, \"grid\": {\"gridOn\": true, \"color\": \"#FFFFFF\", \"dasharray\": \"none\", \"alpha\": 1.0}, \"visible\": true}, {\"position\": \"left\", \"nticks\": 11, \"tickvalues\": null, \"tickformat_formatter\": \"\", \"tickformat\": null, \"scale\": \"linear\", \"fontsize\": 10.0, \"grid\": {\"gridOn\": true, \"color\": \"#FFFFFF\", \"dasharray\": \"none\", \"alpha\": 1.0}, \"visible\": true}], \"axesbg\": \"#E5E5E5\", \"axesbgalpha\": null, \"zoomable\": true, \"id\": \"el4766140720746711696\", \"lines\": [{\"data\": \"data01\", \"xindex\": 0, \"yindex\": 1, \"coordinates\": \"data\", \"id\": \"el4766140720837503504\", \"color\": \"#E24A33\", \"linewidth\": 1.5, \"dasharray\": \"none\", \"alpha\": 1, \"zorder\": 2, \"drawstyle\": \"default\"}, {\"data\": \"data01\", \"xindex\": 0, \"yindex\": 2, \"coordinates\": \"data\", \"id\": \"el4766140720714807760\", \"color\": \"#348ABD\", \"linewidth\": 1.5, \"dasharray\": \"none\", \"alpha\": 1, \"zorder\": 2, \"drawstyle\": \"default\"}, {\"data\": \"data01\", \"xindex\": 0, \"yindex\": 3, \"coordinates\": \"data\", \"id\": \"el4766140720714732816\", \"color\": \"#988ED5\", \"linewidth\": 1.5, \"dasharray\": \"none\", \"alpha\": 1, \"zorder\": 2, \"drawstyle\": \"default\"}, {\"data\": \"data01\", \"xindex\": 0, \"yindex\": 4, \"coordinates\": \"data\", \"id\": \"el4766140720714734032\", \"color\": \"#777777\", \"linewidth\": 1.5, \"dasharray\": \"none\", \"alpha\": 1, \"zorder\": 2, \"drawstyle\": \"default\"}, {\"data\": \"data02\", \"xindex\": 0, \"yindex\": 1, \"coordinates\": \"axes\", \"id\": \"el4766140720837542736\", \"color\": \"#E24A33\", \"linewidth\": 1.5, \"dasharray\": \"none\", \"alpha\": 1, \"zorder\": 1000002.0, \"drawstyle\": \"default\"}, {\"data\": \"data02\", \"xindex\": 0, \"yindex\": 2, \"coordinates\": \"axes\", \"id\": \"el4766140720714798288\", \"color\": \"#348ABD\", \"linewidth\": 1.5, \"dasharray\": \"none\", \"alpha\": 1, \"zorder\": 1000002.0, \"drawstyle\": \"default\"}, {\"data\": \"data02\", \"xindex\": 0, \"yindex\": 3, \"coordinates\": \"axes\", \"id\": \"el4766140720714799888\", \"color\": \"#988ED5\", \"linewidth\": 1.5, \"dasharray\": \"none\", \"alpha\": 1, \"zorder\": 1000002.0, \"drawstyle\": \"default\"}, {\"data\": \"data02\", \"xindex\": 0, \"yindex\": 4, \"coordinates\": \"axes\", \"id\": \"el4766140720714781200\", \"color\": \"#777777\", \"linewidth\": 1.5, \"dasharray\": \"none\", \"alpha\": 1, \"zorder\": 1000002.0, \"drawstyle\": \"default\"}], \"paths\": [{\"data\": \"data03\", \"xindex\": 0, \"yindex\": 1, \"coordinates\": \"axes\", \"pathcodes\": [\"M\", \"L\", \"S\", \"L\", \"S\", \"L\", \"S\", \"L\", \"S\", \"Z\"], \"id\": \"el4766140720714735312\", \"dasharray\": \"none\", \"alpha\": 0.8, \"facecolor\": \"rgba(229, 229, 229, 0.8)\", \"edgecolor\": \"rgba(204, 204, 204, 0.8)\", \"edgewidth\": 0.5, \"zorder\": 1000000.0}], \"markers\": [], \"texts\": [{\"text\": \"DNN dataset comparisons\", \"position\": [0.49999999999999994, 1.0275938189845473], \"coordinates\": \"axes\", \"h_anchor\": \"middle\", \"v_baseline\": \"auto\", \"rotation\": -0.0, \"fontsize\": 14.399999999999999, \"color\": \"#000000\", \"alpha\": 1, \"zorder\": 3, \"id\": \"el4766140720747444816\"}, {\"text\": \"Base\", \"position\": [0.11051373954599761, 0.9218175128771156], \"coordinates\": \"axes\", \"h_anchor\": \"start\", \"v_baseline\": \"auto\", \"rotation\": -0.0, \"fontsize\": 10.0, \"color\": \"#000000\", \"alpha\": 1, \"zorder\": 1000003.0, \"id\": \"el4766140720714797776\"}, {\"text\": \"Additional\", \"position\": [0.11051373954599761, 0.8528329654157469], \"coordinates\": \"axes\", \"h_anchor\": \"start\", \"v_baseline\": \"auto\", \"rotation\": -0.0, \"fontsize\": 10.0, \"color\": \"#000000\", \"alpha\": 1, \"zorder\": 1000003.0, \"id\": \"el4766140720714799440\"}, {\"text\": \"Cross-Features\", \"position\": [0.11051373954599761, 0.7838484179543781], \"coordinates\": \"axes\", \"h_anchor\": \"start\", \"v_baseline\": \"auto\", \"rotation\": -0.0, \"fontsize\": 10.0, \"color\": \"#000000\", \"alpha\": 1, \"zorder\": 1000003.0, \"id\": \"el4766140720714801104\"}, {\"text\": \"All\", \"position\": [0.11051373954599761, 0.7148638704930095], \"coordinates\": \"axes\", \"h_anchor\": \"start\", \"v_baseline\": \"auto\", \"rotation\": -0.0, \"fontsize\": 10.0, \"color\": \"#000000\", \"alpha\": 1, \"zorder\": 1000003.0, \"id\": \"el4766140720714782480\"}], \"collections\": [], \"images\": [], \"sharex\": [], \"sharey\": []}], \"data\": {\"data01\": [[0.0, 0.826765353542316, 0.8439866426267807, 0.8224544989533943, 0.8416982583175223], [1.0, 0.781346187303129, 0.7932374409806895, 0.7751064392704368, 0.7949519157449599], [2.0, 0.9502738051582936, 0.9680833638919448, 0.9525009167583425, 0.9606551766287741], [3.0, 0.8570099869631248, 0.8714282997849964, 0.8542861562458229, 0.8691713840550348]], \"data02\": [[0.026881720430107503, 0.9379139072847682, 0.8689293598233996, 0.7999448123620307, 0.7309602649006621], [0.08661887694145756, 0.9379139072847682, 0.8689293598233996, 0.7999448123620307, 0.7309602649006621]], \"data03\": [[0.020908004778972505, 0.687270051508462], [0.34012843488649935, 0.687270051508462], [0.3461021505376344, 0.687270051508462], [0.3461021505376344, 0.6964679911699778], [0.3461021505376344, 0.9678072111846947], [0.3461021505376344, 0.9770051508462105], [0.34012843488649935, 0.9770051508462105], [0.020908004778972505, 0.9770051508462105], [0.014934289127837508, 0.9770051508462105], [0.014934289127837508, 0.9678072111846947], [0.014934289127837508, 0.6964679911699778], [0.014934289127837508, 0.687270051508462], [0.020908004778972505, 0.687270051508462]]}, \"id\": \"el4766140720747286480\", \"plugins\": [{\"type\": \"reset\"}, {\"type\": \"zoom\", \"button\": true, \"enabled\": false}, {\"type\": \"boxzoom\", \"button\": true, \"enabled\": false}]});\n",
       "            })\n",
       "         });\n",
       "}\n",
       "</script>"
      ],
      "text/plain": [
       "<Figure size 432x288 with 1 Axes>"
      ]
     },
     "metadata": {},
     "output_type": "display_data"
    }
   ],
   "source": [
    "for k,v in results.items():\n",
    "    plt.plot(results_columns[2:6],v[2:6])\n",
    "\n",
    "plt.title(\"DNN dataset comparisons\")\n",
    "plt.legend((results.keys()))"
   ]
  },
  {
   "cell_type": "markdown",
   "metadata": {},
   "source": [
    "## Nodes per layer -- 56,128,256,520,720,1024,2048"
   ]
  },
  {
   "cell_type": "code",
   "execution_count": 54,
   "metadata": {},
   "outputs": [
    {
     "name": "stderr",
     "output_type": "stream",
     "text": [
      "/Users/huangraelene/opt/anaconda3/envs/tnsfl/lib/python3.7/site-packages/sklearn/neural_network/_multilayer_perceptron.py:571: ConvergenceWarning: Stochastic Optimizer: Maximum iterations (200) reached and the optimization hasn't converged yet.\n",
      "  % self.max_iter, ConvergenceWarning)\n"
     ]
    },
    {
     "name": "stdout",
     "output_type": "stream",
     "text": [
      "[23.22987244129181, 0.013808751106262207, 0.8134292026569636, 0.763816411385841, 0.955465102065762, 0.8484282356693011, -1.042475134899076]\n",
      "[31.631463861465456, 0.022289490699768065, 0.8193614798315274, 0.7711945338572244, 0.9522601149003789, 0.8519480453342583, -1.1257096170636545]\n"
     ]
    }
   ],
   "source": [
    "\n",
    "scoring_metrics = [\"accuracy\",\"precision\",\"recall\",\"f1\",\"neg_log_loss\"]\n",
    "#neurons = [56,128,256,520,720,1024,2048,3072]\n",
    "neurons = [56,128]\n",
    "results_neurons = {}\n",
    "\n",
    "for i in neurons:\n",
    "    clf = MLPClassifier(hidden_layer_sizes=(i,i,i,i),batch_size=64,max_iter=200)\n",
    "    cv_score = cross_validate(estimator=clf, X=x, y=y, cv=10,scoring=scoring_metrics)\n",
    "    \n",
    "    results_neurons[i] = []\n",
    "    for k,v in cv_score.items():\n",
    "        results_neurons[i].append(v.mean())\n",
    "        \n",
    "    print(results_neurons[i])"
   ]
  },
  {
   "cell_type": "code",
   "execution_count": 55,
   "metadata": {},
   "outputs": [],
   "source": [
    "results_columns = ['fit_time','score_time'] + [\"accuracy\",\"precision\",\"recall\",\"test_f1\",\"neg_log_loss\"]\n",
    "results =  {56: [23.22987244129181, 0.013808751106262207, 0.8134292026569636, 0.763816411385841, 0.955465102065762, 0.8484282356693011, -1.042475134899076],\n",
    " 128: [31.631463861465456, 0.022289490699768065, 0.8193614798315274, 0.7711945338572244, 0.9522601149003789, 0.8519480453342583, -1.1257096170636545],\n",
    " 256: [64.65927577018738, 0.03256785869598389, 0.8255504202747657, 0.7769213372828926, 0.9557242390905756, 0.8568140855818175, -1.14597122484416],\n",
    " 520: [217.71550931930543, 0.1000105857849121, 0.8220516373846829, 0.7744787656470684, 0.952260726072607, 0.8539436380453888, -1.0732707088328284],\n",
    " 720: [455.5045162200928, 0.13085949420928955, 0.8227224082451488, 0.7751839949411072, 0.9522570590392372, 0.8543595921465006, -1.0892999671287698],\n",
    " 1024: [617.3078515529633,\n",
    "  0.21911213397979737,\n",
    "  0.817745136095018,\n",
    "  0.7747489844595402,\n",
    "  0.9416202175773132,\n",
    "  0.8495067646735505,\n",
    "  -1.0780366980967746],\n",
    "  2048: [1840.872208404541, 0.5915478229522705, 0.8065689471908521, 0.7614520529481474, 0.9418677423297884, 0.8417096376776178, -1.0536682220871687],\n",
    "  3072: [4154.574123716355, 1.1990283012390137, 0.8184157255680148, 0.7742958900913458, 0.9428578413396895, 0.8500406547711462, -0.9516547992430542]\n",
    "  }"
   ]
  },
  {
   "cell_type": "code",
   "execution_count": 60,
   "metadata": {},
   "outputs": [
    {
     "name": "stdout",
     "output_type": "stream",
     "text": [
      "\taccuracy precision recall test_f1 neg_log_loss\n",
      "56 \t [ 0.8134  0.7638  0.9555  0.8484 -1.0425]\n",
      "128 \t [ 0.8194  0.7712  0.9523  0.8519 -1.1257]\n",
      "256 \t [ 0.8256  0.7769  0.9557  0.8568 -1.146 ]\n",
      "520 \t [ 0.8221  0.7745  0.9523  0.8539 -1.0733]\n",
      "720 \t [ 0.8227  0.7752  0.9523  0.8544 -1.0893]\n",
      "1024 \t [ 0.8177  0.7747  0.9416  0.8495 -1.078 ]\n",
      "2048 \t [ 0.8066  0.7615  0.9419  0.8417 -1.0537]\n",
      "3072 \t [ 0.8184  0.7743  0.9429  0.85   -0.9517]\n"
     ]
    }
   ],
   "source": [
    "print(\"neurons \"+\" \".join([\"accuracy\",\"precision\",\"recall\",\"test_f1\",\"neg_log_loss\"]))\n",
    "for k,v in results.items():\n",
    "    print(k,\"\\t\",np.round(v[2:],4))"
   ]
  },
  {
   "cell_type": "code",
   "execution_count": 59,
   "metadata": {},
   "outputs": [
    {
     "data": {
      "text/plain": [
       "Text(0.5, 1.0, 'f1 plot')"
      ]
     },
     "execution_count": 59,
     "metadata": {},
     "output_type": "execute_result"
    },
    {
     "data": {
      "image/png": "[encoded data removed]",
      "text/plain": [
       "<Figure size 432x288 with 1 Axes>"
      ]
     },
     "metadata": {},
     "output_type": "display_data"
    }
   ],
   "source": [
    "index = 5\n",
    "vector = []\n",
    "for k,v in results.items():\n",
    "    vector.append(v[index])\n",
    "\n",
    "plt.plot(list(results.keys()),vector)\n",
    "plt.title(results_columns[index]+\" plot\")"
   ]
  },
  {
   "cell_type": "markdown",
   "metadata": {},
   "source": [
    "['fit_time',\n",
    " 'score_time',\n",
    " 'accuracy',\n",
    " 'precision',\n",
    " 'recall',\n",
    " 'f1',\n",
    " 'neg_log_loss']\n",
    " \n",
    " {56: [6.599196720123291,\n",
    "  0.008580255508422851,\n",
    "  0.8021254983620711,\n",
    "  0.7526217681788879,\n",
    "  0.9510182129324043,\n",
    "  0.839804296788369,\n",
    "  -0.7003385221559623],\n",
    "  \n",
    " 128: [15.376729488372803,\n",
    "  0.015903210639953612,\n",
    "  0.8099374938781729,\n",
    "  0.7648604633791974,\n",
    "  0.9418677423297884,\n",
    "  0.8438646713526768,\n",
    "  -0.909877816792487],\n",
    "  \n",
    " 256: [31.145760941505433,\n",
    "  0.02595553398132324,\n",
    "  0.8104714985869915,\n",
    "  0.763448779854478,\n",
    "  0.9517601760176018,\n",
    "  0.8463519107359563,\n",
    "  -1.1568465069317793],\n",
    " \n",
    " 520: [172.79028282165527,\n",
    "  0.09201102256774903,\n",
    "  0.8168011957061957,\n",
    "  0.7703717855097878,\n",
    "  0.9505225522552255,\n",
    "  0.85036150715987,\n",
    "  -1.0070152435993909],\n",
    "  \n",
    " 720: [368.74508633613584,\n",
    "  0.17518937587738037,\n",
    "  0.8169377804703739,\n",
    "  0.7723103314578283,\n",
    "  0.9433571690502383,\n",
    "  0.8490442045305591,\n",
    "  -1.0074423716846175],\n",
    "  \n",
    " 1024: [617.3078515529633,\n",
    "  0.21911213397979737,\n",
    "  0.817745136095018,\n",
    "  0.7747489844595402,\n",
    "  0.9416202175773132,\n",
    "  0.8495067646735505,\n",
    "  -1.0780366980967746],\n",
    "  \n",
    "  \n",
    "  2048: [1840.872208404541, 0.5915478229522705, 0.8065689471908521, 0.7614520529481474, 0.9418677423297884, 0.8417096376776178, -1.0536682220871687],\n",
    "  \n",
    "  \n",
    "  3072: [4154.574123716355, 1.1990283012390137, 0.8184157255680148, 0.7742958900913458, 0.9428578413396895, 0.8500406547711462, -0.9516547992430542]\n",
    "  \n",
    "  }"
   ]
  },
  {
   "cell_type": "markdown",
   "metadata": {},
   "source": [
    "## Number of layers -- 1,2,3,4,5,6"
   ]
  },
  {
   "cell_type": "code",
   "execution_count": 70,
   "metadata": {},
   "outputs": [
    {
     "name": "stdout",
     "output_type": "stream",
     "text": [
      "[125.38097259998321, 0.09247770309448242, 0.8165351002891317, 0.7713626508195605, 0.9445837917125045, 0.8489597874191572, -1.0760506440836362]\n"
     ]
    }
   ],
   "source": [
    "i = 5\n",
    "scoring_metrics = [\"accuracy\",\"precision\",\"recall\",\"f1\",\"neg_log_loss\"]\n",
    "neurons = 256\n",
    "results_layers = {}\n",
    "\n",
    "clf = MLPClassifier(hidden_layer_sizes=(neurons,neurons,neurons,neurons,neurons,neurons),batch_size=64,max_iter=200)\n",
    "cv_score = cross_validate(estimator=clf, X=x, y=y, cv=10,scoring=scoring_metrics)\n",
    "    \n",
    "results_layers[i] = []\n",
    "for k,v in cv_score.items():\n",
    "    results_layers[i].append(v.mean())\n",
    "        \n",
    "print(results_layers[i])"
   ]
  },
  {
   "cell_type": "code",
   "execution_count": 71,
   "metadata": {},
   "outputs": [],
   "source": [
    "results_layers = {\n",
    "1: [27.938399839401246, 0.011365985870361328, 0.8119579688956767, 0.7703719674033026, 0.9349419386383083, 0.8442268061807618, -0.6435100212892836],\n",
    "2: [89.22209923267364, 0.043657994270324706, 0.8235353868813327, 0.7749867927625644, 0.9554712137880454, 0.8554126756751664, -1.1326702630371348],\n",
    "3: [69.58165378570557, 0.03073451519012451, 0.824880556351645, 0.7790948172889485, 0.9500311697836452, 0.8555915048211815, -1.0376296099924844],\n",
    "4: [64.65927577018738, 0.03256785869598389, 0.8255504202747657, 0.7769213372828926, 0.9557242390905756, 0.8568140855818175, -1.14597122484416],\n",
    "5: [105.25513784885406, 0.056074213981628415, 0.826765353542316, 0.781346187303129, 0.9502738051582936, 0.8570099869631248, -1.0470455009196769],\n",
    "6: [125.38097259998321, 0.09247770309448242, 0.8165351002891317, 0.7713626508195605, 0.9445837917125045, 0.8489597874191572, -1.0760506440836362]\n",
    "}"
   ]
  },
  {
   "cell_type": "code",
   "execution_count": 76,
   "metadata": {},
   "outputs": [
    {
     "name": "stdout",
     "output_type": "stream",
     "text": [
      "layers  accuracy precision recall test_f1 neg_log_loss\n",
      "1 \t [ 0.812   0.7704  0.9349  0.8442 -0.6435]\n",
      "2 \t [ 0.8235  0.775   0.9555  0.8554 -1.1327]\n",
      "3 \t [ 0.8249  0.7791  0.95    0.8556 -1.0376]\n",
      "4 \t [ 0.8256  0.7769  0.9557  0.8568 -1.146 ]\n",
      "5 \t [ 0.8268  0.7813  0.9503  0.857  -1.047 ]\n",
      "6 \t [ 0.8165  0.7714  0.9446  0.849  -1.0761]\n"
     ]
    }
   ],
   "source": [
    "print(\"layers  \"+\" \".join([\"accuracy\",\"precision\",\"recall\",\"test_f1\",\"neg_log_loss\"]))\n",
    "for k,v in results_layers.items():\n",
    "    print(k,\"\\t\",np.round(v[2:],4))"
   ]
  },
  {
   "cell_type": "markdown",
   "metadata": {},
   "source": [
    "## Activation Function -- ReLu vs Sigmoid"
   ]
  },
  {
   "cell_type": "code",
   "execution_count": 78,
   "metadata": {},
   "outputs": [
    {
     "name": "stderr",
     "output_type": "stream",
     "text": [
      "/Users/huangraelene/opt/anaconda3/envs/tnsfl/lib/python3.7/site-packages/sklearn/neural_network/_multilayer_perceptron.py:571: ConvergenceWarning: Stochastic Optimizer: Maximum iterations (200) reached and the optimization hasn't converged yet.\n",
      "  % self.max_iter, ConvergenceWarning)\n",
      "/Users/huangraelene/opt/anaconda3/envs/tnsfl/lib/python3.7/site-packages/sklearn/neural_network/_multilayer_perceptron.py:571: ConvergenceWarning: Stochastic Optimizer: Maximum iterations (200) reached and the optimization hasn't converged yet.\n",
      "  % self.max_iter, ConvergenceWarning)\n",
      "/Users/huangraelene/opt/anaconda3/envs/tnsfl/lib/python3.7/site-packages/sklearn/neural_network/_multilayer_perceptron.py:571: ConvergenceWarning: Stochastic Optimizer: Maximum iterations (200) reached and the optimization hasn't converged yet.\n",
      "  % self.max_iter, ConvergenceWarning)\n",
      "/Users/huangraelene/opt/anaconda3/envs/tnsfl/lib/python3.7/site-packages/sklearn/neural_network/_multilayer_perceptron.py:571: ConvergenceWarning: Stochastic Optimizer: Maximum iterations (200) reached and the optimization hasn't converged yet.\n",
      "  % self.max_iter, ConvergenceWarning)\n",
      "/Users/huangraelene/opt/anaconda3/envs/tnsfl/lib/python3.7/site-packages/sklearn/neural_network/_multilayer_perceptron.py:571: ConvergenceWarning: Stochastic Optimizer: Maximum iterations (200) reached and the optimization hasn't converged yet.\n",
      "  % self.max_iter, ConvergenceWarning)\n",
      "/Users/huangraelene/opt/anaconda3/envs/tnsfl/lib/python3.7/site-packages/sklearn/neural_network/_multilayer_perceptron.py:571: ConvergenceWarning: Stochastic Optimizer: Maximum iterations (200) reached and the optimization hasn't converged yet.\n",
      "  % self.max_iter, ConvergenceWarning)\n"
     ]
    },
    {
     "name": "stdout",
     "output_type": "stream",
     "text": [
      "[108.96948873996735, 0.05063564777374267, 0.644756995207743, 0.6462397517219978, 0.8461538931670944, 0.7227563685647839, -0.6279942344357374]\n"
     ]
    }
   ],
   "source": [
    "scoring_metrics = [\"accuracy\",\"precision\",\"recall\",\"f1\",\"neg_log_loss\"]\n",
    "node = 256\n",
    "results_act = {}\n",
    "\n",
    "clf = MLPClassifier(activation=\"logistic\",hidden_layer_sizes=(node,node,node,node,node),batch_size=64,max_iter=200)\n",
    "cv_score = cross_validate(estimator=clf, X=x, y=y, cv=10,scoring=scoring_metrics)\n",
    "results_act[act] = []\n",
    "for k,v in cv_score.items():\n",
    "    results_act[act].append(v.mean())\n",
    "print(results_act[act])"
   ]
  },
  {
   "cell_type": "code",
   "execution_count": 88,
   "metadata": {},
   "outputs": [
    {
     "name": "stdout",
     "output_type": "stream",
     "text": [
      "act_func  accuracy precision recall test_f1 neg_log_loss\n",
      "logis  \t [ 0.6448  0.6462  0.8462  0.7228 -0.628 ]\n",
      "relu  \t [ 0.8268  0.7813  0.9503  0.857  -1.047 ]\n"
     ]
    }
   ],
   "source": [
    "print(\"act_func  \"+\" \".join([\"accuracy\",\"precision\",\"recall\",\"test_f1\",\"neg_log_loss\"]))\n",
    "for k,v in results_act.items():\n",
    "    print(k,\" \\t\",np.round(v[2:],4))"
   ]
  },
  {
   "cell_type": "code",
   "execution_count": null,
   "metadata": {},
   "outputs": [],
   "source": [
    "learning_rate_init=0.01"
   ]
  },
  {
   "cell_type": "code",
   "execution_count": 87,
   "metadata": {},
   "outputs": [],
   "source": [
    "results_act = {'logis': [108.96948873996735,\n",
    "  0.05063564777374267,\n",
    "  0.644756995207743,\n",
    "  0.6462397517219978,\n",
    "  0.8461538931670944,\n",
    "  0.7227563685647839,\n",
    "  -0.6279942344357374],\n",
    " 'relu': [105.25513784885406,\n",
    "  0.056074213981628415,\n",
    "  0.826765353542316,\n",
    "  0.781346187303129,\n",
    "  0.9502738051582936,\n",
    "  0.8570099869631248,\n",
    "  -1.0470455009196769]}"
   ]
  },
  {
   "cell_type": "code",
   "execution_count": null,
   "metadata": {},
   "outputs": [],
   "source": []
  },
  {
   "cell_type": "markdown",
   "metadata": {},
   "source": [
    "# other stuff"
   ]
  },
  {
   "cell_type": "code",
   "execution_count": 19,
   "metadata": {},
   "outputs": [
    {
     "name": "stderr",
     "output_type": "stream",
     "text": [
      "/Users/huangraelene/opt/anaconda3/envs/tnsfl/lib/python3.7/site-packages/sklearn/neural_network/_multilayer_perceptron.py:571: ConvergenceWarning: Stochastic Optimizer: Maximum iterations (200) reached and the optimization hasn't converged yet.\n",
      "  % self.max_iter, ConvergenceWarning)\n",
      "/Users/huangraelene/opt/anaconda3/envs/tnsfl/lib/python3.7/site-packages/sklearn/neural_network/_multilayer_perceptron.py:571: ConvergenceWarning: Stochastic Optimizer: Maximum iterations (200) reached and the optimization hasn't converged yet.\n",
      "  % self.max_iter, ConvergenceWarning)\n",
      "/Users/huangraelene/opt/anaconda3/envs/tnsfl/lib/python3.7/site-packages/sklearn/neural_network/_multilayer_perceptron.py:571: ConvergenceWarning: Stochastic Optimizer: Maximum iterations (200) reached and the optimization hasn't converged yet.\n",
      "  % self.max_iter, ConvergenceWarning)\n",
      "/Users/huangraelene/opt/anaconda3/envs/tnsfl/lib/python3.7/site-packages/sklearn/neural_network/_multilayer_perceptron.py:571: ConvergenceWarning: Stochastic Optimizer: Maximum iterations (200) reached and the optimization hasn't converged yet.\n",
      "  % self.max_iter, ConvergenceWarning)\n",
      "/Users/huangraelene/opt/anaconda3/envs/tnsfl/lib/python3.7/site-packages/sklearn/neural_network/_multilayer_perceptron.py:571: ConvergenceWarning: Stochastic Optimizer: Maximum iterations (200) reached and the optimization hasn't converged yet.\n",
      "  % self.max_iter, ConvergenceWarning)\n",
      "/Users/huangraelene/opt/anaconda3/envs/tnsfl/lib/python3.7/site-packages/sklearn/neural_network/_multilayer_perceptron.py:571: ConvergenceWarning: Stochastic Optimizer: Maximum iterations (200) reached and the optimization hasn't converged yet.\n",
      "  % self.max_iter, ConvergenceWarning)\n",
      "/Users/huangraelene/opt/anaconda3/envs/tnsfl/lib/python3.7/site-packages/sklearn/neural_network/_multilayer_perceptron.py:571: ConvergenceWarning: Stochastic Optimizer: Maximum iterations (200) reached and the optimization hasn't converged yet.\n",
      "  % self.max_iter, ConvergenceWarning)\n",
      "/Users/huangraelene/opt/anaconda3/envs/tnsfl/lib/python3.7/site-packages/sklearn/neural_network/_multilayer_perceptron.py:571: ConvergenceWarning: Stochastic Optimizer: Maximum iterations (200) reached and the optimization hasn't converged yet.\n",
      "  % self.max_iter, ConvergenceWarning)\n",
      "/Users/huangraelene/opt/anaconda3/envs/tnsfl/lib/python3.7/site-packages/sklearn/neural_network/_multilayer_perceptron.py:571: ConvergenceWarning: Stochastic Optimizer: Maximum iterations (200) reached and the optimization hasn't converged yet.\n",
      "  % self.max_iter, ConvergenceWarning)\n"
     ]
    },
    {
     "name": "stdout",
     "output_type": "stream",
     "text": [
      "{'fit_time': array([16.17299509, 16.16596293, 15.67140627, 14.26890707, 15.31652999,\n",
      "       15.51007104, 14.54494119, 23.35909581, 29.65747929, 31.52311397]), 'score_time': array([0.01237297, 0.00808001, 0.00753093, 0.01047802, 0.00790191,\n",
      "       0.0076189 , 0.00688481, 0.02273512, 0.00833988, 0.00721693]), 'test_neg_log_loss': array([-0.65540142, -0.46396144, -0.72391587, -0.69171047, -0.52503167,\n",
      "       -0.53876829, -0.59762987, -0.77795845, -0.76345014, -1.0907716 ]), 'test_accuracy': array([0.79138627, 0.80349933, 0.74697174, 0.75100942, 0.74427995,\n",
      "       0.79407806, 0.78061911, 0.71467026, 0.68102288, 0.69946092]), 'test_precision': array([0.74653465, 0.79318182, 0.72881356, 0.72121212, 0.73160173,\n",
      "       0.76645435, 0.76957494, 0.68173258, 0.68918919, 0.69631236]), 'test_recall': array([0.93316832, 0.86386139, 0.85148515, 0.88366337, 0.83663366,\n",
      "       0.89356436, 0.85148515, 0.89382716, 0.75555556, 0.79455446]), 'test_f1': array([0.82948295, 0.82701422, 0.78538813, 0.7942158 , 0.78060046,\n",
      "       0.82514286, 0.80846063, 0.77350427, 0.72084806, 0.74219653])}\n"
     ]
    },
    {
     "name": "stderr",
     "output_type": "stream",
     "text": [
      "/Users/huangraelene/opt/anaconda3/envs/tnsfl/lib/python3.7/site-packages/sklearn/neural_network/_multilayer_perceptron.py:571: ConvergenceWarning: Stochastic Optimizer: Maximum iterations (200) reached and the optimization hasn't converged yet.\n",
      "  % self.max_iter, ConvergenceWarning)\n"
     ]
    }
   ],
   "source": [
    "from sklearn.neural_network import MLPClassifier\n",
    "clf = MLPClassifier(hidden_layer_sizes=(16,16),batch_size=64)\n",
    "from sklearn.model_selection import cross_validate\n",
    "cv_score = cross_validate(estimator=clf, X=x, y=y, cv=10,scoring=scoring_metrics)"
   ]
  },
  {
   "cell_type": "code",
   "execution_count": 17,
   "metadata": {},
   "outputs": [],
   "source": [
    "def eval_metrics(outputs,labels):\n",
    "    accuracy = torch.mean(torch.eq(outputs, labels).float()).item()\n",
    "\n",
    "    target_true = torch.sum(labels == 1).float()\n",
    "    predicted_true = torch.sum(outputs).float()\n",
    "    correct_true = torch.sum(labels * outputs).float()\n",
    "\n",
    "    recall = correct_true / target_true\n",
    "    precision = correct_true / (predicted_true+0.00000000001)\n",
    "    return accuracy,precision.cpu().item(),recall.cpu().item()"
   ]
  },
  {
   "cell_type": "code",
   "execution_count": 24,
   "metadata": {},
   "outputs": [
    {
     "name": "stdout",
     "output_type": "stream",
     "text": [
      "0.09588464545170447\n"
     ]
    },
    {
     "name": "stderr",
     "output_type": "stream",
     "text": [
      "/Users/huangraelene/opt/anaconda3/envs/tnsfl/lib/python3.7/site-packages/ipykernel_launcher.py:7: UserWarning: To copy construct from a tensor, it is recommended to use sourceTensor.clone().detach() or sourceTensor.clone().detach().requires_grad_(True), rather than torch.tensor(sourceTensor).\n",
      "  import sys\n"
     ]
    },
    {
     "name": "stdout",
     "output_type": "stream",
     "text": [
      "(0.9613461494445801, 0.955501914024353, 0.9746657013893127)\n",
      "(0.820547342300415, 0.8205128312110901, 0.8533333539962769)\n"
     ]
    },
    {
     "name": "stderr",
     "output_type": "stream",
     "text": [
      "/Users/huangraelene/opt/anaconda3/envs/tnsfl/lib/python3.7/site-packages/ipykernel_launcher.py:9: UserWarning: To copy construct from a tensor, it is recommended to use sourceTensor.clone().detach() or sourceTensor.clone().detach().requires_grad_(True), rather than torch.tensor(sourceTensor).\n",
      "  if __name__ == '__main__':\n"
     ]
    },
    {
     "data": {
      "text/plain": [
       "[<matplotlib.lines.Line2D at 0x7f8afbec6a10>]"
      ]
     },
     "execution_count": 24,
     "metadata": {},
     "output_type": "execute_result"
    },
    {
     "data": {
      "image/png": "[encoded data removed]",
      "text/plain": [
       "<Figure size 432x288 with 1 Axes>"
      ]
     },
     "metadata": {},
     "output_type": "display_data"
    }
   ],
   "source": [
    "# fitting x_train & y_train\n",
    "clf.fit(x_train, y_train)\n",
    "train_pred = clf.predict(x_train)\n",
    "print(\"training metrics: \", eval_metrics(torch.tensor(train_pred),torch.tensor(y_train)))\n",
    "dev_pred = clf.predict(x_dev)\n",
    "print(\"testing metrics: \", eval_metrics(torch.tensor(dev_pred),torch.tensor(y_dev)))\n",
    "print(clf.loss_)\n",
    "plt.plot(clf.loss_curve_)"
   ]
  },
  {
   "cell_type": "code",
   "execution_count": null,
   "metadata": {},
   "outputs": [],
   "source": []
  },
  {
   "cell_type": "code",
   "execution_count": 23,
   "metadata": {},
   "outputs": [
    {
     "name": "stdout",
     "output_type": "stream",
     "text": [
      "hidden layers: (520,520,520,520)\n",
      "fit_time :\t 249.65751852989197\n",
      "score_time :\t 0.08064439296722412\n",
      "test_accuracy :\t 0.8439888192764091\n",
      "test_precision :\t 0.7910325977910861\n",
      "test_recall :\t 0.9742665933259993\n"
     ]
    }
   ],
   "source": [
    "print(\"hidden layers: (520,520,520,520)\")\n",
    "for k,v in cv_score.items():\n",
    "    print(k,\":\\t\",v.mean())"
   ]
  },
  {
   "cell_type": "code",
   "execution_count": 26,
   "metadata": {},
   "outputs": [
    {
     "name": "stdout",
     "output_type": "stream",
     "text": [
      "[0.8654105  0.90309556 0.83041723 0.82907133 0.85329744 0.85195155\n",
      " 0.86271871 0.77119785 0.78196501 0.82210243]\n",
      "0.8371227594112888\n"
     ]
    }
   ],
   "source": [
    "## (128 * 4)\n",
    "print(cv_score)\n",
    "print(cv_score.mean())"
   ]
  },
  {
   "cell_type": "code",
   "execution_count": 4,
   "metadata": {},
   "outputs": [
    {
     "data": {
      "text/plain": [
       "0.83578031"
      ]
     },
     "execution_count": 4,
     "metadata": {},
     "output_type": "execute_result"
    }
   ],
   "source": [
    "## (1024)\n",
    "np.array([0.84253028, 0.89636608, 0.83445491, 0.82368775, 0.85733513,\n",
    "       0.84522207, 0.86002692, 0.79004038, 0.76043069, 0.84770889]).mean()"
   ]
  },
  {
   "cell_type": "code",
   "execution_count": null,
   "metadata": {},
   "outputs": [],
   "source": []
  }
 ],
 "metadata": {
  "kernelspec": {
   "display_name": "Python 3",
   "language": "python",
   "name": "python3"
  },
  "language_info": {
   "codemirror_mode": {
    "name": "ipython",
    "version": 3
   },
   "file_extension": ".py",
   "mimetype": "text/x-python",
   "name": "python",
   "nbconvert_exporter": "python",
   "pygments_lexer": "ipython3",
   "version": "3.7.5"
  }
 },
 "nbformat": 4,
 "nbformat_minor": 2
}
