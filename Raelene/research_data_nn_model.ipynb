{
 "cells": [
  {
   "cell_type": "code",
   "execution_count": null,
   "metadata": {},
   "outputs": [],
   "source": [
    "import numpy as np\n",
    "import pandas as pd\n",
    "from tqdm import tqdm\n",
    "from matplotlib import style\n",
    "import matplotlib.pyplot as plt\n",
    "import random\n",
    "import torch\n",
    "from torch.autograd import Variable\n",
    "import torchvision.transforms as transforms\n",
    "import torchvision.datasets as dsets\n",
    "from sklearn.model_selection import GridSearchCV\n",
    "style.use(\"ggplot\")\n",
    "\n",
    "def plot(data,title):\n",
    "    plt.plot(data)\n",
    "    plt.title(title,loc='center')\n",
    "    \n",
    "def plot_train_dev(train,dev,title):\n",
    "    plt.figure(figsize=(15,10))\n",
    "    plt.subplot(221)\n",
    "    plot(train,\"Training \"+title)\n",
    "    plt.subplot(222)\n",
    "    plot(dev,\"Dev \"+title)\n",
    "    plt.show()"
   ]
  },
  {
   "cell_type": "markdown",
   "metadata": {},
   "source": [
    "## 1. Process Data"
   ]
  },
  {
   "cell_type": "code",
   "execution_count": 3,
   "metadata": {},
   "outputs": [
    {
     "data": {
      "text/plain": [
       "Index(['Id', 'StageName', 'Status_Reason__c', 'RecordType.Name',\n",
       "       'RICE_Supported__c', 'CreatedDate', 'AccountId', 'Lead_Faculty__c',\n",
       "       'Parent_Opportunity__c', 'RecordType.Name.1', 'Industry',\n",
       "       'Business_Type__c', 'ParentId', 'RecordType', 'CreatedDate_month',\n",
       "       'Is_External__c'],\n",
       "      dtype='object')"
      ]
     },
     "execution_count": 3,
     "metadata": {},
     "output_type": "execute_result"
    }
   ],
   "source": [
    "## reading clean data\n",
    "data = pd.read_csv('cleaned_4.csv')\n",
    "data.head()\n",
    "data.describe()\n",
    "data.columns"
   ]
  },
  {
   "cell_type": "code",
   "execution_count": 4,
   "metadata": {},
   "outputs": [],
   "source": [
    "## one-hot-encoding\n",
    "\n",
    "a = pd.get_dummies(data[\"Status_Reason__c\"], prefix='Status_Reason')\n",
    "b = pd.get_dummies(data[\"RecordType.Name\"], prefix='RecordType')\n",
    "c = pd.get_dummies(data[\"RICE_Supported__c\"], prefix='RICE_Supported')\n",
    "d = pd.get_dummies(data[\"AccountId\"], prefix='AccountId')\n",
    "e = pd.get_dummies(data[\"Lead_Faculty__c\"], prefix='Lead_Faculty')\n",
    "f = pd.get_dummies(data[\"RecordType.Name.1\"], prefix='RecordType_ind')\n",
    "g = pd.get_dummies(data[\"Industry\"], prefix='Industry')\n",
    "h = pd.get_dummies(data[\"Business_Type__c\"], prefix='Business_Type')\n",
    "i = pd.get_dummies(data[\"RecordType\"], prefix='RecordType_mixed')\n",
    "j = pd.get_dummies(data[\"Is_External__c\"], prefix='Is_External')\n",
    "\n",
    "org = data[[\"StageName\",\"Parent_Opportunity__c\",\"ParentId\"]]\n",
    "\n",
    "scale1 = data[\"CreatedDate\"].div(2020)\n",
    "scale2 = data[\"CreatedDate_month\"].div(12)\n",
    "\n",
    "df = pd.concat([org,scale1,scale2,a,b,c,d,e,f,g,h,i,j], axis=1, ignore_index=True)"
   ]
  },
  {
   "cell_type": "code",
   "execution_count": 5,
   "metadata": {},
   "outputs": [
    {
     "data": {
      "text/html": [
       "<div>\n",
       "<style scoped>\n",
       "    .dataframe tbody tr th:only-of-type {\n",
       "        vertical-align: middle;\n",
       "    }\n",
       "\n",
       "    .dataframe tbody tr th {\n",
       "        vertical-align: top;\n",
       "    }\n",
       "\n",
       "    .dataframe thead th {\n",
       "        text-align: right;\n",
       "    }\n",
       "</style>\n",
       "<table border=\"1\" class=\"dataframe\">\n",
       "  <thead>\n",
       "    <tr style=\"text-align: right;\">\n",
       "      <th></th>\n",
       "      <th>0</th>\n",
       "      <th>1</th>\n",
       "      <th>2</th>\n",
       "      <th>3</th>\n",
       "      <th>4</th>\n",
       "      <th>5</th>\n",
       "      <th>6</th>\n",
       "      <th>7</th>\n",
       "      <th>8</th>\n",
       "      <th>9</th>\n",
       "      <th>...</th>\n",
       "      <th>2189</th>\n",
       "      <th>2190</th>\n",
       "      <th>2191</th>\n",
       "      <th>2192</th>\n",
       "      <th>2193</th>\n",
       "      <th>2194</th>\n",
       "      <th>2195</th>\n",
       "      <th>2196</th>\n",
       "      <th>2197</th>\n",
       "      <th>2198</th>\n",
       "    </tr>\n",
       "  </thead>\n",
       "  <tbody>\n",
       "    <tr>\n",
       "      <th>0</th>\n",
       "      <td>0</td>\n",
       "      <td>0</td>\n",
       "      <td>0</td>\n",
       "      <td>0.999505</td>\n",
       "      <td>0.916667</td>\n",
       "      <td>0</td>\n",
       "      <td>0</td>\n",
       "      <td>0</td>\n",
       "      <td>0</td>\n",
       "      <td>1</td>\n",
       "      <td>...</td>\n",
       "      <td>0</td>\n",
       "      <td>0</td>\n",
       "      <td>0</td>\n",
       "      <td>0</td>\n",
       "      <td>0</td>\n",
       "      <td>0</td>\n",
       "      <td>0</td>\n",
       "      <td>0</td>\n",
       "      <td>1</td>\n",
       "      <td>0</td>\n",
       "    </tr>\n",
       "    <tr>\n",
       "      <th>1</th>\n",
       "      <td>1</td>\n",
       "      <td>0</td>\n",
       "      <td>1</td>\n",
       "      <td>0.999010</td>\n",
       "      <td>0.916667</td>\n",
       "      <td>0</td>\n",
       "      <td>0</td>\n",
       "      <td>0</td>\n",
       "      <td>0</td>\n",
       "      <td>0</td>\n",
       "      <td>...</td>\n",
       "      <td>0</td>\n",
       "      <td>1</td>\n",
       "      <td>0</td>\n",
       "      <td>0</td>\n",
       "      <td>0</td>\n",
       "      <td>0</td>\n",
       "      <td>0</td>\n",
       "      <td>0</td>\n",
       "      <td>1</td>\n",
       "      <td>0</td>\n",
       "    </tr>\n",
       "    <tr>\n",
       "      <th>2</th>\n",
       "      <td>1</td>\n",
       "      <td>0</td>\n",
       "      <td>1</td>\n",
       "      <td>0.999010</td>\n",
       "      <td>0.916667</td>\n",
       "      <td>0</td>\n",
       "      <td>0</td>\n",
       "      <td>0</td>\n",
       "      <td>0</td>\n",
       "      <td>0</td>\n",
       "      <td>...</td>\n",
       "      <td>0</td>\n",
       "      <td>1</td>\n",
       "      <td>0</td>\n",
       "      <td>0</td>\n",
       "      <td>0</td>\n",
       "      <td>0</td>\n",
       "      <td>0</td>\n",
       "      <td>0</td>\n",
       "      <td>1</td>\n",
       "      <td>0</td>\n",
       "    </tr>\n",
       "    <tr>\n",
       "      <th>3</th>\n",
       "      <td>1</td>\n",
       "      <td>0</td>\n",
       "      <td>0</td>\n",
       "      <td>0.999505</td>\n",
       "      <td>0.916667</td>\n",
       "      <td>0</td>\n",
       "      <td>0</td>\n",
       "      <td>0</td>\n",
       "      <td>0</td>\n",
       "      <td>0</td>\n",
       "      <td>...</td>\n",
       "      <td>0</td>\n",
       "      <td>1</td>\n",
       "      <td>0</td>\n",
       "      <td>0</td>\n",
       "      <td>0</td>\n",
       "      <td>0</td>\n",
       "      <td>0</td>\n",
       "      <td>0</td>\n",
       "      <td>1</td>\n",
       "      <td>0</td>\n",
       "    </tr>\n",
       "    <tr>\n",
       "      <th>4</th>\n",
       "      <td>1</td>\n",
       "      <td>0</td>\n",
       "      <td>1</td>\n",
       "      <td>0.998515</td>\n",
       "      <td>0.916667</td>\n",
       "      <td>0</td>\n",
       "      <td>0</td>\n",
       "      <td>0</td>\n",
       "      <td>0</td>\n",
       "      <td>0</td>\n",
       "      <td>...</td>\n",
       "      <td>0</td>\n",
       "      <td>1</td>\n",
       "      <td>0</td>\n",
       "      <td>0</td>\n",
       "      <td>0</td>\n",
       "      <td>0</td>\n",
       "      <td>0</td>\n",
       "      <td>0</td>\n",
       "      <td>1</td>\n",
       "      <td>0</td>\n",
       "    </tr>\n",
       "    <tr>\n",
       "      <th>...</th>\n",
       "      <td>...</td>\n",
       "      <td>...</td>\n",
       "      <td>...</td>\n",
       "      <td>...</td>\n",
       "      <td>...</td>\n",
       "      <td>...</td>\n",
       "      <td>...</td>\n",
       "      <td>...</td>\n",
       "      <td>...</td>\n",
       "      <td>...</td>\n",
       "      <td>...</td>\n",
       "      <td>...</td>\n",
       "      <td>...</td>\n",
       "      <td>...</td>\n",
       "      <td>...</td>\n",
       "      <td>...</td>\n",
       "      <td>...</td>\n",
       "      <td>...</td>\n",
       "      <td>...</td>\n",
       "      <td>...</td>\n",
       "      <td>...</td>\n",
       "    </tr>\n",
       "    <tr>\n",
       "      <th>6047</th>\n",
       "      <td>1</td>\n",
       "      <td>1</td>\n",
       "      <td>0</td>\n",
       "      <td>1.000000</td>\n",
       "      <td>0.583333</td>\n",
       "      <td>0</td>\n",
       "      <td>0</td>\n",
       "      <td>0</td>\n",
       "      <td>0</td>\n",
       "      <td>0</td>\n",
       "      <td>...</td>\n",
       "      <td>0</td>\n",
       "      <td>0</td>\n",
       "      <td>0</td>\n",
       "      <td>1</td>\n",
       "      <td>0</td>\n",
       "      <td>0</td>\n",
       "      <td>0</td>\n",
       "      <td>0</td>\n",
       "      <td>1</td>\n",
       "      <td>0</td>\n",
       "    </tr>\n",
       "    <tr>\n",
       "      <th>6048</th>\n",
       "      <td>0</td>\n",
       "      <td>0</td>\n",
       "      <td>0</td>\n",
       "      <td>1.000000</td>\n",
       "      <td>0.583333</td>\n",
       "      <td>0</td>\n",
       "      <td>1</td>\n",
       "      <td>0</td>\n",
       "      <td>0</td>\n",
       "      <td>0</td>\n",
       "      <td>...</td>\n",
       "      <td>0</td>\n",
       "      <td>0</td>\n",
       "      <td>0</td>\n",
       "      <td>0</td>\n",
       "      <td>0</td>\n",
       "      <td>0</td>\n",
       "      <td>0</td>\n",
       "      <td>0</td>\n",
       "      <td>1</td>\n",
       "      <td>0</td>\n",
       "    </tr>\n",
       "    <tr>\n",
       "      <th>6049</th>\n",
       "      <td>1</td>\n",
       "      <td>0</td>\n",
       "      <td>0</td>\n",
       "      <td>1.000000</td>\n",
       "      <td>0.583333</td>\n",
       "      <td>0</td>\n",
       "      <td>0</td>\n",
       "      <td>0</td>\n",
       "      <td>0</td>\n",
       "      <td>0</td>\n",
       "      <td>...</td>\n",
       "      <td>0</td>\n",
       "      <td>0</td>\n",
       "      <td>0</td>\n",
       "      <td>0</td>\n",
       "      <td>0</td>\n",
       "      <td>0</td>\n",
       "      <td>0</td>\n",
       "      <td>0</td>\n",
       "      <td>1</td>\n",
       "      <td>0</td>\n",
       "    </tr>\n",
       "    <tr>\n",
       "      <th>6050</th>\n",
       "      <td>1</td>\n",
       "      <td>0</td>\n",
       "      <td>0</td>\n",
       "      <td>1.000000</td>\n",
       "      <td>0.583333</td>\n",
       "      <td>0</td>\n",
       "      <td>0</td>\n",
       "      <td>0</td>\n",
       "      <td>0</td>\n",
       "      <td>0</td>\n",
       "      <td>...</td>\n",
       "      <td>0</td>\n",
       "      <td>0</td>\n",
       "      <td>0</td>\n",
       "      <td>0</td>\n",
       "      <td>0</td>\n",
       "      <td>0</td>\n",
       "      <td>0</td>\n",
       "      <td>0</td>\n",
       "      <td>1</td>\n",
       "      <td>0</td>\n",
       "    </tr>\n",
       "    <tr>\n",
       "      <th>6051</th>\n",
       "      <td>1</td>\n",
       "      <td>1</td>\n",
       "      <td>0</td>\n",
       "      <td>1.000000</td>\n",
       "      <td>0.666667</td>\n",
       "      <td>0</td>\n",
       "      <td>0</td>\n",
       "      <td>0</td>\n",
       "      <td>0</td>\n",
       "      <td>0</td>\n",
       "      <td>...</td>\n",
       "      <td>0</td>\n",
       "      <td>0</td>\n",
       "      <td>0</td>\n",
       "      <td>1</td>\n",
       "      <td>0</td>\n",
       "      <td>0</td>\n",
       "      <td>0</td>\n",
       "      <td>0</td>\n",
       "      <td>1</td>\n",
       "      <td>0</td>\n",
       "    </tr>\n",
       "  </tbody>\n",
       "</table>\n",
       "<p>6052 rows × 2199 columns</p>\n",
       "</div>"
      ],
      "text/plain": [
       "      0     1     2         3         4     5     6     7     8     9     ...  \\\n",
       "0        0     0     0  0.999505  0.916667     0     0     0     0     1  ...   \n",
       "1        1     0     1  0.999010  0.916667     0     0     0     0     0  ...   \n",
       "2        1     0     1  0.999010  0.916667     0     0     0     0     0  ...   \n",
       "3        1     0     0  0.999505  0.916667     0     0     0     0     0  ...   \n",
       "4        1     0     1  0.998515  0.916667     0     0     0     0     0  ...   \n",
       "...    ...   ...   ...       ...       ...   ...   ...   ...   ...   ...  ...   \n",
       "6047     1     1     0  1.000000  0.583333     0     0     0     0     0  ...   \n",
       "6048     0     0     0  1.000000  0.583333     0     1     0     0     0  ...   \n",
       "6049     1     0     0  1.000000  0.583333     0     0     0     0     0  ...   \n",
       "6050     1     0     0  1.000000  0.583333     0     0     0     0     0  ...   \n",
       "6051     1     1     0  1.000000  0.666667     0     0     0     0     0  ...   \n",
       "\n",
       "      2189  2190  2191  2192  2193  2194  2195  2196  2197  2198  \n",
       "0        0     0     0     0     0     0     0     0     1     0  \n",
       "1        0     1     0     0     0     0     0     0     1     0  \n",
       "2        0     1     0     0     0     0     0     0     1     0  \n",
       "3        0     1     0     0     0     0     0     0     1     0  \n",
       "4        0     1     0     0     0     0     0     0     1     0  \n",
       "...    ...   ...   ...   ...   ...   ...   ...   ...   ...   ...  \n",
       "6047     0     0     0     1     0     0     0     0     1     0  \n",
       "6048     0     0     0     0     0     0     0     0     1     0  \n",
       "6049     0     0     0     0     0     0     0     0     1     0  \n",
       "6050     0     0     0     0     0     0     0     0     1     0  \n",
       "6051     0     0     0     1     0     0     0     0     1     0  \n",
       "\n",
       "[6052 rows x 2199 columns]"
      ]
     },
     "execution_count": 5,
     "metadata": {},
     "output_type": "execute_result"
    }
   ],
   "source": [
    "df"
   ]
  },
  {
   "cell_type": "code",
   "execution_count": 6,
   "metadata": {},
   "outputs": [],
   "source": [
    "# split xy\n",
    "dflist = df.values.tolist()\n",
    "random.shuffle(dflist)\n",
    "x = torch.Tensor([i[1:] for i in dflist])\n",
    "y = torch.Tensor([i[1] for i in dflist])"
   ]
  },
  {
   "cell_type": "code",
   "execution_count": 58,
   "metadata": {},
   "outputs": [],
   "source": [
    "# train/dev split\n",
    "batch_size = 64\n",
    "\n",
    "from sklearn.model_selection import train_test_split\n",
    "x_train, x_dev, y_train, y_dev = train_test_split(x, y, test_size=0.33, random_state=42)\n",
    "\n",
    "train_loader = torch.utils.data.DataLoader(dataset=tuple(zip(x_train,y_train)), batch_size=batch_size, shuffle=True)\n",
    "dev_loader = torch.utils.data.DataLoader(dataset=tuple(zip(x_dev,y_dev)), batch_size=batch_size, shuffle=False)"
   ]
  },
  {
   "cell_type": "markdown",
   "metadata": {},
   "source": [
    "## 2. Neural Network Model"
   ]
  },
  {
   "cell_type": "code",
   "execution_count": 84,
   "metadata": {},
   "outputs": [],
   "source": [
    "class Net(torch.nn.Module):\n",
    "\n",
    "    def __init__(self, n_features, n_classes):\n",
    "        super(Net, self).__init__()\n",
    "        self.layer1 = torch.nn.Linear(n_features,2)\n",
    "        self.layer2 = torch.nn.Linear(2, n_classes)\n",
    "        self.out_act = torch.nn.Sigmoid()\n",
    "\n",
    "    def forward(self, x):\n",
    "        x = torch.relu(self.layer1(x))\n",
    "        x = self.layer2(x)\n",
    "        out = self.out_act(x)\n",
    "        return out"
   ]
  },
  {
   "cell_type": "code",
   "execution_count": 86,
   "metadata": {},
   "outputs": [],
   "source": [
    "class Net(torch.nn.Module):\n",
    "    \n",
    "    def __init__(self, n_features, n_classes):\n",
    "        super(Net, self).__init__()\n",
    "        self.fc1 = torch.nn.Linear(n_features, 50)\n",
    "        self.relu1 = torch.nn.ReLU()\n",
    "        self.dout = torch.nn.Dropout(0.2)\n",
    "        self.fc2 = torch.nn.Linear(50, 100)\n",
    "        self.prelu = torch.nn.PReLU(1)\n",
    "        self.out = torch.nn.Linear(100, n_classes)\n",
    "        self.out_act = torch.nn.Sigmoid()\n",
    "        \n",
    "    def forward(self, x):\n",
    "        a1 = self.fc1(x)\n",
    "        h1 = self.relu1(a1)\n",
    "        dout = self.dout(h1)\n",
    "        a2 = self.fc2(dout)\n",
    "        h2 = self.prelu(a2)\n",
    "        a3 = self.out(h2)\n",
    "        y = self.out_act(a3)\n",
    "        return y"
   ]
  },
  {
   "cell_type": "code",
   "execution_count": 117,
   "metadata": {},
   "outputs": [],
   "source": [
    "def test_net(test_loader, epoch):\n",
    "    correct = 0\n",
    "    total = 0\n",
    "    test_loss = 0.\n",
    "    test_acc = 0.\n",
    "    \n",
    "    for features, labels in test_loader:\n",
    "        features = Variable(features)\n",
    "        labels = Variable(labels)\n",
    "        \n",
    "        outputs = model(features)\n",
    "        loss = criterion(outputs, labels)\n",
    "        test_loss += loss.item()\n",
    "        \n",
    "        acc = torch.mean(torch.eq(torch.round(outputs), labels).float()).item()\n",
    "        test_acc += acc\n",
    "    \n",
    "    return test_loss/len(test_loader), test_acc/len(test_loader)\n",
    "\n",
    "\n",
    "def train_net(train_loader,dev_loader):\n",
    "    train_rolling_loss = []\n",
    "    dev_rolling_loss = []\n",
    "    train_rolling_acc = []\n",
    "    dev_rolling_acc = []\n",
    "\n",
    "    for epoch in tqdm(range(int(epochs))):\n",
    "        train_loss = 0.\n",
    "        train_acc = 0.\n",
    "        \n",
    "        for i, (features, labels) in enumerate(train_loader):\n",
    "            features = Variable(features)\n",
    "            labels = Variable(labels)\n",
    "            \n",
    "            optimizer.zero_grad()\n",
    "            outputs = model(features)\n",
    "            loss = criterion(outputs, labels)\n",
    "            loss.backward()\n",
    "            optimizer.step()\n",
    "            train_loss += loss.item()\n",
    "            \n",
    "            acc = torch.mean(torch.eq(torch.round(outputs), labels).float()).item()\n",
    "            train_acc += acc\n",
    "            \n",
    "        #print(train_acc, len(train_loader))\n",
    "        \n",
    "        train_rolling_acc.append(train_acc/len(train_loader))\n",
    "        train_rolling_loss.append(train_loss/len(train_loader))\n",
    "\n",
    "        ## calculating loss on dev set\n",
    "        \n",
    "        dev_loss,dev_acc = test_net(dev_loader, epoch)\n",
    "        dev_rolling_loss.append(dev_loss)\n",
    "        dev_rolling_acc.append(dev_acc)\n",
    "        \n",
    "        \n",
    "    print(\"Train Accuracy: \",train_rolling_acc[-1],\", Dev Accuracy: \",dev_rolling_acc[-1])\n",
    "    print(\"Train Loss: \",train_rolling_loss[-1],\", Dev Loss: \",dev_rolling_loss[-1])\n",
    "    \n",
    "    # plotting graphs on train loss and dev loss\n",
    "    #plot_train_dev(train_rolling_loss,dev_rolling_loss,\"loss\")\n",
    "    #plot_train_dev(train_rolling_acc,dev_rolling_acc,\"accuracy\")\n",
    "    \n",
    "    #plot_train_dev(train_rolling_loss,train_rolling_acc,\"loss/accu\")\n",
    "    \n",
    "    return train_rolling_acc[-1],dev_rolling_acc[-1]\n",
    "    "
   ]
  },
  {
   "cell_type": "code",
   "execution_count": 119,
   "metadata": {},
   "outputs": [
    {
     "name": "stderr",
     "output_type": "stream",
     "text": [
      "                                               "
     ]
    },
    {
     "name": "stdout",
     "output_type": "stream",
     "text": [
      "Train Accuracy:  0.916216777507649 , Dev Accuracy:  0.91357421875\n",
      "Train Loss:  0.1861496042286934 , Dev Loss:  0.18803891714196652\n"
     ]
    },
    {
     "name": "stderr",
     "output_type": "stream",
     "text": [
      "\r"
     ]
    },
    {
     "data": {
      "text/plain": [
       "(0.916216777507649, 0.91357421875)"
      ]
     },
     "execution_count": 119,
     "metadata": {},
     "output_type": "execute_result"
    }
   ],
   "source": [
    "#### RUN MODEL\n",
    "epochs = 50\n",
    "\n",
    "model = Net(int(x_train.shape[1]), 1) # n_features, n_classes\n",
    "criterion = torch.nn.BCELoss()\n",
    "#optimizer = torch.optim.SGD(model.parameters(), lr=0.001)\n",
    "optimizer = torch.optim.Adam(model.parameters(), lr=0.00001)\n",
    "\n",
    "train_net(train_loader,dev_loader)"
   ]
  },
  {
   "cell_type": "code",
   "execution_count": 111,
   "metadata": {},
   "outputs": [
    {
     "name": "stderr",
     "output_type": "stream",
     "text": [
      "  0%|          | 0/50 [00:00<?, ?it/s]         "
     ]
    },
    {
     "name": "stdout",
     "output_type": "stream",
     "text": [
      "Train Accuracy:  0.891124636627907 , Dev Accuracy:  0.90472412109375\n",
      "Train Loss:  0.20644757220911425 , Dev Loss:  0.17698822845704854\n"
     ]
    },
    {
     "name": "stderr",
     "output_type": "stream",
     "text": [
      "  0%|          | 0/50 [00:00<?, ?it/s]         "
     ]
    },
    {
     "name": "stdout",
     "output_type": "stream",
     "text": [
      "Train Accuracy:  0.8997433684593024 , Dev Accuracy:  0.911651611328125\n",
      "Train Loss:  0.2118855356130489 , Dev Loss:  0.18641184456646442\n"
     ]
    },
    {
     "name": "stderr",
     "output_type": "stream",
     "text": [
      "  0%|          | 0/50 [00:00<?, ?it/s]         "
     ]
    },
    {
     "name": "stdout",
     "output_type": "stream",
     "text": [
      "Train Accuracy:  0.9009681271259175 , Dev Accuracy:  0.9090423583984375\n",
      "Train Loss:  0.19893749118890874 , Dev Loss:  0.18019701819866896\n"
     ]
    },
    {
     "name": "stderr",
     "output_type": "stream",
     "text": [
      "  0%|          | 0/50 [00:00<?, ?it/s]         "
     ]
    },
    {
     "name": "stdout",
     "output_type": "stream",
     "text": [
      "Train Accuracy:  0.8959376947131268 , Dev Accuracy:  0.9100799560546875\n",
      "Train Loss:  0.21650379211750143 , Dev Loss:  0.1904235442634672\n"
     ]
    },
    {
     "name": "stderr",
     "output_type": "stream",
     "text": [
      "  0%|          | 0/50 [00:00<?, ?it/s]         "
     ]
    },
    {
     "name": "stdout",
     "output_type": "stream",
     "text": [
      "Train Accuracy:  0.8972719516171965 , Dev Accuracy:  0.9127960205078125\n",
      "Train Loss:  0.21285619785965876 , Dev Loss:  0.18703452590852976\n"
     ]
    },
    {
     "name": "stderr",
     "output_type": "stream",
     "text": [
      "  0%|          | 0/50 [00:00<?, ?it/s]         "
     ]
    },
    {
     "name": "stdout",
     "output_type": "stream",
     "text": [
      "Train Accuracy:  0.8974138938410338 , Dev Accuracy:  0.9127960205078125\n",
      "Train Loss:  0.21988790759513543 , Dev Loss:  0.19153769011609256\n"
     ]
    },
    {
     "name": "stderr",
     "output_type": "stream",
     "text": [
      "  0%|          | 0/50 [00:00<?, ?it/s]         "
     ]
    },
    {
     "name": "stdout",
     "output_type": "stream",
     "text": [
      "Train Accuracy:  0.8945409832305686 , Dev Accuracy:  0.911285400390625\n",
      "Train Loss:  0.2145338446594948 , Dev Loss:  0.1883515384979546\n"
     ]
    },
    {
     "name": "stderr",
     "output_type": "stream",
     "text": [
      "  0%|          | 0/50 [00:00<?, ?it/s]         "
     ]
    },
    {
     "name": "stdout",
     "output_type": "stream",
     "text": [
      "Train Accuracy:  0.9058395842480105 , Dev Accuracy:  0.9093780517578125\n",
      "Train Loss:  0.199056031269043 , Dev Loss:  0.185287645785138\n"
     ]
    },
    {
     "name": "stderr",
     "output_type": "stream",
     "text": [
      "  0%|          | 0/50 [00:00<?, ?it/s]         "
     ]
    },
    {
     "name": "stdout",
     "output_type": "stream",
     "text": [
      "Train Accuracy:  0.9114150748003361 , Dev Accuracy:  0.91357421875\n",
      "Train Loss:  0.21587678634150084 , Dev Loss:  0.19971789815463126\n"
     ]
    },
    {
     "name": "stderr",
     "output_type": "stream",
     "text": [
      "                                               "
     ]
    },
    {
     "name": "stdout",
     "output_type": "stream",
     "text": [
      "Train Accuracy:  0.9154900333216024 , Dev Accuracy:  0.912811279296875\n",
      "Train Loss:  0.19219747787817967 , Dev Loss:  0.19306443678215146\n"
     ]
    },
    {
     "name": "stderr",
     "output_type": "stream",
     "text": [
      "\r"
     ]
    }
   ],
   "source": [
    "from sklearn.model_selection import KFold\n",
    "kfold = KFold(n_splits=10)\n",
    "\n",
    "total_acc = []\n",
    "for fold, (train_index, test_index) in enumerate(kfold.split(x, y)):\n",
    "        ### Dividing data into folds\n",
    "    x_train_fold = x[train_index]\n",
    "    x_test_fold = x[test_index]\n",
    "    y_train_fold = y[train_index]\n",
    "    y_test_fold = y[test_index]\n",
    "\n",
    "    train = torch.utils.data.TensorDataset(x_train_fold, y_train_fold)\n",
    "    test = torch.utils.data.TensorDataset(x_test_fold, y_test_fold)\n",
    "    train_loader = torch.utils.data.DataLoader(train, batch_size = batch_size, shuffle = False)\n",
    "    test_loader = torch.utils.data.DataLoader(test, batch_size = batch_size, shuffle = False)\n",
    "    \n",
    "    model = Net(int(x_train.shape[1]), 1) # n_features, n_classes\n",
    "    criterion = torch.nn.BCELoss()\n",
    "    optimizer = torch.optim.Adam(model.parameters(), lr=0.00001)\n",
    "    \n",
    "    train_accu, dev_accu = train_net(train_loader,dev_loader)\n",
    "    total_acc.append(dev_accu)\n",
    "    \n"
   ]
  },
  {
   "cell_type": "code",
   "execution_count": null,
   "metadata": {},
   "outputs": [],
   "source": []
  },
  {
   "cell_type": "code",
   "execution_count": null,
   "metadata": {},
   "outputs": [],
   "source": []
  },
  {
   "cell_type": "code",
   "execution_count": null,
   "metadata": {},
   "outputs": [],
   "source": []
  },
  {
   "cell_type": "code",
   "execution_count": null,
   "metadata": {},
   "outputs": [],
   "source": []
  }
 ],
 "metadata": {
  "kernelspec": {
   "display_name": "Python 3",
   "language": "python",
   "name": "python3"
  },
  "language_info": {
   "codemirror_mode": {
    "name": "ipython",
    "version": 3
   },
   "file_extension": ".py",
   "mimetype": "text/x-python",
   "name": "python",
   "nbconvert_exporter": "python",
   "pygments_lexer": "ipython3",
   "version": "3.7.5"
  }
 },
 "nbformat": 4,
 "nbformat_minor": 2
}
