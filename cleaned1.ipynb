{
 "cells": [
  {
   "cell_type": "markdown",
   "metadata": {},
   "source": [
    "### Step 1: Reading and Understanding the Data"
   ]
  },
  {
   "cell_type": "code",
   "execution_count": 4,
   "metadata": {},
   "outputs": [],
   "source": [
    "# Supress Warnings\n",
    "\n",
    "import warnings\n",
    "warnings.filterwarnings('ignore')"
   ]
  },
  {
   "cell_type": "code",
   "execution_count": 5,
   "metadata": {},
   "outputs": [],
   "source": [
    "# Importing all required packages\n",
    "\n",
    "import numpy as np\n",
    "import pandas as pd\n",
    "import matplotlib.pyplot as plt\n",
    "import seaborn as sns\n",
    "import csv\n",
    "from sklearn.impute import KNNImputer\n",
    "\n"
   ]
  },
  {
   "cell_type": "code",
   "execution_count": 6,
   "metadata": {},
   "outputs": [
    {
     "data": {
      "text/html": [
       "<div>\n",
       "<style scoped>\n",
       "    .dataframe tbody tr th:only-of-type {\n",
       "        vertical-align: middle;\n",
       "    }\n",
       "\n",
       "    .dataframe tbody tr th {\n",
       "        vertical-align: top;\n",
       "    }\n",
       "\n",
       "    .dataframe thead th {\n",
       "        text-align: right;\n",
       "    }\n",
       "</style>\n",
       "<table border=\"1\" class=\"dataframe\">\n",
       "  <thead>\n",
       "    <tr style=\"text-align: right;\">\n",
       "      <th></th>\n",
       "      <th>Id</th>\n",
       "      <th>StageName</th>\n",
       "      <th>Status_Reason__c</th>\n",
       "      <th>RecordType.Name</th>\n",
       "      <th>RICE_Supported__c</th>\n",
       "      <th>CreatedDate</th>\n",
       "      <th>CloseDate</th>\n",
       "      <th>Actual_Close_Date__c</th>\n",
       "      <th>AccountId</th>\n",
       "      <th>Lead_Faculty__c</th>\n",
       "      <th>Lead_School__c</th>\n",
       "      <th>Parent_Opportunity__c</th>\n",
       "      <th>RecordType.Name.1</th>\n",
       "      <th>Industry</th>\n",
       "      <th>Industry_Sub_Type__c</th>\n",
       "      <th>Business_Type__c</th>\n",
       "      <th>Is_External__c</th>\n",
       "      <th>ParentId</th>\n",
       "    </tr>\n",
       "  </thead>\n",
       "  <tbody>\n",
       "    <tr>\n",
       "      <th>0</th>\n",
       "      <td>0062e000002Hc2PAAS</td>\n",
       "      <td>Closed Lost</td>\n",
       "      <td>Customer No Longer Interested</td>\n",
       "      <td>Custom Education (MSPACE Included)</td>\n",
       "      <td>RIC-BD&amp;I</td>\n",
       "      <td>2019-11-07T00:59:46.000Z</td>\n",
       "      <td>31/8/20</td>\n",
       "      <td>30/4/20</td>\n",
       "      <td>0012e000003AqeVAAS</td>\n",
       "      <td>0012e000002ZGfbAAG</td>\n",
       "      <td>0012e000002Zt0mAAC</td>\n",
       "      <td>NaN</td>\n",
       "      <td>Business Organization</td>\n",
       "      <td>Health</td>\n",
       "      <td>Health Care &amp; Healthy Aging</td>\n",
       "      <td>Multinational / Other Large Corporate</td>\n",
       "      <td>External</td>\n",
       "      <td>NaN</td>\n",
       "    </tr>\n",
       "    <tr>\n",
       "      <th>1</th>\n",
       "      <td>0062e000002HFaaAAG</td>\n",
       "      <td>Post Award</td>\n",
       "      <td>NaN</td>\n",
       "      <td>Parent Grant</td>\n",
       "      <td>RIC-RE&amp;D</td>\n",
       "      <td>2018-09-19T04:32:55.000Z</td>\n",
       "      <td>31/12/49</td>\n",
       "      <td>NaN</td>\n",
       "      <td>0012e000003A6ElAAK</td>\n",
       "      <td>NaN</td>\n",
       "      <td>NaN</td>\n",
       "      <td>NaN</td>\n",
       "      <td>Business Organization</td>\n",
       "      <td>Public Administration</td>\n",
       "      <td>NaN</td>\n",
       "      <td>Government: Australia: Federal</td>\n",
       "      <td>External</td>\n",
       "      <td>0012e000003A6osAAC</td>\n",
       "    </tr>\n",
       "    <tr>\n",
       "      <th>2</th>\n",
       "      <td>0062e000002HFabAAG</td>\n",
       "      <td>Post Award</td>\n",
       "      <td>NaN</td>\n",
       "      <td>Parent Grant</td>\n",
       "      <td>RIC-RE&amp;D</td>\n",
       "      <td>2018-09-19T04:32:19.000Z</td>\n",
       "      <td>22/6/20</td>\n",
       "      <td>22/6/20</td>\n",
       "      <td>0012e000003A6ElAAK</td>\n",
       "      <td>NaN</td>\n",
       "      <td>NaN</td>\n",
       "      <td>NaN</td>\n",
       "      <td>Business Organization</td>\n",
       "      <td>Public Administration</td>\n",
       "      <td>NaN</td>\n",
       "      <td>Government: Australia: Federal</td>\n",
       "      <td>External</td>\n",
       "      <td>0012e000003A6osAAC</td>\n",
       "    </tr>\n",
       "    <tr>\n",
       "      <th>3</th>\n",
       "      <td>0062e000002HFacAAG</td>\n",
       "      <td>Closed</td>\n",
       "      <td>NaN</td>\n",
       "      <td>Parent Grant</td>\n",
       "      <td>NaN</td>\n",
       "      <td>2016-07-06T05:03:00.000Z</td>\n",
       "      <td>31/12/49</td>\n",
       "      <td>NaN</td>\n",
       "      <td>0012e000003A6osAAC</td>\n",
       "      <td>NaN</td>\n",
       "      <td>NaN</td>\n",
       "      <td>NaN</td>\n",
       "      <td>Business Organization</td>\n",
       "      <td>Public Administration</td>\n",
       "      <td>NaN</td>\n",
       "      <td>Government: Australia: Federal</td>\n",
       "      <td>External</td>\n",
       "      <td>0012e000003A6FfAAK</td>\n",
       "    </tr>\n",
       "    <tr>\n",
       "      <th>4</th>\n",
       "      <td>0062e000002HFadAAG</td>\n",
       "      <td>Closed</td>\n",
       "      <td>NaN</td>\n",
       "      <td>Parent Grant</td>\n",
       "      <td>NaN</td>\n",
       "      <td>2016-07-21T23:56:54.000Z</td>\n",
       "      <td>31/12/49</td>\n",
       "      <td>NaN</td>\n",
       "      <td>0012e000003A79XAAS</td>\n",
       "      <td>NaN</td>\n",
       "      <td>NaN</td>\n",
       "      <td>NaN</td>\n",
       "      <td>Business Organization</td>\n",
       "      <td>Public Administration</td>\n",
       "      <td>NaN</td>\n",
       "      <td>Government: Australia: Federal</td>\n",
       "      <td>External</td>\n",
       "      <td>NaN</td>\n",
       "    </tr>\n",
       "  </tbody>\n",
       "</table>\n",
       "</div>"
      ],
      "text/plain": [
       "                   Id    StageName               Status_Reason__c  \\\n",
       "0  0062e000002Hc2PAAS  Closed Lost  Customer No Longer Interested   \n",
       "1  0062e000002HFaaAAG   Post Award                            NaN   \n",
       "2  0062e000002HFabAAG   Post Award                            NaN   \n",
       "3  0062e000002HFacAAG       Closed                            NaN   \n",
       "4  0062e000002HFadAAG       Closed                            NaN   \n",
       "\n",
       "                      RecordType.Name RICE_Supported__c  \\\n",
       "0  Custom Education (MSPACE Included)          RIC-BD&I   \n",
       "1                        Parent Grant          RIC-RE&D   \n",
       "2                        Parent Grant          RIC-RE&D   \n",
       "3                        Parent Grant               NaN   \n",
       "4                        Parent Grant               NaN   \n",
       "\n",
       "                CreatedDate CloseDate Actual_Close_Date__c  \\\n",
       "0  2019-11-07T00:59:46.000Z   31/8/20              30/4/20   \n",
       "1  2018-09-19T04:32:55.000Z  31/12/49                  NaN   \n",
       "2  2018-09-19T04:32:19.000Z   22/6/20              22/6/20   \n",
       "3  2016-07-06T05:03:00.000Z  31/12/49                  NaN   \n",
       "4  2016-07-21T23:56:54.000Z  31/12/49                  NaN   \n",
       "\n",
       "            AccountId     Lead_Faculty__c      Lead_School__c  \\\n",
       "0  0012e000003AqeVAAS  0012e000002ZGfbAAG  0012e000002Zt0mAAC   \n",
       "1  0012e000003A6ElAAK                 NaN                 NaN   \n",
       "2  0012e000003A6ElAAK                 NaN                 NaN   \n",
       "3  0012e000003A6osAAC                 NaN                 NaN   \n",
       "4  0012e000003A79XAAS                 NaN                 NaN   \n",
       "\n",
       "  Parent_Opportunity__c      RecordType.Name.1               Industry  \\\n",
       "0                   NaN  Business Organization                 Health   \n",
       "1                   NaN  Business Organization  Public Administration   \n",
       "2                   NaN  Business Organization  Public Administration   \n",
       "3                   NaN  Business Organization  Public Administration   \n",
       "4                   NaN  Business Organization  Public Administration   \n",
       "\n",
       "          Industry_Sub_Type__c                       Business_Type__c  \\\n",
       "0  Health Care & Healthy Aging  Multinational / Other Large Corporate   \n",
       "1                          NaN         Government: Australia: Federal   \n",
       "2                          NaN         Government: Australia: Federal   \n",
       "3                          NaN         Government: Australia: Federal   \n",
       "4                          NaN         Government: Australia: Federal   \n",
       "\n",
       "  Is_External__c            ParentId  \n",
       "0       External                 NaN  \n",
       "1       External  0012e000003A6osAAC  \n",
       "2       External  0012e000003A6osAAC  \n",
       "3       External  0012e000003A6FfAAK  \n",
       "4       External                 NaN  "
      ]
     },
     "execution_count": 6,
     "metadata": {},
     "output_type": "execute_result"
    }
   ],
   "source": [
    "# Importing dataset\n",
    "\n",
    "lead = pd.read_csv('research_joint_data.csv', encoding = 'latin')\n",
    "lead.head()"
   ]
  },
  {
   "cell_type": "code",
   "execution_count": 7,
   "metadata": {},
   "outputs": [
    {
     "name": "stdout",
     "output_type": "stream",
     "text": [
      "*********************************  Info *******************************************\n",
      "<class 'pandas.core.frame.DataFrame'>\n",
      "RangeIndex: 7597 entries, 0 to 7596\n",
      "Data columns (total 18 columns):\n",
      " #   Column                 Non-Null Count  Dtype \n",
      "---  ------                 --------------  ----- \n",
      " 0   Id                     7597 non-null   object\n",
      " 1   StageName              7597 non-null   object\n",
      " 2   Status_Reason__c       7288 non-null   object\n",
      " 3   RecordType.Name        7597 non-null   object\n",
      " 4   RICE_Supported__c      7569 non-null   object\n",
      " 5   CreatedDate            7597 non-null   object\n",
      " 6   CloseDate              7597 non-null   object\n",
      " 7   Actual_Close_Date__c   6293 non-null   object\n",
      " 8   AccountId              6840 non-null   object\n",
      " 9   Lead_Faculty__c        6325 non-null   object\n",
      " 10  Lead_School__c         4272 non-null   object\n",
      " 11  Parent_Opportunity__c  982 non-null    object\n",
      " 12  RecordType.Name.1      6840 non-null   object\n",
      " 13  Industry               6838 non-null   object\n",
      " 14  Industry_Sub_Type__c   4199 non-null   object\n",
      " 15  Business_Type__c       6795 non-null   object\n",
      " 16  Is_External__c         6840 non-null   object\n",
      " 17  ParentId               1140 non-null   object\n",
      "dtypes: object(18)\n",
      "memory usage: 1.0+ MB\n",
      "None\n",
      "*********************************  Shape ******************************************\n",
      "(7597, 18)\n",
      "**************************** Columns having null values *****************************\n",
      "Id                       False\n",
      "StageName                False\n",
      "Status_Reason__c          True\n",
      "RecordType.Name          False\n",
      "RICE_Supported__c         True\n",
      "CreatedDate              False\n",
      "CloseDate                False\n",
      "Actual_Close_Date__c      True\n",
      "AccountId                 True\n",
      "Lead_Faculty__c           True\n",
      "Lead_School__c            True\n",
      "Parent_Opportunity__c     True\n",
      "RecordType.Name.1         True\n",
      "Industry                  True\n",
      "Industry_Sub_Type__c      True\n",
      "Business_Type__c          True\n",
      "Is_External__c            True\n",
      "ParentId                  True\n",
      "dtype: bool\n",
      "**************************** Describe *****************************\n"
     ]
    },
    {
     "data": {
      "text/html": [
       "<div>\n",
       "<style scoped>\n",
       "    .dataframe tbody tr th:only-of-type {\n",
       "        vertical-align: middle;\n",
       "    }\n",
       "\n",
       "    .dataframe tbody tr th {\n",
       "        vertical-align: top;\n",
       "    }\n",
       "\n",
       "    .dataframe thead th {\n",
       "        text-align: right;\n",
       "    }\n",
       "</style>\n",
       "<table border=\"1\" class=\"dataframe\">\n",
       "  <thead>\n",
       "    <tr style=\"text-align: right;\">\n",
       "      <th></th>\n",
       "      <th>Id</th>\n",
       "      <th>StageName</th>\n",
       "      <th>Status_Reason__c</th>\n",
       "      <th>RecordType.Name</th>\n",
       "      <th>RICE_Supported__c</th>\n",
       "      <th>CreatedDate</th>\n",
       "      <th>CloseDate</th>\n",
       "      <th>Actual_Close_Date__c</th>\n",
       "      <th>AccountId</th>\n",
       "      <th>Lead_Faculty__c</th>\n",
       "      <th>Lead_School__c</th>\n",
       "      <th>Parent_Opportunity__c</th>\n",
       "      <th>RecordType.Name.1</th>\n",
       "      <th>Industry</th>\n",
       "      <th>Industry_Sub_Type__c</th>\n",
       "      <th>Business_Type__c</th>\n",
       "      <th>Is_External__c</th>\n",
       "      <th>ParentId</th>\n",
       "    </tr>\n",
       "  </thead>\n",
       "  <tbody>\n",
       "    <tr>\n",
       "      <th>count</th>\n",
       "      <td>7597</td>\n",
       "      <td>7597</td>\n",
       "      <td>7288</td>\n",
       "      <td>7597</td>\n",
       "      <td>7569</td>\n",
       "      <td>7597</td>\n",
       "      <td>7597</td>\n",
       "      <td>6293</td>\n",
       "      <td>6840</td>\n",
       "      <td>6325</td>\n",
       "      <td>4272</td>\n",
       "      <td>982</td>\n",
       "      <td>6840</td>\n",
       "      <td>6838</td>\n",
       "      <td>4199</td>\n",
       "      <td>6795</td>\n",
       "      <td>6840</td>\n",
       "      <td>1140</td>\n",
       "    </tr>\n",
       "    <tr>\n",
       "      <th>unique</th>\n",
       "      <td>7597</td>\n",
       "      <td>18</td>\n",
       "      <td>25</td>\n",
       "      <td>12</td>\n",
       "      <td>4</td>\n",
       "      <td>7498</td>\n",
       "      <td>885</td>\n",
       "      <td>1072</td>\n",
       "      <td>2408</td>\n",
       "      <td>16</td>\n",
       "      <td>46</td>\n",
       "      <td>315</td>\n",
       "      <td>3</td>\n",
       "      <td>19</td>\n",
       "      <td>19</td>\n",
       "      <td>11</td>\n",
       "      <td>2</td>\n",
       "      <td>105</td>\n",
       "    </tr>\n",
       "    <tr>\n",
       "      <th>top</th>\n",
       "      <td>0062e000002Y1QJAA0</td>\n",
       "      <td>Closed Lost</td>\n",
       "      <td>Other (Lost)</td>\n",
       "      <td>Research Contract</td>\n",
       "      <td>RIC-BD&amp;I</td>\n",
       "      <td>2016-08-08T06:48:56.000Z</td>\n",
       "      <td>1/11/2019</td>\n",
       "      <td>11/5/2017</td>\n",
       "      <td>0012e000003A6qHAAS</td>\n",
       "      <td>0012e000002ZGfbAAG</td>\n",
       "      <td>0012e000002Zt0cAAC</td>\n",
       "      <td>0062e000002HFbAAAW</td>\n",
       "      <td>Business Organization</td>\n",
       "      <td>Services</td>\n",
       "      <td>Education</td>\n",
       "      <td>Government: Australia: Federal</td>\n",
       "      <td>External</td>\n",
       "      <td>0012e000003A78yAAC</td>\n",
       "    </tr>\n",
       "    <tr>\n",
       "      <th>freq</th>\n",
       "      <td>1</td>\n",
       "      <td>4003</td>\n",
       "      <td>2398</td>\n",
       "      <td>3453</td>\n",
       "      <td>3289</td>\n",
       "      <td>14</td>\n",
       "      <td>2726</td>\n",
       "      <td>103</td>\n",
       "      <td>324</td>\n",
       "      <td>1514</td>\n",
       "      <td>526</td>\n",
       "      <td>50</td>\n",
       "      <td>6796</td>\n",
       "      <td>2457</td>\n",
       "      <td>1366</td>\n",
       "      <td>1419</td>\n",
       "      <td>6796</td>\n",
       "      <td>319</td>\n",
       "    </tr>\n",
       "  </tbody>\n",
       "</table>\n",
       "</div>"
      ],
      "text/plain": [
       "                        Id    StageName Status_Reason__c    RecordType.Name  \\\n",
       "count                 7597         7597             7288               7597   \n",
       "unique                7597           18               25                 12   \n",
       "top     0062e000002Y1QJAA0  Closed Lost     Other (Lost)  Research Contract   \n",
       "freq                     1         4003             2398               3453   \n",
       "\n",
       "       RICE_Supported__c               CreatedDate  CloseDate  \\\n",
       "count               7569                      7597       7597   \n",
       "unique                 4                      7498        885   \n",
       "top             RIC-BD&I  2016-08-08T06:48:56.000Z  1/11/2019   \n",
       "freq                3289                        14       2726   \n",
       "\n",
       "       Actual_Close_Date__c           AccountId     Lead_Faculty__c  \\\n",
       "count                  6293                6840                6325   \n",
       "unique                 1072                2408                  16   \n",
       "top               11/5/2017  0012e000003A6qHAAS  0012e000002ZGfbAAG   \n",
       "freq                    103                 324                1514   \n",
       "\n",
       "            Lead_School__c Parent_Opportunity__c      RecordType.Name.1  \\\n",
       "count                 4272                   982                   6840   \n",
       "unique                  46                   315                      3   \n",
       "top     0012e000002Zt0cAAC    0062e000002HFbAAAW  Business Organization   \n",
       "freq                   526                    50                   6796   \n",
       "\n",
       "        Industry Industry_Sub_Type__c                Business_Type__c  \\\n",
       "count       6838                 4199                            6795   \n",
       "unique        19                   19                              11   \n",
       "top     Services            Education  Government: Australia: Federal   \n",
       "freq        2457                 1366                            1419   \n",
       "\n",
       "       Is_External__c            ParentId  \n",
       "count            6840                1140  \n",
       "unique              2                 105  \n",
       "top          External  0012e000003A78yAAC  \n",
       "freq             6796                 319  "
      ]
     },
     "execution_count": 7,
     "metadata": {},
     "output_type": "execute_result"
    }
   ],
   "source": [
    "# inspect lead dataframe\n",
    "\n",
    "print(\"*********************************  Info *******************************************\") \n",
    "print(lead.info())\n",
    "print(\"*********************************  Shape ******************************************\") \n",
    "print(lead.shape)\n",
    "print(\"**************************** Columns having null values *****************************\")\n",
    "print(lead.isnull().any())\n",
    "print(\"**************************** Describe *****************************\")\n",
    "lead.describe()"
   ]
  },
  {
   "cell_type": "markdown",
   "metadata": {},
   "source": [
    "# Step 2: Data Cleaning"
   ]
  },
  {
   "cell_type": "code",
   "execution_count": 8,
   "metadata": {},
   "outputs": [
    {
     "name": "stdout",
     "output_type": "stream",
     "text": [
      "Id                        0.00\n",
      "StageName                 0.00\n",
      "Status_Reason__c          4.07\n",
      "RecordType.Name           0.00\n",
      "RICE_Supported__c         0.37\n",
      "CreatedDate               0.00\n",
      "CloseDate                 0.00\n",
      "Actual_Close_Date__c     17.16\n",
      "AccountId                 9.96\n",
      "Lead_Faculty__c          16.74\n",
      "Lead_School__c           43.77\n",
      "Parent_Opportunity__c    87.07\n",
      "RecordType.Name.1         9.96\n",
      "Industry                  9.99\n",
      "Industry_Sub_Type__c     44.73\n",
      "Business_Type__c         10.56\n",
      "Is_External__c            9.96\n",
      "ParentId                 84.99\n",
      "dtype: float64\n"
     ]
    }
   ],
   "source": [
    "#percentage of null values for each column\n",
    "\n",
    "percent_missing = round(100*(lead.isnull().sum()/len(lead.index)), 2)\n",
    "print(percent_missing)"
   ]
  },
  {
   "cell_type": "markdown",
   "metadata": {},
   "source": [
    "There are some columns that have more than 40% null values.\n",
    "\n",
    "remove: (Lead_School__c  43.77, Industry_Sub_Type__c     44.73)\n",
    "\n",
    "ParentId: 1yes/0no\n",
    "\n",
    "Parent_Opportunity__c: 1yes/0no"
   ]
  },
  {
   "cell_type": "markdown",
   "metadata": {},
   "source": [
    "###### Check if there are any duplicate values in the dataset"
   ]
  },
  {
   "cell_type": "code",
   "execution_count": 9,
   "metadata": {},
   "outputs": [
    {
     "data": {
      "text/html": [
       "<div>\n",
       "<style scoped>\n",
       "    .dataframe tbody tr th:only-of-type {\n",
       "        vertical-align: middle;\n",
       "    }\n",
       "\n",
       "    .dataframe tbody tr th {\n",
       "        vertical-align: top;\n",
       "    }\n",
       "\n",
       "    .dataframe thead th {\n",
       "        text-align: right;\n",
       "    }\n",
       "</style>\n",
       "<table border=\"1\" class=\"dataframe\">\n",
       "  <thead>\n",
       "    <tr style=\"text-align: right;\">\n",
       "      <th></th>\n",
       "      <th>Id</th>\n",
       "      <th>StageName</th>\n",
       "      <th>Status_Reason__c</th>\n",
       "      <th>RecordType.Name</th>\n",
       "      <th>RICE_Supported__c</th>\n",
       "      <th>CreatedDate</th>\n",
       "      <th>CloseDate</th>\n",
       "      <th>Actual_Close_Date__c</th>\n",
       "      <th>AccountId</th>\n",
       "      <th>Lead_Faculty__c</th>\n",
       "      <th>Lead_School__c</th>\n",
       "      <th>Parent_Opportunity__c</th>\n",
       "      <th>RecordType.Name.1</th>\n",
       "      <th>Industry</th>\n",
       "      <th>Industry_Sub_Type__c</th>\n",
       "      <th>Business_Type__c</th>\n",
       "      <th>Is_External__c</th>\n",
       "      <th>ParentId</th>\n",
       "    </tr>\n",
       "  </thead>\n",
       "  <tbody>\n",
       "  </tbody>\n",
       "</table>\n",
       "</div>"
      ],
      "text/plain": [
       "Empty DataFrame\n",
       "Columns: [Id, StageName, Status_Reason__c, RecordType.Name, RICE_Supported__c, CreatedDate, CloseDate, Actual_Close_Date__c, AccountId, Lead_Faculty__c, Lead_School__c, Parent_Opportunity__c, RecordType.Name.1, Industry, Industry_Sub_Type__c, Business_Type__c, Is_External__c, ParentId]\n",
       "Index: []"
      ]
     },
     "execution_count": 9,
     "metadata": {},
     "output_type": "execute_result"
    }
   ],
   "source": [
    "lead[lead.duplicated(keep=False)]"
   ]
  },
  {
   "cell_type": "markdown",
   "metadata": {},
   "source": [
    "There are no duplicate values in the data."
   ]
  },
  {
   "cell_type": "markdown",
   "metadata": {},
   "source": [
    "###### Transform to 1yes/0no"
   ]
  },
  {
   "cell_type": "code",
   "execution_count": 10,
   "metadata": {},
   "outputs": [],
   "source": [
    "lead[[\"ParentId\",\"Parent_Opportunity__c\"]]=lead[[\"ParentId\",\"Parent_Opportunity__c\"]].notnull().astype(int)"
   ]
  },
  {
   "cell_type": "markdown",
   "metadata": {},
   "source": [
    "###### Drop 3 columns"
   ]
  },
  {
   "cell_type": "code",
   "execution_count": 11,
   "metadata": {
    "scrolled": true
   },
   "outputs": [],
   "source": [
    "lead = lead.drop([\"Lead_School__c\",\"Industry_Sub_Type__c\"],axis=1)"
   ]
  },
  {
   "cell_type": "code",
   "execution_count": 12,
   "metadata": {},
   "outputs": [],
   "source": [
    " lead = lead.drop([\"Actual_Close_Date__c\"],axis=1)"
   ]
  },
  {
   "cell_type": "code",
   "execution_count": 13,
   "metadata": {},
   "outputs": [
    {
     "name": "stdout",
     "output_type": "stream",
     "text": [
      "Id                        0.00\n",
      "StageName                 0.00\n",
      "Status_Reason__c          4.07\n",
      "RecordType.Name           0.00\n",
      "RICE_Supported__c         0.37\n",
      "CreatedDate               0.00\n",
      "CloseDate                 0.00\n",
      "AccountId                 9.96\n",
      "Lead_Faculty__c          16.74\n",
      "Parent_Opportunity__c     0.00\n",
      "RecordType.Name.1         9.96\n",
      "Industry                  9.99\n",
      "Business_Type__c         10.56\n",
      "Is_External__c            9.96\n",
      "ParentId                  0.00\n",
      "dtype: float64\n"
     ]
    }
   ],
   "source": [
    "#check null values\n",
    "percent_missing = round(100*(lead.isnull().sum()/len(lead.index)), 2)\n",
    "print(percent_missing)"
   ]
  },
  {
   "cell_type": "markdown",
   "metadata": {},
   "source": [
    "###### Impute the null values by the median value:\n",
    "\n",
    "Industry\n",
    "\n",
    "Status_Reason__c\n",
    "\n",
    "RICE_Supported__c \n",
    "\n",
    "RecordType.Name.1 \n",
    "\n",
    "Business_Type__c\n",
    "\n",
    "##### Impute the null values by K-means:\n",
    "AccountId\n",
    "\n",
    "Lead_Faculty__c\n",
    "\n",
    "\n"
   ]
  },
  {
   "cell_type": "code",
   "execution_count": 14,
   "metadata": {},
   "outputs": [
    {
     "data": {
      "text/plain": [
       "Services                                    2457\n",
       "Health                                      1530\n",
       "Public Administration                        963\n",
       "Defence                                      477\n",
       "Technology: IT & Telephone Services          263\n",
       "Agriculture & Horticulture                   259\n",
       "Manufacturing & R&D                          212\n",
       "Energy & Utilities                           191\n",
       "Construction & Construction Materials        137\n",
       "Transportation & Logistics                   108\n",
       "Mining & Refining                             73\n",
       "Materials: Chemicals & Industrial Metals      50\n",
       "Education                                     43\n",
       "Veterinary                                    35\n",
       "Mining Equipment and Technology Services      17\n",
       "Transportation                                 8\n",
       "Forestry & Paper                               6\n",
       "Aquaculture & Fisheries                        6\n",
       "Advertising, Marketing and PR                  3\n",
       "Name: Industry, dtype: int64"
      ]
     },
     "execution_count": 14,
     "metadata": {},
     "output_type": "execute_result"
    }
   ],
   "source": [
    "lead['Industry'].value_counts()\n"
   ]
  },
  {
   "cell_type": "code",
   "execution_count": 15,
   "metadata": {},
   "outputs": [],
   "source": [
    "# since \"Services\" has the major chunk of data, \n",
    "# we can impute the null values with Services\n",
    "lead['Industry'] = lead['Industry'].replace(np.nan, \"Services\")"
   ]
  },
  {
   "cell_type": "code",
   "execution_count": 16,
   "metadata": {},
   "outputs": [
    {
     "data": {
      "text/plain": [
       "Other (Lost)                         2398\n",
       "Won                                  2014\n",
       "On Track                              907\n",
       "Customer No Longer Interested         720\n",
       "Proposal/Application Unsuccessful     442\n",
       "Academic Capacity (Lost)              215\n",
       "Out-Sold                              139\n",
       "Customer Not Responding               103\n",
       "Awaiting Customer Action               95\n",
       "Academic No Longer Interested          79\n",
       "Not Ready for Market                   48\n",
       "BD Capacity (Lost)                     29\n",
       "Failure to Agree - Price               14\n",
       "Failure to Agree - Scope of Work       14\n",
       "Academic Capacity (Open)               13\n",
       "Unacceptable Risk                      11\n",
       "Risk                                    8\n",
       "Other (Open)                            8\n",
       "Price                                   8\n",
       "Other IP Issue                          7\n",
       "Scope of Proposal                       6\n",
       "Failure to Agree - IP terms             5\n",
       "IP Issue                                3\n",
       "BD Capacity (Open)                      1\n",
       "Missed Milestone Date                   1\n",
       "Name: Status_Reason__c, dtype: int64"
      ]
     },
     "execution_count": 16,
     "metadata": {},
     "output_type": "execute_result"
    }
   ],
   "source": [
    "lead['Status_Reason__c'].value_counts()"
   ]
  },
  {
   "cell_type": "code",
   "execution_count": 17,
   "metadata": {},
   "outputs": [],
   "source": [
    "lead['Status_Reason__c'] = lead['Status_Reason__c'].replace(np.nan, \"Other (Lost)\")"
   ]
  },
  {
   "cell_type": "code",
   "execution_count": 18,
   "metadata": {},
   "outputs": [
    {
     "data": {
      "text/plain": [
       "RIC-BD&I             3289\n",
       "RIC RE&D and BD&I    3084\n",
       "Not supported         637\n",
       "RIC-RE&D              559\n",
       "Name: RICE_Supported__c, dtype: int64"
      ]
     },
     "execution_count": 18,
     "metadata": {},
     "output_type": "execute_result"
    }
   ],
   "source": [
    "lead['RICE_Supported__c'].value_counts()"
   ]
  },
  {
   "cell_type": "code",
   "execution_count": 19,
   "metadata": {},
   "outputs": [],
   "source": [
    "lead['RICE_Supported__c'] = lead['RICE_Supported__c'].replace(np.nan, \"RIC-BD&I\")"
   ]
  },
  {
   "cell_type": "code",
   "execution_count": 20,
   "metadata": {},
   "outputs": [
    {
     "data": {
      "text/plain": [
       "Business Organization    6796\n",
       "University Department      43\n",
       "Administrative              1\n",
       "Name: RecordType.Name.1, dtype: int64"
      ]
     },
     "execution_count": 20,
     "metadata": {},
     "output_type": "execute_result"
    }
   ],
   "source": [
    "lead['RecordType.Name.1'].value_counts()"
   ]
  },
  {
   "cell_type": "code",
   "execution_count": 21,
   "metadata": {},
   "outputs": [],
   "source": [
    "lead['RecordType.Name.1'] = lead['RecordType.Name.1'].replace(np.nan, \"Business Organization\")"
   ]
  },
  {
   "cell_type": "code",
   "execution_count": 22,
   "metadata": {},
   "outputs": [
    {
     "data": {
      "text/plain": [
       "Government: Australia: Federal                       1419\n",
       "Government: Australia: Local & State                 1288\n",
       "SME (small to medium enterprise)                      914\n",
       "Multinational / Other Large Corporate                 853\n",
       "Not for profit                                        823\n",
       "University                                            535\n",
       "Large Australian Corporate                            440\n",
       "Government: International                             321\n",
       "PFRO (Publicly-Funded Research Organisation)          101\n",
       "RDC (Rural Research and Development Corporations)      53\n",
       "CRC (Co-operative Research Centre)                     48\n",
       "Name: Business_Type__c, dtype: int64"
      ]
     },
     "execution_count": 22,
     "metadata": {},
     "output_type": "execute_result"
    }
   ],
   "source": [
    "lead['Business_Type__c'].value_counts()"
   ]
  },
  {
   "cell_type": "code",
   "execution_count": 23,
   "metadata": {},
   "outputs": [],
   "source": [
    "lead['Business_Type__c'] = lead['Business_Type__c'].replace(np.nan, \"Not for profit\")"
   ]
  },
  {
   "cell_type": "markdown",
   "metadata": {},
   "source": [
    " ##### k means clustering doesn't work\n",
    " could not convert string to float\n",
    "\n",
    " AccountId\n",
    "\n",
    "Lead_Faculty__c\n",
    "\n",
    "imputer = KNNImputer(n_neighbors=2)\n",
    "lead_filled = imputer.fit_transform(lead)"
   ]
  },
  {
   "cell_type": "code",
   "execution_count": 24,
   "metadata": {},
   "outputs": [
    {
     "data": {
      "text/plain": [
       "0012e000002ZGfbAAG    1514\n",
       "0012e000002ZLg7AAG    1204\n",
       "0012e000002Zmo0AAC     875\n",
       "0012e000002ZmnxAAC     845\n",
       "0012e000002ZLgJAAW     359\n",
       "0012e000002ZmnzAAC     357\n",
       "0012e000002ZNYOAA4     355\n",
       "0012e000002ZmOZAA0     321\n",
       "0012e000002ZLgIAAW     294\n",
       "0012e000002Zt1RAAS     172\n",
       "0012e000002ZFZYAA4       9\n",
       "0012e000002ZmOUAA0       7\n",
       "0012e000003hllpAAA       5\n",
       "0012e000002Zt0MAAS       5\n",
       "0012e000002Zt1zAAC       2\n",
       "0012e000002Zt1iAAC       1\n",
       "Name: Lead_Faculty__c, dtype: int64"
      ]
     },
     "execution_count": 24,
     "metadata": {},
     "output_type": "execute_result"
    }
   ],
   "source": [
    "lead['Lead_Faculty__c'].value_counts()"
   ]
  },
  {
   "cell_type": "code",
   "execution_count": 25,
   "metadata": {},
   "outputs": [
    {
     "ename": "ValueError",
     "evalue": "The truth value of a Series is ambiguous. Use a.empty, a.bool(), a.item(), a.any() or a.all().",
     "output_type": "error",
     "traceback": [
      "\u001b[0;31m---------------------------------------------------------------------------\u001b[0m",
      "\u001b[0;31mValueError\u001b[0m                                Traceback (most recent call last)",
      "\u001b[0;32m<ipython-input-25-1f30e982f5c7>\u001b[0m in \u001b[0;36m<module>\u001b[0;34m\u001b[0m\n\u001b[1;32m      1\u001b[0m \u001b[0;31m#only closed won closed loss is remained\u001b[0m\u001b[0;34m\u001b[0m\u001b[0;34m\u001b[0m\u001b[0;34m\u001b[0m\u001b[0m\n\u001b[1;32m      2\u001b[0m \u001b[0;34m\u001b[0m\u001b[0m\n\u001b[0;32m----> 3\u001b[0;31m \u001b[0mlead\u001b[0m\u001b[0;34m[\u001b[0m\u001b[0mlead\u001b[0m\u001b[0;34m.\u001b[0m\u001b[0mStageName\u001b[0m \u001b[0;34m!=\u001b[0m \u001b[0;34m'Closed Lost'\u001b[0m \u001b[0;32mor\u001b[0m \u001b[0mlead\u001b[0m\u001b[0;34m.\u001b[0m\u001b[0mStageName\u001b[0m \u001b[0;34m!=\u001b[0m \u001b[0;34m'Closed Won'\u001b[0m \u001b[0;34m]\u001b[0m\u001b[0;34m\u001b[0m\u001b[0;34m\u001b[0m\u001b[0m\n\u001b[0m",
      "\u001b[0;32m~/opt/anaconda3/lib/python3.8/site-packages/pandas/core/generic.py\u001b[0m in \u001b[0;36m__nonzero__\u001b[0;34m(self)\u001b[0m\n\u001b[1;32m   1476\u001b[0m \u001b[0;34m\u001b[0m\u001b[0m\n\u001b[1;32m   1477\u001b[0m     \u001b[0;32mdef\u001b[0m \u001b[0m__nonzero__\u001b[0m\u001b[0;34m(\u001b[0m\u001b[0mself\u001b[0m\u001b[0;34m)\u001b[0m\u001b[0;34m:\u001b[0m\u001b[0;34m\u001b[0m\u001b[0;34m\u001b[0m\u001b[0m\n\u001b[0;32m-> 1478\u001b[0;31m         raise ValueError(\n\u001b[0m\u001b[1;32m   1479\u001b[0m             \u001b[0;34mf\"The truth value of a {type(self).__name__} is ambiguous. \"\u001b[0m\u001b[0;34m\u001b[0m\u001b[0;34m\u001b[0m\u001b[0m\n\u001b[1;32m   1480\u001b[0m             \u001b[0;34m\"Use a.empty, a.bool(), a.item(), a.any() or a.all().\"\u001b[0m\u001b[0;34m\u001b[0m\u001b[0;34m\u001b[0m\u001b[0m\n",
      "\u001b[0;31mValueError\u001b[0m: The truth value of a Series is ambiguous. Use a.empty, a.bool(), a.item(), a.any() or a.all()."
     ]
    }
   ],
   "source": [
    "#only closed won closed loss is remained\n",
    "\n",
    "lead[lead.StageName != 'Closed Lost' or lead.StageName != 'Closed Won' ]\n"
   ]
  },
  {
   "cell_type": "code",
   "execution_count": 73,
   "metadata": {},
   "outputs": [],
   "source": [
    "lead.to_csv(\"cleaned.csv\",index=False)"
   ]
  },
  {
   "cell_type": "code",
   "execution_count": null,
   "metadata": {},
   "outputs": [],
   "source": []
  }
 ],
 "metadata": {
  "kernelspec": {
   "display_name": "Python 3",
   "language": "python",
   "name": "python3"
  },
  "language_info": {
   "codemirror_mode": {
    "name": "ipython",
    "version": 3
   },
   "file_extension": ".py",
   "mimetype": "text/x-python",
   "name": "python",
   "nbconvert_exporter": "python",
   "pygments_lexer": "ipython3",
   "version": "3.6.4"
  }
 },
 "nbformat": 4,
 "nbformat_minor": 4
}
