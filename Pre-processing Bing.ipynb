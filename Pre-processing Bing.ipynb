{
 "cells": [
  {
   "cell_type": "markdown",
   "metadata": {},
   "source": [
    "### Step 1: Reading and Understanding the Data"
   ]
  },
  {
   "cell_type": "code",
   "execution_count": 1,
   "metadata": {},
   "outputs": [],
   "source": [
    "# Importing all required packages\n",
    "import numpy as np\n",
    "import pandas as pd\n",
    "import matplotlib.pyplot as plt\n",
    "import seaborn as sns\n",
    "import csv\n",
    "import sqlite3\n",
    "conn = sqlite3.connect('research.db')\n"
   ]
  },
  {
   "cell_type": "markdown",
   "metadata": {},
   "source": [
    "###  Fetch all accounts"
   ]
  },
  {
   "cell_type": "code",
   "execution_count": 2,
   "metadata": {},
   "outputs": [],
   "source": [
    "cur = conn.cursor()\n",
    "cur.execute(\"select \\\"Id\\\", \\\"RecordType.Name\\\",\\\"Industry\\\",\\\"Business_Type__c\\\",\\\"Country__c\\\",\\\"Is_External__c\\\",\\\"ParentId\\\"from \\\"Account\\\" union \\\n",
    "select \\\"Id\\\", \\\"RecordType.Name\\\",\\\"Education\\\" as \\\"Industry\\\",\\\"Not for profit\\\" as \\\"Business_Type__c\\\",\\\"Australia\\\" as \\\"Country__c\\\", \\\n",
    "\\\"Is_External__c\\\",\\\"ParentId\\\" from \\\"Account_internal\\\"\")\n",
    "accounts_all = cur.fetchall()\n",
    "accounts_all= pd.DataFrame(accounts_all)\n",
    "accounts_all.columns= ['AccountID', 'AccountType','Industry','BusinessType','Country','Internal_External','ParentAccount']\n",
    "accounts_all.loc[accounts_all['AccountType'] == 'University Department', 'Industry'] = 'Education'  \n",
    "accounts_all.loc[accounts_all['AccountType'] == 'University Department', 'BusinessType'] = 'University'  \n",
    "accounts_all.loc[accounts_all['AccountType'] == 'University Department', 'Country'] = 'Australia' \n",
    "accounts_all['f_Australia']=accounts_all['Country'].apply(lambda x: 1 if x == 'Australia' else 0)\n",
    "accounts_all[\"f_parent\"]=accounts_all['ParentAccount'].notnull().astype(int)\n",
    "accounts_all=accounts_all.drop([\"ParentAccount\"],axis=1)\n",
    "accounts_all=accounts_all.drop([\"Country\"],axis=1)"
   ]
  },
  {
   "cell_type": "code",
   "execution_count": 3,
   "metadata": {
    "scrolled": true
   },
   "outputs": [],
   "source": [
    "cur.execute(\"select * from \\\"Opportunities\\\"\")\n",
    "Opportunity_raw = cur.fetchall()\n",
    "Opportunity_raw= pd.DataFrame(Opportunity_raw)\n",
    "Opportunity_raw.columns= ['ID', 'outcome','status_reason','init_OppType','Opptype','Supppoted', \n",
    "                          'createDate','est_closeDate','act_closeDate', 'est_amt','est_proj','act_amt',\n",
    "                          'act_proj','bd_cluster','bd_div','aud_type','course_type','accountId',\n",
    "                          'cust_contact','lead_aca_contact','lead_faculty','lead_school','lead_dep','supp_1'\n",
    "                          ,'supp_2','ownerid','parent_opp'\n",
    "                         ]\n",
    "Opportunity_raw.loc[Opportunity_raw[\"lead_faculty\"].isnull(),\"lead_faculty\"] = \"Missing Faculty\"\n",
    "Opportunity_raw.loc[Opportunity_raw[\"act_amt\"].isnull(),\"act_amt\"] = Opportunity_raw[\"est_amt\"] \n",
    "Opportunity_raw.loc[Opportunity_raw[\"act_amt\"].isnull(),\"act_amt\"] = 0\n",
    "Opportunity_raw.loc[Opportunity_raw[\"act_proj\"].isnull(),\"act_proj\"] = Opportunity_raw[\"est_proj\"]\n",
    "Opportunity_raw.loc[Opportunity_raw[\"act_proj\"].isnull(),\"act_proj\"] = 0\n",
    "Opportunity_raw.loc[Opportunity_raw[\"act_closeDate\"].isnull(),\"act_closeDate\"] = Opportunity_raw[\"est_closeDate\"]\n",
    "Opportunity_raw['createDate'] = Opportunity_raw['createDate'].str[:10]\n",
    "Opportunity_raw['createDate'] = pd.to_datetime(Opportunity_raw['createDate'])\n",
    "Opportunity_raw['act_closeDate'] = pd.to_datetime(Opportunity_raw['act_closeDate'])\n",
    "Opportunity_raw['closeDate_month'] = Opportunity_raw['act_closeDate'].dt.month\n",
    "Opportunity_raw['createDate_month'] = Opportunity_raw['createDate'].dt.month\n",
    "Opportunity_raw['closeDate_year'] = Opportunity_raw['act_closeDate'].dt.year\n",
    "Opportunity_raw['createDate_year'] = Opportunity_raw['createDate'].dt.year\n",
    "Opportunity_raw['days_diff']=(Opportunity_raw['act_closeDate']-Opportunity_raw['createDate']).dt.days\n",
    "Opportunity_raw[\"f_parent_opp\"]=Opportunity_raw['parent_opp'].notnull().astype(int)\n",
    "Opportunity_raw_after=Opportunity_raw[['outcome','Opptype','Supppoted', \n",
    "                          'days_diff','closeDate_month','createDate_month','closeDate_year','createDate_year','act_amt',\n",
    "                          'act_proj','accountId',\n",
    "                          'lead_faculty','f_parent_opp']]\n"
   ]
  },
  {
   "cell_type": "code",
   "execution_count": 4,
   "metadata": {},
   "outputs": [],
   "source": [
    "merged=Opportunity_raw_after.merge(accounts_all, left_on='accountId', right_on='AccountID',how='left')\n",
    "merged=merged.drop([\"accountId\",\"AccountID\"],axis=1)\n",
    "merged_data=merged[(merged.outcome == 'Closed Lost')|(merged.outcome =='Closed Won')]"
   ]
  },
  {
   "cell_type": "code",
   "execution_count": 5,
   "metadata": {
    "scrolled": true
   },
   "outputs": [],
   "source": [
    "merged_data.to_csv('merged_data.csv',index=False)"
   ]
  },
  {
   "cell_type": "code",
   "execution_count": 6,
   "metadata": {},
   "outputs": [
    {
     "name": "stdout",
     "output_type": "stream",
     "text": [
      "6335\n",
      "5689\n"
     ]
    }
   ],
   "source": [
    "print(len(merged_data))\n",
    "merged_data=merged_data[~merged_data.AccountType.isna()]\n",
    "merged_data=merged_data[~merged_data.BusinessType.isna()]\n",
    "print(len(merged_data))\n",
    "merged_data.to_csv('merged_data_final.csv',index=False)\n",
    "\n",
    "X = merged_data.iloc[:, 1:].values\n",
    "y = merged_data.iloc[:, 0].values\n"
   ]
  },
  {
   "cell_type": "code",
   "execution_count": 7,
   "metadata": {},
   "outputs": [],
   "source": [
    "from sklearn.preprocessing import LabelEncoder\n",
    "\n",
    "labelencoder_X = LabelEncoder()\n",
    "X[:,0] = labelencoder_X.fit_transform(X[:,0])\n",
    "X[:,1] = labelencoder_X.fit_transform(X[:,1])\n",
    "X[:,9] = labelencoder_X.fit_transform(X[:,9])\n",
    "X[:,11] = labelencoder_X.fit_transform(X[:,11])\n",
    "X[:,12] = labelencoder_X.fit_transform(X[:,12])\n",
    "X[:,13] = labelencoder_X.fit_transform(X[:,13])\n",
    "X[:,14] = labelencoder_X.fit_transform(X[:,14])\n",
    "\n",
    "\n",
    "labelencoder_y = LabelEncoder()\n",
    "y = labelencoder_y.fit_transform(y)\n"
   ]
  },
  {
   "cell_type": "code",
   "execution_count": 26,
   "metadata": {},
   "outputs": [
    {
     "name": "stdout",
     "output_type": "stream",
     "text": [
      "Train (4551, 17) (4551,)\n",
      "Test (1138, 17) (1138,)\n"
     ]
    }
   ],
   "source": [
    "from sklearn.model_selection import train_test_split\n",
    "from sklearn.model_selection import cross_val_score\n",
    "from matplotlib import pyplot\n",
    "# split into train and test sets\n",
    "X_train, X_test, y_train, y_test = train_test_split(X, y, test_size=0.2, random_state=1)\n",
    "# summarize\n",
    "print('Train', X_train.shape, y_train.shape)\n",
    "print('Test', X_test.shape, y_test.shape)"
   ]
  },
  {
   "cell_type": "code",
   "execution_count": 13,
   "metadata": {},
   "outputs": [
    {
     "name": "stdout",
     "output_type": "stream",
     "text": [
      "Accuracy of Logistic regression classifier on training set: 0.64\n",
      "Accuracy of Logistic regression classifier on test set: 0.66\n"
     ]
    }
   ],
   "source": [
    "from sklearn.linear_model import LogisticRegression\n",
    "logreg = LogisticRegression()\n",
    "logreg.fit(X_train, y_train)\n",
    "print('Accuracy of Logistic regression classifier on training set: {:.2f}'\n",
    "     .format(logreg.score(X_train, y_train)))\n",
    "print('Accuracy of Logistic regression classifier on test set: {:.2f}'\n",
    "     .format(logreg.score(X_test, y_test)))"
   ]
  },
  {
   "cell_type": "code",
   "execution_count": 14,
   "metadata": {},
   "outputs": [
    {
     "name": "stdout",
     "output_type": "stream",
     "text": [
      "[0.64850615 0.64674868 0.63796134 0.64674868 0.63796134 0.64674868\n",
      " 0.64674868 0.64674868 0.64674868 0.64788732]\n"
     ]
    }
   ],
   "source": [
    "scores = cross_val_score(estimator=logreg, X=X, y=y, cv=10, n_jobs=4)\n",
    "print(scores)"
   ]
  },
  {
   "cell_type": "code",
   "execution_count": 27,
   "metadata": {},
   "outputs": [
    {
     "name": "stdout",
     "output_type": "stream",
     "text": [
      "Feature: 0, Score: -0.00000\n",
      "Feature: 1, Score: -0.00000\n",
      "Feature: 2, Score: -0.00002\n",
      "Feature: 3, Score: -0.00000\n",
      "Feature: 4, Score: -0.00000\n",
      "Feature: 5, Score: -0.00015\n",
      "Feature: 6, Score: -0.00015\n",
      "Feature: 7, Score: -0.00000\n",
      "Feature: 8, Score: 0.00000\n",
      "Feature: 9, Score: -0.00000\n",
      "Feature: 10, Score: -0.00000\n",
      "Feature: 11, Score: -0.00000\n",
      "Feature: 12, Score: -0.00000\n",
      "Feature: 13, Score: -0.00000\n",
      "Feature: 14, Score: -0.00000\n",
      "Feature: 15, Score: -0.00000\n",
      "Feature: 16, Score: -0.00000\n"
     ]
    },
    {
     "data": {
      "image/png": "[encoded data removed]",
      "text/plain": [
       "<matplotlib.figure.Figure at 0x203edc614a8>"
      ]
     },
     "metadata": {},
     "output_type": "display_data"
    }
   ],
   "source": [
    "# get importance\n",
    "importance = logreg.coef_[0]\n",
    "# summarize feature importance\n",
    "for i,v in enumerate(importance):\n",
    "    print('Feature: %0d, Score: %.5f' % (i,v))\n",
    "# plot feature importance\n",
    "pyplot.bar([x for x in range(len(importance))], importance)\n",
    "pyplot.show()"
   ]
  },
  {
   "cell_type": "code",
   "execution_count": 15,
   "metadata": {},
   "outputs": [
    {
     "name": "stdout",
     "output_type": "stream",
     "text": [
      "Accuracy of Decision Tree classifier on training set: 1.00\n",
      "Accuracy of Decision Tree classifier on test set: 0.84\n"
     ]
    }
   ],
   "source": [
    "from sklearn.tree import DecisionTreeClassifier\n",
    "clf = DecisionTreeClassifier()\n",
    "clf.fit(X_train, y_train)\n",
    "print('Accuracy of Decision Tree classifier on training set: {:.2f}'\n",
    "     .format(clf.score(X_train, y_train)))\n",
    "print('Accuracy of Decision Tree classifier on test set: {:.2f}'\n",
    "     .format(clf.score(X_test, y_test)))"
   ]
  },
  {
   "cell_type": "code",
   "execution_count": 16,
   "metadata": {},
   "outputs": [
    {
     "name": "stdout",
     "output_type": "stream",
     "text": [
      "[0.86115993 0.86115993 0.75043937 0.80492091 0.65905097 0.81898067\n",
      " 0.85588752 0.85061511 0.85413005 0.8028169 ]\n"
     ]
    }
   ],
   "source": [
    "scores = cross_val_score(estimator=clf, X=X, y=y, cv=10, n_jobs=4)\n",
    "print(scores)"
   ]
  },
  {
   "cell_type": "code",
   "execution_count": 29,
   "metadata": {},
   "outputs": [
    {
     "name": "stdout",
     "output_type": "stream",
     "text": [
      "Feature: 0, Score: 0.04510\n",
      "Feature: 1, Score: 0.00994\n",
      "Feature: 2, Score: 0.13809\n",
      "Feature: 3, Score: 0.04424\n",
      "Feature: 4, Score: 0.02876\n",
      "Feature: 5, Score: 0.09057\n",
      "Feature: 6, Score: 0.01392\n",
      "Feature: 7, Score: 0.06289\n",
      "Feature: 8, Score: 0.43949\n",
      "Feature: 9, Score: 0.05314\n",
      "Feature: 10, Score: 0.00355\n",
      "Feature: 11, Score: 0.00000\n",
      "Feature: 12, Score: 0.02821\n",
      "Feature: 13, Score: 0.03197\n",
      "Feature: 14, Score: 0.00000\n",
      "Feature: 15, Score: 0.00621\n",
      "Feature: 16, Score: 0.00392\n"
     ]
    },
    {
     "data": {
      "image/png": "[encoded data removed]",
      "text/plain": [
       "<matplotlib.figure.Figure at 0x203ee62c860>"
      ]
     },
     "metadata": {},
     "output_type": "display_data"
    }
   ],
   "source": [
    "# get importance\n",
    "importance = clf.feature_importances_\n",
    "# summarize feature importance\n",
    "for i,v in enumerate(importance):\n",
    "    print('Feature: %0d, Score: %.5f' % (i,v))\n",
    "# plot feature importance\n",
    "pyplot.bar([x for x in range(len(importance))], importance)\n",
    "pyplot.show()"
   ]
  },
  {
   "cell_type": "code",
   "execution_count": 33,
   "metadata": {},
   "outputs": [
    {
     "name": "stdout",
     "output_type": "stream",
     "text": [
      "Accuracy of Random Forest  Classifier on training set: 1.00\n",
      "Accuracy of Random Forest Classifier on test set: 1.00\n",
      "Feature: 0, Score: 0.03675\n",
      "Feature: 1, Score: 0.02733\n",
      "Feature: 2, Score: 0.12828\n",
      "Feature: 3, Score: 0.04463\n",
      "Feature: 4, Score: 0.03954\n",
      "Feature: 5, Score: 0.05469\n",
      "Feature: 6, Score: 0.02859\n",
      "Feature: 7, Score: 0.17012\n",
      "Feature: 8, Score: 0.29383\n",
      "Feature: 9, Score: 0.07396\n",
      "Feature: 10, Score: 0.01476\n",
      "Feature: 11, Score: 0.00026\n",
      "Feature: 12, Score: 0.03416\n",
      "Feature: 13, Score: 0.03690\n",
      "Feature: 14, Score: 0.00051\n",
      "Feature: 15, Score: 0.00836\n",
      "Feature: 16, Score: 0.00732\n"
     ]
    },
    {
     "data": {
      "image/png": "[encoded data removed]",
      "text/plain": [
       "<matplotlib.figure.Figure at 0x203f2818be0>"
      ]
     },
     "metadata": {},
     "output_type": "display_data"
    }
   ],
   "source": [
    "from sklearn.ensemble import RandomForestClassifier\n",
    "model = RandomForestClassifier()\n",
    "# fit the model\n",
    "model.fit(X, y)\n",
    "\n",
    "print('Accuracy of Random Forest  Classifier on training set: {:.2f}'\n",
    "     .format(model.score(X_train, y_train)))\n",
    "print('Accuracy of Random Forest Classifier on test set: {:.2f}'\n",
    "     .format(model.score(X_test, y_test)))\n",
    "# get importance\n",
    "importance = model.feature_importances_\n",
    "# summarize feature importance\n",
    "for i,v in enumerate(importance):\n",
    "    print('Feature: %0d, Score: %.5f' % (i,v))\n",
    "# plot feature importance\n",
    "pyplot.bar([x for x in range(len(importance))], importance)\n",
    "pyplot.show()"
   ]
  },
  {
   "cell_type": "code",
   "execution_count": 17,
   "metadata": {},
   "outputs": [
    {
     "name": "stdout",
     "output_type": "stream",
     "text": [
      "Accuracy of K-NN classifier on training set: 0.87\n",
      "Accuracy of K-NN classifier on test set: 0.85\n"
     ]
    }
   ],
   "source": [
    "from sklearn.neighbors import KNeighborsClassifier\n",
    "knn = KNeighborsClassifier()\n",
    "knn.fit(X_train, y_train)\n",
    "print('Accuracy of K-NN classifier on training set: {:.2f}'\n",
    "     .format(knn.score(X_train, y_train)))\n",
    "print('Accuracy of K-NN classifier on test set: {:.2f}'\n",
    "     .format(knn.score(X_test, y_test)))"
   ]
  },
  {
   "cell_type": "code",
   "execution_count": 36,
   "metadata": {},
   "outputs": [
    {
     "name": "stdout",
     "output_type": "stream",
     "text": [
      "[0.86994728 0.82952548 0.73989455 0.82425308 0.77504394 0.84182777\n",
      " 0.83479789 0.85940246 0.8172232  0.8221831 ]\n"
     ]
    }
   ],
   "source": [
    "scores = cross_val_score(estimator=knn, X=X, y=y, cv=10, n_jobs=4)\n",
    "print(scores)\n"
   ]
  },
  {
   "cell_type": "code",
   "execution_count": 19,
   "metadata": {},
   "outputs": [
    {
     "name": "stdout",
     "output_type": "stream",
     "text": [
      "Accuracy of LDA classifier on training set: 0.69\n",
      "Accuracy of LDA classifier on test set: 0.68\n"
     ]
    }
   ],
   "source": [
    "from sklearn.discriminant_analysis import LinearDiscriminantAnalysis\n",
    "lda = LinearDiscriminantAnalysis()\n",
    "lda.fit(X_train, y_train)\n",
    "print('Accuracy of LDA classifier on training set: {:.2f}'\n",
    "     .format(lda.score(X_train, y_train)))\n",
    "print('Accuracy of LDA classifier on test set: {:.2f}'\n",
    "     .format(lda.score(X_test, y_test)))"
   ]
  },
  {
   "cell_type": "code",
   "execution_count": 38,
   "metadata": {},
   "outputs": [
    {
     "name": "stdout",
     "output_type": "stream",
     "text": [
      "[0.5940246  0.65553603 0.68365554 0.69947276 0.63620387 0.69068541\n",
      " 0.70826011 0.62565905 0.65553603 0.6443662 ]\n"
     ]
    }
   ],
   "source": [
    "scores = cross_val_score(estimator=lda, X=X, y=y, cv=10, n_jobs=4)\n",
    "print(scores)\n"
   ]
  },
  {
   "cell_type": "code",
   "execution_count": 21,
   "metadata": {},
   "outputs": [
    {
     "name": "stdout",
     "output_type": "stream",
     "text": [
      "Accuracy of GNB classifier on training set: 0.64\n",
      "Accuracy of GNB classifier on test set: 0.66\n"
     ]
    }
   ],
   "source": [
    "from sklearn.naive_bayes import GaussianNB\n",
    "gnb = GaussianNB()\n",
    "gnb.fit(X_train, y_train)\n",
    "print('Accuracy of GNB classifier on training set: {:.2f}'\n",
    "     .format(gnb.score(X_train, y_train)))\n",
    "print('Accuracy of GNB classifier on test set: {:.2f}'\n",
    "     .format(gnb.score(X_test, y_test)))"
   ]
  },
  {
   "cell_type": "code",
   "execution_count": 40,
   "metadata": {},
   "outputs": [
    {
     "name": "stdout",
     "output_type": "stream",
     "text": [
      "[0.543058   0.63620387 0.61511424 0.56414763 0.68189807 0.76449912\n",
      " 0.4340949  0.5026362  0.47275923 0.52640845]\n"
     ]
    }
   ],
   "source": [
    "scores = cross_val_score(estimator=gnb, X=X, y=y, cv=10, n_jobs=4)\n",
    "print(scores)"
   ]
  },
  {
   "cell_type": "code",
   "execution_count": 23,
   "metadata": {},
   "outputs": [
    {
     "name": "stdout",
     "output_type": "stream",
     "text": [
      "Accuracy of SVM classifier on training set: 0.65\n",
      "Accuracy of SVM classifier on test set: 0.64\n"
     ]
    }
   ],
   "source": [
    "from sklearn.svm import SVC\n",
    "svm = SVC()\n",
    "svm.fit(X_train, y_train)\n",
    "print('Accuracy of SVM classifier on training set: {:.2f}'\n",
    "     .format(svm.score(X_train, y_train)))\n",
    "print('Accuracy of SVM classifier on test set: {:.2f}'\n",
    "     .format(svm.score(X_test, y_test)))"
   ]
  },
  {
   "cell_type": "code",
   "execution_count": 42,
   "metadata": {},
   "outputs": [
    {
     "name": "stdout",
     "output_type": "stream",
     "text": [
      "[0.66256591 0.6344464  0.5659051  0.64323374 0.66080844 0.61862917\n",
      " 0.66256591 0.64850615 0.67135325 0.64964789]\n"
     ]
    }
   ],
   "source": [
    "scores = cross_val_score(estimator=svm, X=X, y=y, cv=10, n_jobs=4)\n",
    "print(scores)\n"
   ]
  },
  {
   "cell_type": "code",
   "execution_count": null,
   "metadata": {},
   "outputs": [],
   "source": []
  }
 ],
 "metadata": {
  "kernelspec": {
   "display_name": "Python 3",
   "language": "python",
   "name": "python3"
  },
  "language_info": {
   "codemirror_mode": {
    "name": "ipython",
    "version": 3
   },
   "file_extension": ".py",
   "mimetype": "text/x-python",
   "name": "python",
   "nbconvert_exporter": "python",
   "pygments_lexer": "ipython3",
   "version": "3.6.4"
  }
 },
 "nbformat": 4,
 "nbformat_minor": 4
}
