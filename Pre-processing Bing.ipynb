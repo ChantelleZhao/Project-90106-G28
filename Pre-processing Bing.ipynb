{
 "cells": [
  {
   "cell_type": "markdown",
   "metadata": {},
   "source": [
    "### Step 1: Reading and Understanding the Data"
   ]
  },
  {
   "cell_type": "code",
   "execution_count": 88,
   "metadata": {},
   "outputs": [],
   "source": [
    "# Importing all required packages\n",
    "import numpy as np\n",
    "import pandas as pd\n",
    "import matplotlib.pyplot as plt\n",
    "import seaborn as sns\n",
    "import csv\n",
    "import sqlite3\n",
    "conn = sqlite3.connect('research.db')\n"
   ]
  },
  {
   "cell_type": "markdown",
   "metadata": {},
   "source": [
    "###  Fetch all accounts"
   ]
  },
  {
   "cell_type": "code",
   "execution_count": 52,
   "metadata": {},
   "outputs": [],
   "source": [
    "cur = conn.cursor()\n",
    "cur.execute(\"select \\\"Id\\\", \\\"RecordType.Name\\\",\\\"Industry\\\",\\\"Business_Type__c\\\",\\\"Country__c\\\",\\\"Is_External__c\\\",\\\"ParentId\\\"from \\\"Account\\\" union \\\n",
    "select \\\"Id\\\", \\\"RecordType.Name\\\",\\\"Education\\\" as \\\"Industry\\\",\\\"Not for profit\\\" as \\\"Business_Type__c\\\",\\\"Australia\\\" as \\\"Country__c\\\", \\\n",
    "\\\"Is_External__c\\\",\\\"ParentId\\\" from \\\"Account_internal\\\"\")\n",
    "accounts_all = cur.fetchall()\n",
    "accounts_all= pd.DataFrame(accounts_all)\n",
    "accounts_all.columns= ['AccountID', 'AccountType','Industry','BusinessType','Country','Internal_External','ParentAccount']\n",
    "accounts_all.loc[accounts_all['AccountType'] == 'University Department', 'Industry'] = 'Education'  \n",
    "accounts_all.loc[accounts_all['AccountType'] == 'University Department', 'BusinessType'] = 'Not for profit'  \n",
    "accounts_all.loc[accounts_all['AccountType'] == 'University Department', 'Country'] = 'Australia' \n",
    "accounts_all[\"f_parent\"]=accounts_all['ParentAccount'].notnull().astype(int)\n",
    "accounts_all=accounts_all.drop([\"ParentAccount\"],axis=1)"
   ]
  },
  {
   "cell_type": "code",
   "execution_count": 124,
   "metadata": {
    "scrolled": true
   },
   "outputs": [],
   "source": [
    "cur.execute(\"select * from \\\"Opportunities\\\"\")\n",
    "Opportunity_raw = cur.fetchall()\n",
    "Opportunity_raw= pd.DataFrame(Opportunity_raw)\n",
    "Opportunity_raw.columns= ['ID', 'outcome','status_reason','init_OppType','Opptype','Supppoted', \n",
    "                          'createDate','est_closeDate','act_closeDate', 'est_amt','est_proj','act_amt',\n",
    "                          'act_proj','bd_cluster','bd_div','aud_type','course_type','accountId',\n",
    "                          'cust_contact','lead_aca_contact','lead_faculty','lead_school','lead_dep','supp_1'\n",
    "                          ,'supp_2','ownerid','parent_opp'\n",
    "                         ]\n",
    "Opportunity_raw.loc[Opportunity_raw[\"lead_faculty\"].isnull(),\"lead_faculty\"] = \"Missing Faculty\"\n",
    "Opportunity_raw.loc[Opportunity_raw[\"act_amt\"].isnull(),\"act_amt\"] = Opportunity_raw[\"est_amt\"] \n",
    "Opportunity_raw.loc[Opportunity_raw[\"act_amt\"].isnull(),\"act_amt\"] = 0\n",
    "Opportunity_raw.loc[Opportunity_raw[\"act_proj\"].isnull(),\"act_proj\"] = Opportunity_raw[\"est_proj\"]\n",
    "Opportunity_raw.loc[Opportunity_raw[\"act_proj\"].isnull(),\"act_proj\"] = 0\n",
    "Opportunity_raw.loc[Opportunity_raw[\"act_closeDate\"].isnull(),\"act_closeDate\"] = Opportunity_raw[\"est_closeDate\"]\n",
    "Opportunity_raw['createDate'] = Opportunity_raw['createDate'].str[:10]\n",
    "Opportunity_raw['createDate'] = pd.to_datetime(Opportunity_raw['createDate'])\n",
    "Opportunity_raw['act_closeDate'] = pd.to_datetime(Opportunity_raw['act_closeDate'])\n",
    "Opportunity_raw['closeDate_month'] = Opportunity_raw['act_closeDate'].dt.month\n",
    "Opportunity_raw['createDate_month'] = Opportunity_raw['createDate'].dt.month\n",
    "Opportunity_raw['closeDate_year'] = Opportunity_raw['act_closeDate'].dt.year\n",
    "Opportunity_raw['createDate_year'] = Opportunity_raw['createDate'].dt.year\n",
    "Opportunity_raw['days_diff']=(Opportunity_raw['act_closeDate']-Opportunity_raw['createDate']).dt.days\n",
    "Opportunity_raw[\"f_parent_opp\"]=Opportunity_raw['parent_opp'].notnull().astype(int)\n",
    "Opportunity_raw_after=Opportunity_raw[['outcome','Opptype','Supppoted', \n",
    "                          'days_diff','closeDate_month','createDate_month','closeDate_year','createDate_year','act_amt',\n",
    "                          'act_proj','accountId',\n",
    "                          'lead_faculty','f_parent_opp']]\n"
   ]
  },
  {
   "cell_type": "code",
   "execution_count": 134,
   "metadata": {},
   "outputs": [],
   "source": [
    "merged=Opportunity_raw_after.merge(accounts_all, left_on='accountId', right_on='AccountID',how='left')\n",
    "merged=merged.drop([\"accountId\",\"AccountID\"],axis=1)\n",
    "merged_data=merged[(merged.outcome == 'Closed Lost')|(merged.outcome =='Closed Won')]"
   ]
  },
  {
   "cell_type": "code",
   "execution_count": 136,
   "metadata": {
    "scrolled": true
   },
   "outputs": [],
   "source": [
    "merged_data.to_csv('merged_data.csv',index=False)"
   ]
  },
  {
   "cell_type": "code",
   "execution_count": 144,
   "metadata": {},
   "outputs": [
    {
     "name": "stdout",
     "output_type": "stream",
     "text": [
      "5689\n",
      "5689\n"
     ]
    }
   ],
   "source": [
    "print(len(merged_data))\n",
    "merged_data=merged_data[~merged_data.AccountType.isna()]\n",
    "merged_data=merged_data[~merged_data.BusinessType.isna()]\n",
    "print(len(merged_data))\n",
    "merged_data.to_csv('merged_data_final.csv',index=False)\n",
    "\n",
    "X = merged_data.iloc[:, 1:].values\n",
    "y = merged_data.iloc[:, 0].values\n"
   ]
  },
  {
   "cell_type": "code",
   "execution_count": 145,
   "metadata": {},
   "outputs": [],
   "source": [
    "from sklearn.preprocessing import LabelEncoder\n",
    "\n",
    "labelencoder_X = LabelEncoder()\n",
    "X[:,0] = labelencoder_X.fit_transform(X[:,0])\n",
    "X[:,1] = labelencoder_X.fit_transform(X[:,1])\n",
    "X[:,9] = labelencoder_X.fit_transform(X[:,9])\n",
    "X[:,11] = labelencoder_X.fit_transform(X[:,11])\n",
    "X[:,12] = labelencoder_X.fit_transform(X[:,12])\n",
    "X[:,13] = labelencoder_X.fit_transform(X[:,13])\n",
    "X[:,14] = labelencoder_X.fit_transform(X[:,14])\n",
    "X[:,15] = labelencoder_X.fit_transform(X[:,15])\n",
    "\n",
    "labelencoder_y = LabelEncoder()\n",
    "y = labelencoder_y.fit_transform(y)\n"
   ]
  },
  {
   "cell_type": "code",
   "execution_count": 157,
   "metadata": {},
   "outputs": [
    {
     "name": "stdout",
     "output_type": "stream",
     "text": [
      "Train (4551, 17) (4551,)\n",
      "Test (1138, 17) (1138,)\n"
     ]
    }
   ],
   "source": [
    "from sklearn.model_selection import train_test_split\n",
    "# split into train and test sets\n",
    "X_train, X_test, y_train, y_test = train_test_split(X, y, test_size=0.2, random_state=1)\n",
    "# summarize\n",
    "print('Train', X_train.shape, y_train.shape)\n",
    "print('Test', X_test.shape, y_test.shape)"
   ]
  },
  {
   "cell_type": "code",
   "execution_count": 158,
   "metadata": {},
   "outputs": [
    {
     "name": "stdout",
     "output_type": "stream",
     "text": [
      "Accuracy of Logistic regression classifier on training set: 0.65\n",
      "Accuracy of Logistic regression classifier on test set: 0.66\n"
     ]
    }
   ],
   "source": [
    "from sklearn.linear_model import LogisticRegression\n",
    "logreg = LogisticRegression()\n",
    "logreg.fit(X_train, y_train)\n",
    "print('Accuracy of Logistic regression classifier on training set: {:.2f}'\n",
    "     .format(logreg.score(X_train, y_train)))\n",
    "print('Accuracy of Logistic regression classifier on test set: {:.2f}'\n",
    "     .format(logreg.score(X_test, y_test)))"
   ]
  },
  {
   "cell_type": "code",
   "execution_count": 159,
   "metadata": {},
   "outputs": [
    {
     "name": "stdout",
     "output_type": "stream",
     "text": [
      "Accuracy of Decision Tree classifier on training set: 1.00\n",
      "Accuracy of Decision Tree classifier on test set: 0.85\n"
     ]
    }
   ],
   "source": [
    "from sklearn.tree import DecisionTreeClassifier\n",
    "clf = DecisionTreeClassifier().fit(X_train, y_train)\n",
    "print('Accuracy of Decision Tree classifier on training set: {:.2f}'\n",
    "     .format(clf.score(X_train, y_train)))\n",
    "print('Accuracy of Decision Tree classifier on test set: {:.2f}'\n",
    "     .format(clf.score(X_test, y_test)))"
   ]
  },
  {
   "cell_type": "code",
   "execution_count": 160,
   "metadata": {},
   "outputs": [
    {
     "name": "stdout",
     "output_type": "stream",
     "text": [
      "Accuracy of K-NN classifier on training set: 0.87\n",
      "Accuracy of K-NN classifier on test set: 0.85\n"
     ]
    }
   ],
   "source": [
    "from sklearn.neighbors import KNeighborsClassifier\n",
    "knn = KNeighborsClassifier()\n",
    "knn.fit(X_train, y_train)\n",
    "print('Accuracy of K-NN classifier on training set: {:.2f}'\n",
    "     .format(knn.score(X_train, y_train)))\n",
    "print('Accuracy of K-NN classifier on test set: {:.2f}'\n",
    "     .format(knn.score(X_test, y_test)))"
   ]
  },
  {
   "cell_type": "code",
   "execution_count": 161,
   "metadata": {},
   "outputs": [
    {
     "name": "stdout",
     "output_type": "stream",
     "text": [
      "Accuracy of LDA classifier on training set: 0.68\n",
      "Accuracy of LDA classifier on test set: 0.69\n"
     ]
    }
   ],
   "source": [
    "from sklearn.discriminant_analysis import LinearDiscriminantAnalysis\n",
    "lda = LinearDiscriminantAnalysis()\n",
    "lda.fit(X_train, y_train)\n",
    "print('Accuracy of LDA classifier on training set: {:.2f}'\n",
    "     .format(lda.score(X_train, y_train)))\n",
    "print('Accuracy of LDA classifier on test set: {:.2f}'\n",
    "     .format(lda.score(X_test, y_test)))"
   ]
  },
  {
   "cell_type": "code",
   "execution_count": 162,
   "metadata": {},
   "outputs": [
    {
     "name": "stdout",
     "output_type": "stream",
     "text": [
      "Accuracy of GNB classifier on training set: 0.64\n",
      "Accuracy of GNB classifier on test set: 0.66\n"
     ]
    }
   ],
   "source": [
    "from sklearn.naive_bayes import GaussianNB\n",
    "gnb = GaussianNB()\n",
    "gnb.fit(X_train, y_train)\n",
    "print('Accuracy of GNB classifier on training set: {:.2f}'\n",
    "     .format(gnb.score(X_train, y_train)))\n",
    "print('Accuracy of GNB classifier on test set: {:.2f}'\n",
    "     .format(gnb.score(X_test, y_test)))"
   ]
  },
  {
   "cell_type": "code",
   "execution_count": 163,
   "metadata": {},
   "outputs": [
    {
     "name": "stdout",
     "output_type": "stream",
     "text": [
      "Accuracy of SVM classifier on training set: 1.00\n",
      "Accuracy of SVM classifier on test set: 0.68\n"
     ]
    }
   ],
   "source": [
    "from sklearn.svm import SVC\n",
    "svm = SVC()\n",
    "svm.fit(X_train, y_train)\n",
    "print('Accuracy of SVM classifier on training set: {:.2f}'\n",
    "     .format(svm.score(X_train, y_train)))\n",
    "print('Accuracy of SVM classifier on test set: {:.2f}'\n",
    "     .format(svm.score(X_test, y_test)))"
   ]
  },
  {
   "cell_type": "code",
   "execution_count": 164,
   "metadata": {},
   "outputs": [
    {
     "data": {
      "text/plain": [
       "([<matplotlib.axis.XTick at 0x1cdb4932e10>,\n",
       "  <matplotlib.axis.XTick at 0x1cdb4932b38>,\n",
       "  <matplotlib.axis.XTick at 0x1cdb4361278>,\n",
       "  <matplotlib.axis.XTick at 0x1cdb4967048>,\n",
       "  <matplotlib.axis.XTick at 0x1cdb49676a0>],\n",
       " <a list of 5 Text xticklabel objects>)"
      ]
     },
     "execution_count": 164,
     "metadata": {},
     "output_type": "execute_result"
    },
    {
     "data": {
      "image/png": "[encoded data removed]",
      "text/plain": [
       "<matplotlib.figure.Figure at 0x1cdb40aa240>"
      ]
     },
     "metadata": {},
     "output_type": "display_data"
    }
   ],
   "source": [
    "k_range = range(1, 20)\n",
    "scores = []\n",
    "for k in k_range:\n",
    "    knn = KNeighborsClassifier(n_neighbors = k)\n",
    "    knn.fit(X_train, y_train)\n",
    "    scores.append(knn.score(X_test, y_test))\n",
    "plt.figure()\n",
    "plt.xlabel('k')\n",
    "plt.ylabel('accuracy')\n",
    "plt.scatter(k_range, scores)\n",
    "plt.xticks([0,5,10,15,20])"
   ]
  },
  {
   "cell_type": "code",
   "execution_count": null,
   "metadata": {},
   "outputs": [],
   "source": []
  }
 ],
 "metadata": {
  "kernelspec": {
   "display_name": "Python 3",
   "language": "python",
   "name": "python3"
  },
  "language_info": {
   "codemirror_mode": {
    "name": "ipython",
    "version": 3
   },
   "file_extension": ".py",
   "mimetype": "text/x-python",
   "name": "python",
   "nbconvert_exporter": "python",
   "pygments_lexer": "ipython3",
   "version": "3.6.4"
  }
 },
 "nbformat": 4,
 "nbformat_minor": 4
}
