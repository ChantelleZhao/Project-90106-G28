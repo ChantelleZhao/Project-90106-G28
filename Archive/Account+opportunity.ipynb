{
 "cells": [
  {
   "cell_type": "code",
   "execution_count": 119,
   "metadata": {},
   "outputs": [],
   "source": [
    "import pandas as pd\n",
    "import csv\n",
    "import numpy as np"
   ]
  },
  {
   "cell_type": "code",
   "execution_count": 120,
   "metadata": {
    "scrolled": true
   },
   "outputs": [],
   "source": [
    "inAcct = pd.read_csv ('internalAccount_copy.csv')\n",
    "#print (inAcct)\n",
    "inAcct_list = internalAcct.values\n",
    "#print (inAcct_list)"
   ]
  },
  {
   "cell_type": "markdown",
   "metadata": {},
   "source": [
    "internal account: 849 rows x 6 columns"
   ]
  },
  {
   "cell_type": "code",
   "execution_count": 121,
   "metadata": {
    "scrolled": false
   },
   "outputs": [
    {
     "name": "stdout",
     "output_type": "stream",
     "text": [
      "[['0062e000002IQHBAA4' 'Proposing' 'On Track' ... nan\n",
      "  '0052e000000VJI7AAO' nan]\n",
      " ['0062e000002HGAxAAO' 'Closed Lost' 'Customer No Longer Interested' ...\n",
      "  nan '0052e000000VJIFAA4' nan]\n",
      " ['0062e000002HGAyAAO' 'Closed Lost' 'Customer No Longer Interested' ...\n",
      "  nan '0052e000000VJIFAA4' nan]\n",
      " ...\n",
      " ['0062e000002ZcnOAAS' 'Application' 'On Track' ... nan\n",
      "  '0052e000000XHlzAAG' nan]\n",
      " ['0062e000002ZRkNAAW' 'Identifying' 'On Track' ... nan\n",
      "  '0052e000000VJI7AAO' nan]\n",
      " ['0062e000002Zd1gAAC' 'Identifying' 'On Track' ... nan\n",
      "  '0052e000000VJCIAA4' nan]]\n"
     ]
    }
   ],
   "source": [
    "opportunity = pd.read_csv ('Opportunities_ copy.csv')\n",
    "#print(opportunity)\n",
    "opp_list = opportunity.values\n",
    "print(opp_list)\n"
   ]
  },
  {
   "cell_type": "markdown",
   "metadata": {},
   "source": [
    "# internal account"
   ]
  },
  {
   "cell_type": "markdown",
   "metadata": {},
   "source": [
    "opportunity: [7597 rows x 27 columns]\n",
    "\n",
    "internal account: [849 rows x 6 columns]\n",
    "\n",
    "only 44 opportunities from internal account"
   ]
  },
  {
   "cell_type": "code",
   "execution_count": 122,
   "metadata": {
    "scrolled": false
   },
   "outputs": [
    {
     "name": "stdout",
     "output_type": "stream",
     "text": [
      "<class 'numpy.ndarray'>\n",
      "44\n"
     ]
    }
   ],
   "source": [
    "opp_InAcct = []\n",
    "for opp in opp_list: \n",
    "    \n",
    "    for acct in inAcct_list:\n",
    "        \n",
    "        if opp[17] == acct[0]:\n",
    "\n",
    "            row = np.append(opp, acct)\n",
    "            opp_InAcct.append(row)\n",
    "            \n",
    "print(type(opp_InAcct[0]))\n",
    "print(len(opp_InAcct))\n",
    "\n",
    "            "
   ]
  },
  {
   "cell_type": "markdown",
   "metadata": {},
   "source": []
  },
  {
   "cell_type": "code",
   "execution_count": 123,
   "metadata": {},
   "outputs": [
    {
     "name": "stdout",
     "output_type": "stream",
     "text": [
      "44\n",
      "<class 'list'>\n"
     ]
    }
   ],
   "source": [
    "opp_InAcct_list=[]\n",
    "for ary in opp_InAcct:\n",
    "    ary = ary.tolist()\n",
    "    opp_InAcct_list.append(ary)\n",
    "    \n",
    "print(len(opp_InAcct_list))\n",
    "print(type(opp_InAcct_list[0]))"
   ]
  },
  {
   "cell_type": "code",
   "execution_count": 129,
   "metadata": {},
   "outputs": [],
   "source": [
    "\n",
    "fieldnames = ['Id','StageName','Status_Reason__c','RecordType.Name','Final_Record_Type__c','RICE_Supported__c',\n",
    "              'CreatedDate','CloseDate','Actual_Close_Date__c','Amount','Estimated_Project_Total_Value__c',\n",
    "              'Booked_Revenue__c','Actual_Project_Total_Value__c','BD_Cluster__c','BD_Division__c',\n",
    "              'CE_Course_Audience_Type__c','CE_Course_Type__c','AccountId','Customer_Contact__c',\n",
    "              'Lead_Academic_contact__c','Lead_Faculty__c','Lead_School__c','Lead_Department__c',\n",
    "              'Supporting_Faculty_1__c','Supporting_Faculty_2__c','OwnerId','Parent_Opportunity__c','Id', \n",
    "              'RecordType.Name','Industry','Is_External__c','ParentId','UoM_Organisation_Level__c']\n",
    "#print(len(fieldnames))\n",
    "\n",
    "df = pd.DataFrame(opp_InAcct_list)\n",
    "\n",
    "df.to_csv('opp_InAcct.csv', index=False, header=fieldnames)\n"
   ]
  },
  {
   "cell_type": "code",
   "execution_count": null,
   "metadata": {},
   "outputs": [],
   "source": [
    "#"
   ]
  }
 ],
 "metadata": {
  "kernelspec": {
   "display_name": "Python 3",
   "language": "python",
   "name": "python3"
  },
  "language_info": {
   "codemirror_mode": {
    "name": "ipython",
    "version": 3
   },
   "file_extension": ".py",
   "mimetype": "text/x-python",
   "name": "python",
   "nbconvert_exporter": "python",
   "pygments_lexer": "ipython3",
   "version": "3.8.3"
  }
 },
 "nbformat": 4,
 "nbformat_minor": 4
}
