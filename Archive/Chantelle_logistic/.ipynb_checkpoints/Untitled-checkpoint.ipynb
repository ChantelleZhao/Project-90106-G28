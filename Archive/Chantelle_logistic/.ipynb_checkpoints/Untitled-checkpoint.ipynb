{
 "cells": [
  {
   "cell_type": "code",
   "execution_count": 106,
   "metadata": {},
   "outputs": [],
   "source": [
    "import datetime     # timing the program\n",
    "import csv\n",
    "import pandas as pd\n",
    "import numpy as np\n",
    "import scipy as sp\n",
    "from sklearn.linear_model import LogisticRegression\n",
    "from sklearn.model_selection import train_test_split, cross_val_score\n",
    "from sklearn import preprocessing, linear_model\n",
    "import matplotlib.pyplot as plt\n",
    "plt.rc(\"font\", size=14)\n",
    "from sklearn.metrics import precision_score\n",
    "from sklearn.metrics import recall_score\n",
    "from sklearn.feature_selection import SelectFromModel, RFE, SelectFpr"
   ]
  },
  {
   "cell_type": "code",
   "execution_count": 45,
   "metadata": {},
   "outputs": [],
   "source": [
    "with open(\"/Users/ChantelleChiu/Documents/GitHub/Project-90106-G28/Chantelle/cleaned_15_Sep.csv\") as file:\n",
    "    raw_data = pd.read_csv(file, header=0)\n",
    "    le = preprocessing.LabelEncoder()\n",
    "    data = raw_data.apply(le.fit_transform)\n",
    "    file.close()"
   ]
  },
  {
   "cell_type": "code",
   "execution_count": null,
   "metadata": {},
   "outputs": [],
   "source": []
  },
  {
   "cell_type": "code",
   "execution_count": 46,
   "metadata": {},
   "outputs": [],
   "source": [
    "X_train = data.iloc[:,1:17]\n",
    "Y_train = data.iloc[:,0]"
   ]
  },
  {
   "cell_type": "code",
   "execution_count": 47,
   "metadata": {},
   "outputs": [
    {
     "name": "stdout",
     "output_type": "stream",
     "text": [
      "(5408, 16) (5408,)\n",
      "0       0\n",
      "1       1\n",
      "2       1\n",
      "3       1\n",
      "4       1\n",
      "       ..\n",
      "5403    1\n",
      "5404    0\n",
      "5405    1\n",
      "5406    1\n",
      "5407    1\n",
      "Name: StageName, Length: 5408, dtype: int64\n"
     ]
    }
   ],
   "source": [
    "print(X_train.shape,Y_train.shape)\n",
    "print(Y_train)"
   ]
  },
  {
   "cell_type": "code",
   "execution_count": 50,
   "metadata": {},
   "outputs": [],
   "source": [
    "lm = LogisticRegression(random_state=0, multi_class='ovr', solver='liblinear', penalty='l2', dual=False, \n",
    "                       tol=1e-4, fit_intercept=True, intercept_scaling=1, class_weight=None)"
   ]
  },
  {
   "cell_type": "code",
   "execution_count": 51,
   "metadata": {},
   "outputs": [
    {
     "data": {
      "text/plain": [
       "LogisticRegression(multi_class='ovr', random_state=0, solver='liblinear')"
      ]
     },
     "execution_count": 51,
     "metadata": {},
     "output_type": "execute_result"
    }
   ],
   "source": [
    "lm.fit(X_train, Y_train)"
   ]
  },
  {
   "cell_type": "code",
   "execution_count": 52,
   "metadata": {},
   "outputs": [
    {
     "name": "stdout",
     "output_type": "stream",
     "text": [
      "Running time: 0:00:00.454509 Seconds\n"
     ]
    }
   ],
   "source": [
    "# cross validation\n",
    "cv_result = cross_val_score(lm, X_train, Y_train, cv=10)"
   ]
  },
  {
   "cell_type": "code",
   "execution_count": null,
   "metadata": {},
   "outputs": [],
   "source": []
  },
  {
   "cell_type": "code",
   "execution_count": null,
   "metadata": {},
   "outputs": [],
   "source": []
  },
  {
   "cell_type": "code",
   "execution_count": null,
   "metadata": {},
   "outputs": [],
   "source": []
  },
  {
   "cell_type": "code",
   "execution_count": 70,
   "metadata": {},
   "outputs": [
    {
     "name": "stdout",
     "output_type": "stream",
     "text": [
      "mean accuracy of cv=10 on lm: 0.6610\n"
     ]
    }
   ],
   "source": [
    "# Accuracy\n",
    "\n",
    "accuracy = cross_val_score(lm, X_train, Y_train, cv=10, scoring='accuracy')\n",
    "print(\"mean accuracy of cv=10 on lm: %.4f\" % accuracy.mean())"
   ]
  },
  {
   "cell_type": "code",
   "execution_count": 71,
   "metadata": {},
   "outputs": [
    {
     "name": "stdout",
     "output_type": "stream",
     "text": [
      "mean precision of cv=10 on lm: 0.5848\n"
     ]
    }
   ],
   "source": [
    "# Precision\n",
    "\n",
    "precision = cross_val_score(lm, X_train, Y_train, cv=10, scoring='precision')\n",
    "print(\"mean precision of cv=10 on lm: %.4f\" % precision.mean())"
   ]
  },
  {
   "cell_type": "code",
   "execution_count": 72,
   "metadata": {},
   "outputs": [
    {
     "name": "stdout",
     "output_type": "stream",
     "text": [
      "mean recall of cv=10 on lm: 0.3666\n"
     ]
    }
   ],
   "source": [
    "# Recall\n",
    "\n",
    "recall = cross_val_score(lm, X_train, Y_train, cv=10, scoring='recall')\n",
    "print(\"mean recall of cv=10 on lm: %.4f\" % recall.mean())"
   ]
  },
  {
   "cell_type": "code",
   "execution_count": null,
   "metadata": {},
   "outputs": [],
   "source": []
  },
  {
   "cell_type": "code",
   "execution_count": null,
   "metadata": {},
   "outputs": [],
   "source": []
  },
  {
   "cell_type": "code",
   "execution_count": null,
   "metadata": {},
   "outputs": [],
   "source": []
  },
  {
   "cell_type": "code",
   "execution_count": 75,
   "metadata": {},
   "outputs": [
    {
     "data": {
      "text/plain": [
       "RFE(estimator=LogisticRegression(multi_class='ovr', random_state=0,\n",
       "                                 solver='liblinear'),\n",
       "    n_features_to_select=5)"
      ]
     },
     "execution_count": 75,
     "metadata": {},
     "output_type": "execute_result"
    }
   ],
   "source": [
    "predictors = X_train\n",
    "selector = RFE(lm, n_features_to_select=5, step=1)\n",
    "selector.fit(X_train, Y_train)"
   ]
  },
  {
   "cell_type": "code",
   "execution_count": 82,
   "metadata": {},
   "outputs": [
    {
     "name": "stdout",
     "output_type": "stream",
     "text": [
      "[False False  True False False False False False False  True False  True\n",
      " False  True False  True]\n"
     ]
    }
   ],
   "source": [
    "support = selector.support_\n",
    "print(support)"
   ]
  },
  {
   "cell_type": "code",
   "execution_count": 101,
   "metadata": {},
   "outputs": [
    {
     "data": {
      "text/plain": [
       "array([ 2,  9, 11, 13, 15])"
      ]
     },
     "execution_count": 101,
     "metadata": {},
     "output_type": "execute_result"
    }
   ],
   "source": [
    "selector.get_support(indices=True)"
   ]
  },
  {
   "cell_type": "code",
   "execution_count": null,
   "metadata": {},
   "outputs": [],
   "source": []
  },
  {
   "cell_type": "code",
   "execution_count": 81,
   "metadata": {},
   "outputs": [
    {
     "name": "stdout",
     "output_type": "stream",
     "text": [
      "[ 9 11  1  5 12  2  7  8  6  1  3  1  4  1 10  1]\n"
     ]
    }
   ],
   "source": [
    "order = selector.ranking_\n",
    "print(order)"
   ]
  },
  {
   "cell_type": "code",
   "execution_count": 96,
   "metadata": {},
   "outputs": [
    {
     "data": {
      "text/plain": [
       "['9:   StageName:   False',\n",
       " '11:   RecordType.Name:   False',\n",
       " '1:   RICE_Supported__c:   True',\n",
       " '5:   Actual_Close_Date__c:   False',\n",
       " '12:   Lead_Faculty__c:   False',\n",
       " '2:   Lead_School__c:   False',\n",
       " '7:   Parent_Opportunity__c:   False',\n",
       " '8:   Industry:   False',\n",
       " '6:   Industry_Sub_Type__c:   False',\n",
       " '1:   Business_Type__c:   True',\n",
       " '3:   Is_External(1)__c:   False',\n",
       " '1:   ParentId:   True',\n",
       " '4:   CloseYear:   False',\n",
       " '1:   CloseMonth:   True',\n",
       " '10:   CreatedYear:   False',\n",
       " '1:   CreatedMonth:   True']"
      ]
     },
     "execution_count": 96,
     "metadata": {},
     "output_type": "execute_result"
    }
   ],
   "source": [
    "features_rank = []\n",
    "for i in range(len(order)):\n",
    "    features_rank.append(f\"{order[i]}:   {data.columns[i]}:   {support[i]}\")\n",
    "    \n",
    "features_rank"
   ]
  },
  {
   "cell_type": "code",
   "execution_count": null,
   "metadata": {},
   "outputs": [],
   "source": []
  },
  {
   "cell_type": "code",
   "execution_count": 97,
   "metadata": {},
   "outputs": [
    {
     "data": {
      "text/plain": [
       "['10:   CreatedYear:   False',\n",
       " '11:   RecordType.Name:   False',\n",
       " '12:   Lead_Faculty__c:   False',\n",
       " '1:   Business_Type__c:   True',\n",
       " '1:   CloseMonth:   True',\n",
       " '1:   CreatedMonth:   True',\n",
       " '1:   ParentId:   True',\n",
       " '1:   RICE_Supported__c:   True',\n",
       " '2:   Lead_School__c:   False',\n",
       " '3:   Is_External(1)__c:   False',\n",
       " '4:   CloseYear:   False',\n",
       " '5:   Actual_Close_Date__c:   False',\n",
       " '6:   Industry_Sub_Type__c:   False',\n",
       " '7:   Parent_Opportunity__c:   False',\n",
       " '8:   Industry:   False',\n",
       " '9:   StageName:   False']"
      ]
     },
     "execution_count": 97,
     "metadata": {},
     "output_type": "execute_result"
    }
   ],
   "source": [
    "features_rank.sort()\n",
    "features_rank"
   ]
  },
  {
   "cell_type": "code",
   "execution_count": null,
   "metadata": {},
   "outputs": [],
   "source": []
  },
  {
   "cell_type": "code",
   "execution_count": 109,
   "metadata": {},
   "outputs": [
    {
     "name": "stdout",
     "output_type": "stream",
     "text": [
      "[[ 0.02085598 -0.00935733  0.95408494 -0.10951064  0.0033624  -0.57962174\n",
      "   0.04970534 -0.03919561 -0.03939539  0.43926092 -0.1813999  -1.80938791\n",
      "  -0.15238714  1.54130299 -0.01741305  1.52477968]]\n"
     ]
    }
   ],
   "source": [
    "print(lm.coef_)"
   ]
  },
  {
   "cell_type": "code",
   "execution_count": null,
   "metadata": {},
   "outputs": [],
   "source": []
  }
 ],
 "metadata": {
  "kernelspec": {
   "display_name": "Python 3",
   "language": "python",
   "name": "python3"
  },
  "language_info": {
   "codemirror_mode": {
    "name": "ipython",
    "version": 3
   },
   "file_extension": ".py",
   "mimetype": "text/x-python",
   "name": "python",
   "nbconvert_exporter": "python",
   "pygments_lexer": "ipython3",
   "version": "3.8.3"
  }
 },
 "nbformat": 4,
 "nbformat_minor": 4
}
