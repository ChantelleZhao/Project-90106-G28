{
 "cells": [
  {
   "cell_type": "code",
   "execution_count": 4,
   "metadata": {},
   "outputs": [],
   "source": [
    "# Importing all required packages\n",
    "import numpy as np\n",
    "import pandas as pd\n",
    "import matplotlib.pyplot as plt\n",
    "import seaborn as sns\n",
    "import csv\n",
    "import sqlite3\n",
    "conn = sqlite3.connect('research.db')"
   ]
  },
  {
   "cell_type": "code",
   "execution_count": 17,
   "metadata": {},
   "outputs": [],
   "source": [
    "data= pd.read_csv('cleaned_4.csv')"
   ]
  },
  {
   "cell_type": "code",
   "execution_count": 19,
   "metadata": {},
   "outputs": [
    {
     "data": {
      "text/plain": [
       "Index(['Id', 'StageName', 'Status_Reason__c', 'RecordType.Name',\n",
       "       'RICE_Supported__c', 'CreatedDate', 'AccountId', 'Lead_Faculty__c',\n",
       "       'Parent_Opportunity__c', 'RecordType.Name.1', 'Industry',\n",
       "       'Business_Type__c', 'ParentId', 'RecordType', 'CreatedDate_month',\n",
       "       'Is_External__c'],\n",
       "      dtype='object')"
      ]
     },
     "execution_count": 19,
     "metadata": {},
     "output_type": "execute_result"
    }
   ],
   "source": [
    "data.columns"
   ]
  },
  {
   "cell_type": "code",
   "execution_count": 20,
   "metadata": {},
   "outputs": [],
   "source": [
    "data=data.drop(['Id','Status_Reason__c','AccountId'],axis=1)"
   ]
  },
  {
   "cell_type": "code",
   "execution_count": 22,
   "metadata": {},
   "outputs": [
    {
     "data": {
      "text/html": [
       "<div>\n",
       "<style scoped>\n",
       "    .dataframe tbody tr th:only-of-type {\n",
       "        vertical-align: middle;\n",
       "    }\n",
       "\n",
       "    .dataframe tbody tr th {\n",
       "        vertical-align: top;\n",
       "    }\n",
       "\n",
       "    .dataframe thead th {\n",
       "        text-align: right;\n",
       "    }\n",
       "</style>\n",
       "<table border=\"1\" class=\"dataframe\">\n",
       "  <thead>\n",
       "    <tr style=\"text-align: right;\">\n",
       "      <th></th>\n",
       "      <th>StageName</th>\n",
       "      <th>RecordType.Name</th>\n",
       "      <th>RICE_Supported__c</th>\n",
       "      <th>CreatedDate</th>\n",
       "      <th>Lead_Faculty__c</th>\n",
       "      <th>Parent_Opportunity__c</th>\n",
       "      <th>RecordType.Name.1</th>\n",
       "      <th>Industry</th>\n",
       "      <th>Business_Type__c</th>\n",
       "      <th>ParentId</th>\n",
       "      <th>RecordType</th>\n",
       "      <th>CreatedDate_month</th>\n",
       "      <th>Is_External__c</th>\n",
       "    </tr>\n",
       "  </thead>\n",
       "  <tbody>\n",
       "    <tr>\n",
       "      <th>0</th>\n",
       "      <td>0</td>\n",
       "      <td>Custom Education (MSPACE Included)</td>\n",
       "      <td>RIC-BD&amp;I</td>\n",
       "      <td>2019</td>\n",
       "      <td>0012e000002ZGfbAAG</td>\n",
       "      <td>0</td>\n",
       "      <td>Business Organization</td>\n",
       "      <td>Health</td>\n",
       "      <td>Multinational / Other Large Corporate</td>\n",
       "      <td>0</td>\n",
       "      <td>Custom Education (MSPACE Included)Business Org...</td>\n",
       "      <td>11</td>\n",
       "      <td>External</td>\n",
       "    </tr>\n",
       "    <tr>\n",
       "      <th>1</th>\n",
       "      <td>1</td>\n",
       "      <td>Parent Grant</td>\n",
       "      <td>RIC-RE&amp;D</td>\n",
       "      <td>2018</td>\n",
       "      <td>0</td>\n",
       "      <td>0</td>\n",
       "      <td>Business Organization</td>\n",
       "      <td>Public Administration</td>\n",
       "      <td>Government: Australia: Federal</td>\n",
       "      <td>1</td>\n",
       "      <td>Parent GrantBusiness Organization</td>\n",
       "      <td>11</td>\n",
       "      <td>External</td>\n",
       "    </tr>\n",
       "    <tr>\n",
       "      <th>2</th>\n",
       "      <td>1</td>\n",
       "      <td>Parent Grant</td>\n",
       "      <td>RIC-RE&amp;D</td>\n",
       "      <td>2018</td>\n",
       "      <td>0</td>\n",
       "      <td>0</td>\n",
       "      <td>Business Organization</td>\n",
       "      <td>Public Administration</td>\n",
       "      <td>Government: Australia: Federal</td>\n",
       "      <td>1</td>\n",
       "      <td>Parent GrantBusiness Organization</td>\n",
       "      <td>11</td>\n",
       "      <td>External</td>\n",
       "    </tr>\n",
       "    <tr>\n",
       "      <th>3</th>\n",
       "      <td>1</td>\n",
       "      <td>Parent Grant</td>\n",
       "      <td>Not supported</td>\n",
       "      <td>2019</td>\n",
       "      <td>0</td>\n",
       "      <td>0</td>\n",
       "      <td>Business Organization</td>\n",
       "      <td>Health</td>\n",
       "      <td>Government: Australia: Federal</td>\n",
       "      <td>0</td>\n",
       "      <td>Parent GrantBusiness Organization</td>\n",
       "      <td>11</td>\n",
       "      <td>External</td>\n",
       "    </tr>\n",
       "    <tr>\n",
       "      <th>4</th>\n",
       "      <td>1</td>\n",
       "      <td>Parent Grant</td>\n",
       "      <td>RIC-RE&amp;D</td>\n",
       "      <td>2017</td>\n",
       "      <td>0</td>\n",
       "      <td>0</td>\n",
       "      <td>Business Organization</td>\n",
       "      <td>Public Administration</td>\n",
       "      <td>Government: Australia: Federal</td>\n",
       "      <td>1</td>\n",
       "      <td>Parent GrantBusiness Organization</td>\n",
       "      <td>11</td>\n",
       "      <td>External</td>\n",
       "    </tr>\n",
       "  </tbody>\n",
       "</table>\n",
       "</div>"
      ],
      "text/plain": [
       "   StageName                     RecordType.Name RICE_Supported__c  \\\n",
       "0          0  Custom Education (MSPACE Included)          RIC-BD&I   \n",
       "1          1                        Parent Grant          RIC-RE&D   \n",
       "2          1                        Parent Grant          RIC-RE&D   \n",
       "3          1                        Parent Grant     Not supported   \n",
       "4          1                        Parent Grant          RIC-RE&D   \n",
       "\n",
       "   CreatedDate     Lead_Faculty__c  Parent_Opportunity__c  \\\n",
       "0         2019  0012e000002ZGfbAAG                      0   \n",
       "1         2018                   0                      0   \n",
       "2         2018                   0                      0   \n",
       "3         2019                   0                      0   \n",
       "4         2017                   0                      0   \n",
       "\n",
       "       RecordType.Name.1               Industry  \\\n",
       "0  Business Organization                 Health   \n",
       "1  Business Organization  Public Administration   \n",
       "2  Business Organization  Public Administration   \n",
       "3  Business Organization                 Health   \n",
       "4  Business Organization  Public Administration   \n",
       "\n",
       "                        Business_Type__c  ParentId  \\\n",
       "0  Multinational / Other Large Corporate         0   \n",
       "1         Government: Australia: Federal         1   \n",
       "2         Government: Australia: Federal         1   \n",
       "3         Government: Australia: Federal         0   \n",
       "4         Government: Australia: Federal         1   \n",
       "\n",
       "                                          RecordType  CreatedDate_month  \\\n",
       "0  Custom Education (MSPACE Included)Business Org...                 11   \n",
       "1                  Parent GrantBusiness Organization                 11   \n",
       "2                  Parent GrantBusiness Organization                 11   \n",
       "3                  Parent GrantBusiness Organization                 11   \n",
       "4                  Parent GrantBusiness Organization                 11   \n",
       "\n",
       "  Is_External__c  \n",
       "0       External  \n",
       "1       External  \n",
       "2       External  \n",
       "3       External  \n",
       "4       External  "
      ]
     },
     "execution_count": 22,
     "metadata": {},
     "output_type": "execute_result"
    }
   ],
   "source": [
    "data.head()"
   ]
  },
  {
   "cell_type": "code",
   "execution_count": 21,
   "metadata": {},
   "outputs": [],
   "source": [
    "X = data.iloc[:, 1:].values\n",
    "y = data.iloc[:, 0].values"
   ]
  },
  {
   "cell_type": "code",
   "execution_count": 23,
   "metadata": {},
   "outputs": [],
   "source": [
    "from sklearn.preprocessing import LabelEncoder\n",
    "\n",
    "labelencoder_X = LabelEncoder()\n",
    "X[:,0] = labelencoder_X.fit_transform(X[:,0]) #opptype\n",
    "X[:,1] = labelencoder_X.fit_transform(X[:,1]) #RIC Supppoted\n",
    "X[:,2] = labelencoder_X.fit_transform(X[:,2]) #create year\n",
    "X[:,3] = labelencoder_X.fit_transform(X[:,3]) #faculty\n",
    "X[:,5] = labelencoder_X.fit_transform(X[:,5])\n",
    "X[:,6] = labelencoder_X.fit_transform(X[:,6])\n",
    "X[:,7] = labelencoder_X.fit_transform(X[:,7])\n",
    "X[:,9] = labelencoder_X.fit_transform(X[:,9])\n",
    "X[:,11] = labelencoder_X.fit_transform(X[:,11])\n",
    "\n",
    "labelencoder_y = LabelEncoder()\n",
    "y = labelencoder_y.fit_transform(y)\n"
   ]
  },
  {
   "cell_type": "code",
   "execution_count": 24,
   "metadata": {},
   "outputs": [
    {
     "name": "stdout",
     "output_type": "stream",
     "text": [
      "Train (4841, 12) (4841,)\n",
      "Test (1211, 12) (1211,)\n"
     ]
    }
   ],
   "source": [
    "from sklearn.model_selection import train_test_split\n",
    "from sklearn.model_selection import cross_val_score\n",
    "from matplotlib import pyplot\n",
    "# split into train and test sets\n",
    "X_train, X_test, y_train, y_test = train_test_split(X, y, test_size=0.2, random_state=1)\n",
    "# summarize\n",
    "print('Train', X_train.shape, y_train.shape)\n",
    "print('Test', X_test.shape, y_test.shape)"
   ]
  },
  {
   "cell_type": "code",
   "execution_count": 26,
   "metadata": {},
   "outputs": [
    {
     "name": "stderr",
     "output_type": "stream",
     "text": [
      "C:\\Users\\BingLesleyYuan\\Anaconda3\\lib\\site-packages\\sklearn\\linear_model\\_logistic.py:764: ConvergenceWarning: lbfgs failed to converge (status=1):\n",
      "STOP: TOTAL NO. of ITERATIONS EXCEEDS LIMIT.\n",
      "\n",
      "Increase the number of iterations (max_iter) or scale the data as shown in:\n",
      "    https://scikit-learn.org/stable/modules/preprocessing.html\n",
      "Please also refer to the documentation for alternative solver options:\n",
      "    https://scikit-learn.org/stable/modules/linear_model.html#logistic-regression\n",
      "  extra_warning_msg=_LOGISTIC_SOLVER_CONVERGENCE_MSG)\n"
     ]
    },
    {
     "name": "stdout",
     "output_type": "stream",
     "text": [
      "Accuracy of Logistic regression classifier on training set: 0.66\n",
      "Accuracy of Logistic regression classifier on test set: 0.65\n",
      "[0.63861386 0.65511551 0.64628099 0.61983471 0.5553719  0.65619835\n",
      " 0.61983471 0.58842975 0.64297521 0.65950413]\n"
     ]
    }
   ],
   "source": [
    "from sklearn.linear_model import LogisticRegression\n",
    "logreg = LogisticRegression()\n",
    "logreg.fit(X_train, y_train)\n",
    "print('Accuracy of Logistic regression classifier on training set: {:.2f}'\n",
    "     .format(logreg.score(X_train, y_train)))\n",
    "print('Accuracy of Logistic regression classifier on test set: {:.2f}'\n",
    "     .format(logreg.score(X_test, y_test)))\n",
    "\n",
    "scores = cross_val_score(estimator=logreg, X=X, y=y, cv=10, n_jobs=4)\n",
    "print(scores)"
   ]
  },
  {
   "cell_type": "code",
   "execution_count": 27,
   "metadata": {},
   "outputs": [
    {
     "name": "stdout",
     "output_type": "stream",
     "text": [
      "Feature: 0, Score: -0.13793\n",
      "Feature: 1, Score: 0.22992\n",
      "Feature: 2, Score: -0.05488\n",
      "Feature: 3, Score: 0.07960\n",
      "Feature: 4, Score: -0.39956\n",
      "Feature: 5, Score: 0.24323\n",
      "Feature: 6, Score: -0.00693\n",
      "Feature: 7, Score: -0.01000\n",
      "Feature: 8, Score: -0.15221\n",
      "Feature: 9, Score: 0.10363\n",
      "Feature: 10, Score: -0.02982\n",
      "Feature: 11, Score: -2.40888\n"
     ]
    },
    {
     "data": {
      "image/png": "[encoded data removed]",
      "text/plain": [
       "<matplotlib.figure.Figure at 0x20c6aefc6a0>"
      ]
     },
     "metadata": {},
     "output_type": "display_data"
    }
   ],
   "source": [
    "# get importance\n",
    "importance = logreg.coef_[0]\n",
    "# summarize feature importance\n",
    "for i,v in enumerate(importance):\n",
    "    print('Feature: %0d, Score: %.5f' % (i,v))\n",
    "# plot feature importance\n",
    "pyplot.bar([x for x in range(len(importance))], importance)\n",
    "pyplot.show()"
   ]
  },
  {
   "cell_type": "code",
   "execution_count": null,
   "metadata": {},
   "outputs": [],
   "source": []
  }
 ],
 "metadata": {
  "kernelspec": {
   "display_name": "Python 3",
   "language": "python",
   "name": "python3"
  },
  "language_info": {
   "codemirror_mode": {
    "name": "ipython",
    "version": 3
   },
   "file_extension": ".py",
   "mimetype": "text/x-python",
   "name": "python",
   "nbconvert_exporter": "python",
   "pygments_lexer": "ipython3",
   "version": "3.6.4"
  }
 },
 "nbformat": 4,
 "nbformat_minor": 2
}
